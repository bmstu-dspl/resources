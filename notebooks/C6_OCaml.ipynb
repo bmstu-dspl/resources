{
 "cells": [
  {
   "cell_type": "markdown",
   "metadata": {},
   "source": [
    "# Знакомство с <span style=\"font-weight:bold; color:#dc8a33\">OCaml</span>\n",
    "\n",
    "<div style=\"text-align:right;\">Гейне М.А. <span style=\"font-style: italic;font-weight: bold;\">(geine@bmstu.ru)</div>"
   ]
  },
  {
   "cell_type": "markdown",
   "metadata": {},
   "source": [
    "Как запустить:\n",
    "\n",
    "- [Установите OCaml](https://ocaml.org/install)\n",
    "- Создайте OPAM-switch для занятия. Это должен быть switch с минимальным количеством установленных пакетов. Например, `opam switch create jptr ocaml-base-compiler.4.14.0`\n",
    "- Установите OCaml-Jupyter с помощью `opam install jupyter`\n",
    "- Также установите пакеты, необходимые для работы: `opam install ounit2 qcheck menhir zarith utop`\n",
    "- Для удобства редактирования кода OCaml в VS Code во время работы с тетрадью также установите эти пакеты: `opam install ocaml-lsp-server ocamlformat`\n",
    "- Запустите `ocaml-jupyter-opam-genspec`\n",
    "- Выполните команду `jupyter kernelspec install --user --name ocaml-jupyter \"$(opam var share)/jupyter\"`"
   ]
  },
  {
   "cell_type": "code",
   "execution_count": null,
   "metadata": {
    "vscode": {
     "languageId": "ocaml"
    }
   },
   "outputs": [],
   "source": [
    "print_endline \"Hello world!\""
   ]
  },
  {
   "cell_type": "markdown",
   "metadata": {},
   "source": [
    "Вы уже умеете программировать на основных языках, таких как Python или Java? Отлично. Этот урок для вас. Пришло время научиться программировать лучше. Пришло время изучить функциональный язык <span style=\"font-weight:bold; color:#dc8a33\">OCaml</span>.\n",
    "\n",
    "Я верю, что изучение OCaml сделает вас лучшим программистом. Вот почему:\n",
    "\n",
    "- Вы ощутите свободу _иммутабельности_, при которой значения так называемых \"переменных\" не могут меняться. Прощай, отладка.\n",
    "- Вы станете лучше разбираться в _абстракции_ - практике избегания повторений путем вычитания общих черт. Прощай, раздутый код.\n",
    "- Вы познакомитесь с системой _типов_, которую поначалу будете ненавидеть, потому что она отвергает программы, которые вы считаете правильными. Но вы полюбите ее, потому что смиренно поймете, что она была права, а ваши программы - ошибочны. Прощайте, неудачные тесты.\n",
    "- Вы познакомитесь с теорией и реализацией языков программирования, что поможет вам понять основы того, что вы говорите компьютеру, когда пишете код. Прощайте, таинственные и волшебные заклинания."
   ]
  },
  {
   "cell_type": "markdown",
   "metadata": {},
   "source": [
    "## Основы языка\n",
    "\n",
    "Все выражения занятия можно выполнять как в тетради, так и в REPL (*read-eval-print-loop*) `utop`."
   ]
  },
  {
   "cell_type": "code",
   "execution_count": null,
   "metadata": {
    "vscode": {
     "languageId": "ocaml"
    }
   },
   "outputs": [],
   "source": [
    "42"
   ]
  },
  {
   "cell_type": "markdown",
   "metadata": {},
   "source": [
    "`let` используется для *связывания* имени с его значением"
   ]
  },
  {
   "cell_type": "code",
   "execution_count": null,
   "metadata": {
    "vscode": {
     "languageId": "ocaml"
    }
   },
   "outputs": [],
   "source": [
    "let x = 42"
   ]
  },
  {
   "cell_type": "markdown",
   "metadata": {},
   "source": [
    "В примере выше определено, что \"x имеет тип int и значение 42\""
   ]
  },
  {
   "cell_type": "markdown",
   "metadata": {},
   "source": [
    "Функции также могут быть определены через `let`"
   ]
  },
  {
   "cell_type": "code",
   "execution_count": null,
   "metadata": {
    "vscode": {
     "languageId": "ocaml"
    }
   },
   "outputs": [],
   "source": [
    "let increment x = x + 1"
   ]
  },
  {
   "cell_type": "markdown",
   "metadata": {},
   "source": [
    "Синтаксис определения функций в Ocaml по сути такой же, как и синтаксис определения переменных, что делает еще более очевидным тот факт, что \"функция - это тоже часть данных\"."
   ]
  },
  {
   "cell_type": "markdown",
   "metadata": {},
   "source": [
    "Вычислить значение функции можно следующими способами"
   ]
  },
  {
   "cell_type": "code",
   "execution_count": null,
   "metadata": {
    "vscode": {
     "languageId": "ocaml"
    }
   },
   "outputs": [],
   "source": [
    "increment 0"
   ]
  },
  {
   "cell_type": "code",
   "execution_count": null,
   "metadata": {
    "vscode": {
     "languageId": "ocaml"
    }
   },
   "outputs": [],
   "source": [
    "increment(21)"
   ]
  },
  {
   "cell_type": "code",
   "execution_count": null,
   "metadata": {
    "vscode": {
     "languageId": "ocaml"
    }
   },
   "outputs": [],
   "source": [
    "increment (increment 5)"
   ]
  },
  {
   "cell_type": "code",
   "execution_count": null,
   "metadata": {
    "vscode": {
     "languageId": "ocaml"
    }
   },
   "outputs": [],
   "source": [
    "increment increment 5"
   ]
  },
  {
   "cell_type": "markdown",
   "metadata": {},
   "source": [
    "### Выражения\n",
    "\n",
    "Целые числа"
   ]
  },
  {
   "cell_type": "code",
   "execution_count": null,
   "metadata": {
    "vscode": {
     "languageId": "ocaml"
    }
   },
   "outputs": [],
   "source": [
    "65 / 60"
   ]
  },
  {
   "cell_type": "code",
   "execution_count": null,
   "metadata": {
    "vscode": {
     "languageId": "ocaml"
    }
   },
   "outputs": [],
   "source": [
    "65 mod 60"
   ]
  },
  {
   "cell_type": "code",
   "execution_count": null,
   "metadata": {
    "vscode": {
     "languageId": "ocaml"
    }
   },
   "outputs": [],
   "source": [
    "65 / 0"
   ]
  },
  {
   "cell_type": "markdown",
   "metadata": {},
   "source": [
    "`float`-ы в OCaml соответствуют `double` и пишутся обязательно с точкой"
   ]
  },
  {
   "cell_type": "code",
   "execution_count": null,
   "metadata": {
    "vscode": {
     "languageId": "ocaml"
    }
   },
   "outputs": [],
   "source": [
    "3."
   ]
  },
  {
   "cell_type": "code",
   "execution_count": null,
   "metadata": {
    "vscode": {
     "languageId": "ocaml"
    }
   },
   "outputs": [],
   "source": [
    "3"
   ]
  },
  {
   "cell_type": "markdown",
   "metadata": {},
   "source": [
    "В OCaml умышленно нет перегрузок операторов для чистоты типов"
   ]
  },
  {
   "cell_type": "code",
   "execution_count": null,
   "metadata": {
    "vscode": {
     "languageId": "ocaml"
    }
   },
   "outputs": [],
   "source": [
    "3.14 *. 2."
   ]
  },
  {
   "cell_type": "code",
   "execution_count": null,
   "metadata": {
    "vscode": {
     "languageId": "ocaml"
    }
   },
   "outputs": [],
   "source": [
    "3.14 * 2."
   ]
  },
  {
   "cell_type": "markdown",
   "metadata": {},
   "source": [
    "В OCaml нет автоматического преобразования типов, оно должно быть явным"
   ]
  },
  {
   "cell_type": "code",
   "execution_count": null,
   "metadata": {
    "vscode": {
     "languageId": "ocaml"
    }
   },
   "outputs": [],
   "source": [
    "3.14 *. (float_of_int 2)"
   ]
  },
  {
   "cell_type": "markdown",
   "metadata": {},
   "source": [
    "Символы записываются в одинарных кавычках"
   ]
  },
  {
   "cell_type": "code",
   "execution_count": null,
   "metadata": {
    "vscode": {
     "languageId": "ocaml"
    }
   },
   "outputs": [],
   "source": [
    "'c'"
   ]
  },
  {
   "cell_type": "markdown",
   "metadata": {},
   "source": [
    "А строки - в двойных"
   ]
  },
  {
   "cell_type": "code",
   "execution_count": null,
   "metadata": {
    "vscode": {
     "languageId": "ocaml"
    }
   },
   "outputs": [],
   "source": [
    "\"c\""
   ]
  },
  {
   "cell_type": "markdown",
   "metadata": {},
   "source": [
    "Конкатенация строк записывается через оператор `^`"
   ]
  },
  {
   "cell_type": "code",
   "execution_count": null,
   "metadata": {
    "vscode": {
     "languageId": "ocaml"
    }
   },
   "outputs": [],
   "source": [
    "\"abc\" ^ \"def\""
   ]
  },
  {
   "cell_type": "code",
   "execution_count": null,
   "metadata": {
    "vscode": {
     "languageId": "ocaml"
    }
   },
   "outputs": [],
   "source": [
    "string_of_int 42"
   ]
  },
  {
   "cell_type": "code",
   "execution_count": null,
   "metadata": {
    "vscode": {
     "languageId": "ocaml"
    }
   },
   "outputs": [],
   "source": [
    "int_of_string \"123\""
   ]
  },
  {
   "cell_type": "code",
   "execution_count": null,
   "metadata": {
    "vscode": {
     "languageId": "ocaml"
    }
   },
   "outputs": [],
   "source": [
    "\"abc\".[0]"
   ]
  },
  {
   "cell_type": "markdown",
   "metadata": {},
   "source": [
    "### Условия"
   ]
  },
  {
   "cell_type": "code",
   "execution_count": null,
   "metadata": {
    "vscode": {
     "languageId": "ocaml"
    }
   },
   "outputs": [],
   "source": [
    "if 3 + 5 > 2 then \"yay!\" else \"boo!\""
   ]
  },
  {
   "cell_type": "markdown",
   "metadata": {},
   "source": [
    "Если в привычных нам языках *if-then-else* является утверждением, конструкцией, то в OCaml *if-then-else* является выражением, точно таким же, как предыдущие. Это значит, что *if-then-else* может быть в любом месте, где корректно использовать выражение, и что выражение имеет значение"
   ]
  },
  {
   "cell_type": "code",
   "execution_count": null,
   "metadata": {
    "vscode": {
     "languageId": "ocaml"
    }
   },
   "outputs": [],
   "source": [
    "4 + (if 'a' = 'b' then 1 else 2)"
   ]
  },
  {
   "cell_type": "markdown",
   "metadata": {},
   "source": [
    "### Области видимости"
   ]
  },
  {
   "cell_type": "markdown",
   "metadata": {},
   "source": [
    "Выражение `let name = val in expr` связывает имя `name` с значением `value` и делает доступным это имя только в выражении `expr`"
   ]
  },
  {
   "cell_type": "code",
   "execution_count": null,
   "metadata": {
    "vscode": {
     "languageId": "ocaml"
    }
   },
   "outputs": [],
   "source": [
    "let x = 42 in\n",
    "  (* y is not meaningful here *)\n",
    "  x + (let y = \"3110\" in\n",
    "         (* y is meaningful here *)\n",
    "         int_of_string y)"
   ]
  },
  {
   "cell_type": "code",
   "execution_count": null,
   "metadata": {
    "vscode": {
     "languageId": "ocaml"
    }
   },
   "outputs": [],
   "source": [
    "let x = 5 in\n",
    "  ((let x = 6 in x) + x)"
   ]
  },
  {
   "cell_type": "markdown",
   "metadata": {},
   "source": [
    "Мы видим, что имена в контекстах могут совпадать, но это достаточно сильно может путать, поэтому так делать не стоит"
   ]
  },
  {
   "cell_type": "markdown",
   "metadata": {},
   "source": [
    "### Аннотации типов\n",
    "\n",
    "OCaml самостоятельно выводит типы выражений. Однако, иногда может быть полезным вручную указать тип"
   ]
  },
  {
   "cell_type": "code",
   "execution_count": null,
   "metadata": {
    "vscode": {
     "languageId": "ocaml"
    }
   },
   "outputs": [],
   "source": [
    "(5 : int)"
   ]
  },
  {
   "cell_type": "code",
   "execution_count": null,
   "metadata": {
    "vscode": {
     "languageId": "ocaml"
    }
   },
   "outputs": [],
   "source": [
    "(5 : float)"
   ]
  },
  {
   "cell_type": "markdown",
   "metadata": {},
   "source": [
    "### Функции\n",
    "\n",
    "Функции объявляются практически так же, как и имена связываются со значениями, но с небольшим отличием: помимо имени функции необходимо также перечислить имена её параметров"
   ]
  },
  {
   "cell_type": "code",
   "execution_count": null,
   "metadata": {
    "vscode": {
     "languageId": "ocaml"
    }
   },
   "outputs": [],
   "source": [
    "let add2 x =\n",
    "  x + 2"
   ]
  },
  {
   "cell_type": "markdown",
   "metadata": {},
   "source": [
    "Для объявления рекурсивной функции необходимо воспользоваться ключевым словом `rec`"
   ]
  },
  {
   "cell_type": "code",
   "execution_count": null,
   "metadata": {
    "vscode": {
     "languageId": "ocaml"
    }
   },
   "outputs": [],
   "source": [
    "let rec fact n = if n = 0 then 1 else n * fact (n - 1)"
   ]
  },
  {
   "cell_type": "code",
   "execution_count": null,
   "metadata": {
    "vscode": {
     "languageId": "ocaml"
    }
   },
   "outputs": [],
   "source": [
    "(** [pow x y] is [x] to the power of [y].\n",
    "     Requires: [y >= 0]. *)\n",
    "let rec pow x y = if y = 0 then 1 else x * pow x (y - 1)"
   ]
  },
  {
   "cell_type": "code",
   "execution_count": null,
   "metadata": {
    "vscode": {
     "languageId": "ocaml"
    }
   },
   "outputs": [],
   "source": [
    "pow 2 4"
   ]
  },
  {
   "cell_type": "markdown",
   "metadata": {},
   "source": [
    "Взаимно рекурсивные функции определяются с помощью `and`"
   ]
  },
  {
   "cell_type": "code",
   "execution_count": null,
   "metadata": {
    "vscode": {
     "languageId": "ocaml"
    }
   },
   "outputs": [],
   "source": [
    "(** [even n] is whether [n] is even.\n",
    "    Requires: [n >= 0]. *)\n",
    "let rec even n =\n",
    "  n = 0 || odd (n - 1)\n",
    "\n",
    "(** [odd n] is whether [n] is odd.\n",
    "    Requires: [n >= 0]. *)\n",
    "and odd n =\n",
    "  n <> 0 && even (n - 1);;"
   ]
  },
  {
   "cell_type": "code",
   "execution_count": null,
   "metadata": {
    "vscode": {
     "languageId": "ocaml"
    }
   },
   "outputs": [],
   "source": [
    "odd 12"
   ]
  },
  {
   "cell_type": "markdown",
   "metadata": {},
   "source": [
    "Синтаксис для типов функций следующий:\n",
    "\n",
    "```\n",
    "t -> u\n",
    "t1 -> t2 -> u\n",
    "t1 -> ... -> tn -> u\n",
    "```\n",
    "\n",
    "`t` и `u` являются метапеременными, указывающими на типы. Тип `t -> u` - это тип функции, которая принимает вход типа `t` и возвращает выход типа `u`. Мы можем считать `t1 -> t2 -> u` типом функции, которая принимает два входа, первый из которых типа `t1`, а второй типа `t2`, и возвращает выход типа `u`. Аналогично для функции, принимающей `n` аргументов."
   ]
  },
  {
   "cell_type": "markdown",
   "metadata": {},
   "source": [
    "Анонимные функции задаются с помощью `fun`"
   ]
  },
  {
   "cell_type": "code",
   "execution_count": null,
   "metadata": {
    "vscode": {
     "languageId": "ocaml"
    }
   },
   "outputs": [],
   "source": [
    "let inc x = x + 1\n",
    "let inc = fun x -> x + 1"
   ]
  },
  {
   "cell_type": "markdown",
   "metadata": {},
   "source": [
    "### Pipeline\n",
    "\n",
    "Можно связать несколько функций в цепь с помощью оператора `|>` (`|` и `>`). Pipeline подставит левую часть выражения в конец выражения в правой части"
   ]
  },
  {
   "cell_type": "code",
   "execution_count": null,
   "metadata": {
    "vscode": {
     "languageId": "ocaml"
    }
   },
   "outputs": [],
   "source": [
    "let square x = x * x"
   ]
  },
  {
   "cell_type": "code",
   "execution_count": null,
   "metadata": {
    "vscode": {
     "languageId": "ocaml"
    }
   },
   "outputs": [],
   "source": [
    "square (inc 5)"
   ]
  },
  {
   "cell_type": "code",
   "execution_count": null,
   "metadata": {
    "vscode": {
     "languageId": "ocaml"
    }
   },
   "outputs": [],
   "source": [
    "5 |> inc |> square"
   ]
  },
  {
   "cell_type": "code",
   "execution_count": null,
   "metadata": {
    "vscode": {
     "languageId": "ocaml"
    }
   },
   "outputs": [],
   "source": [
    "square (inc (inc (square (inc 5))))"
   ]
  },
  {
   "cell_type": "code",
   "execution_count": null,
   "metadata": {
    "vscode": {
     "languageId": "ocaml"
    }
   },
   "outputs": [],
   "source": [
    "5 |> inc |> square |> inc |> inc |> square"
   ]
  },
  {
   "cell_type": "markdown",
   "metadata": {},
   "source": [
    "### Полиморфные функции\n",
    "\n",
    "Не все функции строго определяют типы параметров. К примеру, функция определения:"
   ]
  },
  {
   "cell_type": "code",
   "execution_count": null,
   "metadata": {
    "vscode": {
     "languageId": "ocaml"
    }
   },
   "outputs": [],
   "source": [
    "let id x = x"
   ]
  },
  {
   "cell_type": "markdown",
   "metadata": {},
   "source": [
    "`'a` - переменная типа. Она означает, что тип переменной не установлен и может быть любым. Часто используемые переменные типа включают `'a`, `'b` и `'c`, которые в OCaml обычно произносят по-гречески: альфа, бета и гамма."
   ]
  },
  {
   "cell_type": "code",
   "execution_count": null,
   "metadata": {
    "vscode": {
     "languageId": "ocaml"
    }
   },
   "outputs": [],
   "source": [
    "id 42;;\n",
    "id true;;\n",
    "id \"bigred\";;"
   ]
  },
  {
   "cell_type": "markdown",
   "metadata": {},
   "source": [
    "Если вручную аннотировать типы, то можно ограничить тип функции, который был бы выведен компилятором автоматически"
   ]
  },
  {
   "cell_type": "code",
   "execution_count": null,
   "metadata": {
    "vscode": {
     "languageId": "ocaml"
    }
   },
   "outputs": [],
   "source": [
    "let id_int (x : int) : int = x"
   ]
  },
  {
   "cell_type": "code",
   "execution_count": null,
   "metadata": {
    "vscode": {
     "languageId": "ocaml"
    }
   },
   "outputs": [],
   "source": [
    "id_int true"
   ]
  },
  {
   "cell_type": "markdown",
   "metadata": {},
   "source": [
    "Другим способом записи `id_int` было бы выражение через `id`:"
   ]
  },
  {
   "cell_type": "code",
   "execution_count": null,
   "metadata": {
    "vscode": {
     "languageId": "ocaml"
    }
   },
   "outputs": [],
   "source": [
    "let id_int' : int -> int = id"
   ]
  },
  {
   "cell_type": "markdown",
   "metadata": {},
   "source": [
    "Тип `id_int` определяет один из аспектов его ***поведения***: если на вход подается `int`, он обещает выдать `int` на выходе. Оказывается, что `id` тоже дает такое же обещание: если на вход подано `int`, то на выходе оно тоже вернет `int`. Но `id` дает еще больше обещаний, например: если на вход подается `bool`, то на выходе он вернет `bool`. Поэтому, привязав `id` к более строгому типу `int -> int`, мы отбросили все эти дополнительные обещания как несущественные. Конечно, это потерянная информация, но, по крайней мере, ни одно обещание не будет нарушено. Всегда будет безопасно использовать функцию типа `'a -> 'a`, когда нам нужна была функция типа `int -> int`.\n",
    "\n",
    "Однако обратное утверждение невозможно. Мы не можем взять функцию типа `int -> int` и расширить до типа `'a -> 'a`. "
   ]
  },
  {
   "cell_type": "code",
   "execution_count": null,
   "metadata": {
    "vscode": {
     "languageId": "ocaml"
    }
   },
   "outputs": [],
   "source": [
    "let id' : 'a -> 'a = fun x -> x + 1"
   ]
  },
  {
   "cell_type": "code",
   "execution_count": null,
   "metadata": {
    "vscode": {
     "languageId": "ocaml"
    }
   },
   "outputs": [],
   "source": [
    "id' true"
   ]
  },
  {
   "cell_type": "markdown",
   "metadata": {},
   "source": [
    "Это приводит нас к другому, более механическому, способу думать обо всем этом в терминах **применения**. Под этим мы понимаем то же самое представление о том, как функция применяется к аргументам: при оценке выражения `id 5` аргумент `x` _инстанцируется_ со значением `5`. Аналогично, `'a` в типе `id` инстанцируется с типом `int` в этом применении."
   ]
  },
  {
   "cell_type": "markdown",
   "metadata": {},
   "source": [
    "### Именованные и опциональные аргументы"
   ]
  },
  {
   "cell_type": "code",
   "execution_count": null,
   "metadata": {
    "vscode": {
     "languageId": "ocaml"
    }
   },
   "outputs": [],
   "source": [
    "let f ~name1:arg1 ~name2:arg2 = arg1 + arg2"
   ]
  },
  {
   "cell_type": "code",
   "execution_count": null,
   "metadata": {
    "vscode": {
     "languageId": "ocaml"
    }
   },
   "outputs": [],
   "source": [
    "f ~name2:3 ~name1:4"
   ]
  },
  {
   "cell_type": "code",
   "execution_count": null,
   "metadata": {
    "vscode": {
     "languageId": "ocaml"
    }
   },
   "outputs": [],
   "source": [
    "let f ~name1:(arg1 : int) ~name2:(arg2 : int) = arg1 + arg2"
   ]
  },
  {
   "cell_type": "code",
   "execution_count": null,
   "metadata": {
    "vscode": {
     "languageId": "ocaml"
    }
   },
   "outputs": [],
   "source": [
    "let f ?name:(arg1=8) arg2 = arg1 + arg2"
   ]
  },
  {
   "cell_type": "code",
   "execution_count": null,
   "metadata": {
    "vscode": {
     "languageId": "ocaml"
    }
   },
   "outputs": [],
   "source": [
    "f ~name:2 7"
   ]
  },
  {
   "cell_type": "code",
   "execution_count": null,
   "metadata": {
    "vscode": {
     "languageId": "ocaml"
    }
   },
   "outputs": [],
   "source": [
    "f 7"
   ]
  },
  {
   "cell_type": "markdown",
   "metadata": {},
   "source": [
    "### Частичное применение"
   ]
  },
  {
   "cell_type": "code",
   "execution_count": null,
   "metadata": {
    "vscode": {
     "languageId": "ocaml"
    }
   },
   "outputs": [],
   "source": [
    "let add x y = x + y"
   ]
  },
  {
   "cell_type": "code",
   "execution_count": null,
   "metadata": {
    "vscode": {
     "languageId": "ocaml"
    }
   },
   "outputs": [],
   "source": [
    "let addx x = fun y -> x + y"
   ]
  },
  {
   "cell_type": "markdown",
   "metadata": {},
   "source": [
    "Функция `addx` принимает на вход целое число `x` и возвращает _функцию_ типа `int -> int`, которая добавит `x` к тому, что ей передано.\n",
    "\n",
    "Тип `addx` - это `int -> int -> int`. Тип `add` также `int -> int -> int`. Таким образом, с точки зрения их типов, это одна и та же функция. Но форма `addx` предполагает нечто интересное: мы можем применять ее только к одному аргументу."
   ]
  },
  {
   "cell_type": "code",
   "execution_count": null,
   "metadata": {
    "vscode": {
     "languageId": "ocaml"
    }
   },
   "outputs": [],
   "source": [
    "let add5 = addx 5"
   ]
  },
  {
   "cell_type": "code",
   "execution_count": null,
   "metadata": {
    "vscode": {
     "languageId": "ocaml"
    }
   },
   "outputs": [],
   "source": [
    "add5 2"
   ]
  },
  {
   "cell_type": "code",
   "execution_count": null,
   "metadata": {
    "vscode": {
     "languageId": "ocaml"
    }
   },
   "outputs": [],
   "source": [
    "let add5 = add 5"
   ]
  },
  {
   "cell_type": "markdown",
   "metadata": {},
   "source": [
    "Оказывается, то же самое можно сделать с помощью `add`:"
   ]
  },
  {
   "cell_type": "code",
   "execution_count": null,
   "metadata": {
    "vscode": {
     "languageId": "ocaml"
    }
   },
   "outputs": [],
   "source": [
    "let add5 = add 5"
   ]
  },
  {
   "cell_type": "code",
   "execution_count": null,
   "metadata": {
    "vscode": {
     "languageId": "ocaml"
    }
   },
   "outputs": [],
   "source": [
    "add5 2"
   ]
  },
  {
   "cell_type": "markdown",
   "metadata": {},
   "source": [
    "### Ассоциативность функций\n",
    "\n",
    "Готовы ли вы к правде? Сделайте глубокий вдох. Начинаем...\n",
    "\n",
    "**Каждая функция OCaml принимает ровно один аргумент.**\n",
    "\n",
    "Почему? Рассмотрим `add`: хотя мы можем записать ее как `let add x y = x + y`, мы знаем, что семантически это эквивалентно `let add = fun x -> (fun y -> x + y)`. И вообще,\n",
    "\n",
    "```\n",
    "let f x1 x2 ... xn = e\n",
    "```\n",
    "\n",
    "семантически эквивалентно\n",
    "\n",
    "```ocaml\n",
    "let f =\n",
    "  fun x1 ->\n",
    "    (fun x2 ->\n",
    "       (...\n",
    "          (fun xn -> e)...))\n",
    "```\n",
    "\n",
    "Таким образом, даже если вы думаете о `f` как о функции, принимающей `n` аргументов, на самом деле это функция, которая принимает 1 аргумент и возвращает функцию.\n",
    "\n",
    "Тип такой функции\n",
    "\n",
    "```\n",
    "t1 -> t2 -> t3 -> t4\n",
    "```\n",
    "\n",
    "на самом деле означает то же самое, что\n",
    "\n",
    "```\n",
    "t1 -> (t2 -> (t3 -> t4))\n",
    "```\n",
    "\n",
    "То есть типы функций являются _право-ассоциативными_: вокруг типов функций неявно расставлены круглые скобки, справа налево. Следует понимать, что функция принимает один аргумент и возвращает новую функцию, которая ожидает остальные аргументы.\n",
    "\n",
    "Применение функций, с другой стороны, является _лево-ассоциативным_: вокруг приложений функций есть неявные круглые скобки, слева направо. Так что\n",
    "\n",
    "```\n",
    "e1 e2 e3 e4\n",
    "```\n",
    "\n",
    "на самом деле означает то же самое, что\n",
    "\n",
    "```\n",
    "((e1 e2) e3) e4\n",
    "```\n",
    "\n",
    "Следует понимать, что крайнее левое выражение берет в качестве единственного аргумента следующее справа от него выражение."
   ]
  },
  {
   "cell_type": "markdown",
   "metadata": {},
   "source": [
    "## Кратко о типах\n",
    "\n",
    "В функциональных языках в целом и в OCaml в частности есть ещё множество интереснейших особенностей, однако для их полноценного рассмотрения потребуется целая дисциплина. Далее мы пропустим описания базовых типов и некоторых особенностей. Отметим лишь только, что:\n",
    "\n",
    "- Списки определяются либо как совсем пустой список `[]`, либо как цепочка элементов, сцепленная с указателем на пустой список: `a :: b :: c :: []`\n",
    "- Для работы со списками можно (и нужно) использовать паттерн-матчинг"
   ]
  },
  {
   "cell_type": "code",
   "execution_count": null,
   "metadata": {
    "vscode": {
     "languageId": "ocaml"
    }
   },
   "outputs": [],
   "source": [
    "let rec length lst =\n",
    "  match lst with\n",
    "  | [] -> 0\n",
    "  | _ :: t -> 1 + length t\n"
   ]
  },
  {
   "cell_type": "code",
   "execution_count": null,
   "metadata": {
    "vscode": {
     "languageId": "ocaml"
    }
   },
   "outputs": [],
   "source": [
    "length [1; 2; 3]"
   ]
  },
  {
   "cell_type": "markdown",
   "metadata": {},
   "source": [
    "- Существует тип данных `variant`, который в сущности означает, что он является одним из нескольких возможных значений"
   ]
  },
  {
   "cell_type": "code",
   "execution_count": null,
   "metadata": {
    "vscode": {
     "languageId": "ocaml"
    }
   },
   "outputs": [],
   "source": [
    "type day = Sun | Mon | Tue | Wed | Thu | Fri | Sat\n",
    "let d = Tue"
   ]
  },
  {
   "cell_type": "markdown",
   "metadata": {},
   "source": [
    "- Существует тип `option`, который сообщает, что данные либо есть, либо их нет"
   ]
  },
  {
   "cell_type": "code",
   "execution_count": null,
   "metadata": {
    "vscode": {
     "languageId": "ocaml"
    }
   },
   "outputs": [],
   "source": [
    "let extract o =\n",
    "  match o with\n",
    "  | Some i -> string_of_int i\n",
    "  | None -> \"\""
   ]
  },
  {
   "cell_type": "code",
   "execution_count": null,
   "metadata": {
    "vscode": {
     "languageId": "ocaml"
    }
   },
   "outputs": [],
   "source": [
    "extract (Some 42);;\n",
    "extract None;;"
   ]
  },
  {
   "cell_type": "code",
   "execution_count": null,
   "metadata": {
    "vscode": {
     "languageId": "ocaml"
    }
   },
   "outputs": [],
   "source": [
    "let rec list_max = function\n",
    "  | [] -> None\n",
    "  | h :: t -> begin\n",
    "      match list_max t with\n",
    "        | None -> Some h\n",
    "        | Some m -> Some (max h m)\n",
    "      end"
   ]
  },
  {
   "cell_type": "code",
   "execution_count": null,
   "metadata": {
    "vscode": {
     "languageId": "ocaml"
    }
   },
   "outputs": [],
   "source": [
    "list_max [1; 5; 2; 7; 3; 4; 2]"
   ]
  },
  {
   "cell_type": "code",
   "execution_count": null,
   "metadata": {
    "vscode": {
     "languageId": "ocaml"
    }
   },
   "outputs": [],
   "source": [
    "list_max []"
   ]
  },
  {
   "cell_type": "markdown",
   "metadata": {},
   "source": [
    "## Пример: натуральные числа\n",
    "\n",
    "Рассмотрим пример того, как с помощью вариантов определить тип натуральных чисел.\n",
    "\n",
    "Мы можем определить рекурсивный вариант, который действует как числа, демонстрируя, что на самом деле нам не обязательно иметь числа, встроенные в OCaml! (Хотя для эффективности хорошо, что они есть).\n",
    "\n",
    "Натуральное число_ - это либо _ноль_, либо _преемник_ какого-то другого натурального числа. Именно так можно определить натуральные числа в курсе математической логики, и это естественным образом приводит к следующему типу OCaml `nat`:"
   ]
  },
  {
   "cell_type": "code",
   "execution_count": null,
   "metadata": {
    "vscode": {
     "languageId": "ocaml"
    }
   },
   "outputs": [],
   "source": [
    "type nat = Zero | Succ of nat"
   ]
  },
  {
   "cell_type": "code",
   "execution_count": null,
   "metadata": {
    "vscode": {
     "languageId": "ocaml"
    }
   },
   "outputs": [],
   "source": [
    "let zero = Zero\n",
    "let one = Succ zero\n",
    "let two = Succ one\n",
    "let three = Succ two\n",
    "let four = Succ three"
   ]
  },
  {
   "cell_type": "code",
   "execution_count": null,
   "metadata": {
    "vscode": {
     "languageId": "ocaml"
    }
   },
   "outputs": [],
   "source": [
    "let iszero = function\n",
    "  | Zero -> true\n",
    "  | Succ _ -> false\n",
    "\n",
    "let pred = function\n",
    "  | Zero -> failwith \"pred Zero is undefined\"\n",
    "  | Succ m -> m"
   ]
  },
  {
   "cell_type": "code",
   "execution_count": null,
   "metadata": {
    "vscode": {
     "languageId": "ocaml"
    }
   },
   "outputs": [],
   "source": [
    "let rec add n1 n2 =\n",
    "  match n1 with\n",
    "  | Zero -> n2\n",
    "  | Succ pred_n -> add pred_n (Succ n2)"
   ]
  },
  {
   "cell_type": "code",
   "execution_count": null,
   "metadata": {
    "vscode": {
     "languageId": "ocaml"
    }
   },
   "outputs": [],
   "source": [
    "let rec int_of_nat = function\n",
    "  | Zero -> 0\n",
    "  | Succ m -> 1 + int_of_nat m\n",
    "\n",
    "let rec nat_of_int = function\n",
    "  | i when i = 0 -> Zero\n",
    "  | i when i > 0 -> Succ (nat_of_int (i - 1))\n",
    "  | _ -> failwith \"nat_of_int is undefined on negative ints\""
   ]
  },
  {
   "cell_type": "code",
   "execution_count": null,
   "metadata": {
    "vscode": {
     "languageId": "ocaml"
    }
   },
   "outputs": [],
   "source": [
    "let rec even = function Zero -> true | Succ m -> odd m\n",
    "and odd = function Zero -> false | Succ m -> even m"
   ]
  },
  {
   "cell_type": "markdown",
   "metadata": {},
   "source": [
    "## Источники\n",
    "\n",
    "- [OCaml Programming: Correct + Efficient + Beautiful](https://cs3110.github.io/textbook/cover.html)"
   ]
  }
 ],
 "metadata": {
  "kernelspec": {
   "display_name": "OCaml jptr",
   "language": "OCaml",
   "name": "ocaml-jupyter"
  },
  "language_info": {
   "codemirror_mode": "text/x-ocaml",
   "file_extension": ".ml",
   "mimetype": "text/x-ocaml",
   "name": "OCaml",
   "nbconverter_exporter": null,
   "pygments_lexer": "OCaml",
   "version": "4.14.0"
  }
 },
 "nbformat": 4,
 "nbformat_minor": 2
}
