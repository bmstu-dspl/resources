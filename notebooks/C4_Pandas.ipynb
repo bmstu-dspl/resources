{
 "cells": [
  {
   "cell_type": "markdown",
   "metadata": {},
   "source": [
    "# Введение в **Pandas**\n",
    "\n",
    "<div style=\"text-align:right;\">Гейне М.А. <span style=\"font-style: italic;font-weight: bold;\">(geine@bmstu.ru)</div>"
   ]
  },
  {
   "cell_type": "markdown",
   "metadata": {},
   "source": [
    "**Pandas** - это мощная библиотека Python с открытым исходным кодом, используемая для манипулирования данными и их анализа, в частности для обработки и анализа структурированных данных. Она предоставляет структуры данных и функции, призванные сделать обработку данных эффективной и интуитивно понятной. Две основные структуры данных в Pandas - это:\n",
    "\n",
    "1. **Series**: Одномерный маркированный массив, способный хранить данные любого типа (например, целые числа, строки, действительные числа и т. д.). Серии сами по себе часто используются для данных временных рядов или любой другой последовательности данных с маркированным индексом.\n",
    "2. **DataFrame**: Двумерная, изменяемая по размеру и потенциально неоднородная табличная структура данных с размеченными осями (строками и столбцами). DataFrame - наиболее распространенная структура данных в Pandas, напоминающая таблицу со столбцами потенциально разных типов.\n",
    "\n",
    "Pandas предлагает множество инструментов для:\n",
    "\n",
    "- **Загрузки и сохранения данных**: Можно читать и записывать данные в файлы различных форматов (например, CSV, Excel, базы данных SQL, JSON).\n",
    "- **Очистка данных**: В том числе обработка отсутствующих данных, дубликатов, преобразование типов данных и многое другое.\n",
    "- **Трансформация данных**: Позволяет манипулировать данными путем слияния, объединения, изменения формы и фильтрации.\n",
    "- **Статистические операции**: Предоставляет функции для  статистики и агрегирования.\n",
    "- **Анализ временных рядов**: Встроенная поддержка индексации по времени и операций над данными временных рядов."
   ]
  },
  {
   "cell_type": "markdown",
   "metadata": {},
   "source": [
    "**ETL (Extract, Transform, Load)** - это фундаментальный процесс управления данными, а Pandas - отличный инструмент для выполнения каждого из этих этапов, особенно в области науки о данных и аналитики. \n",
    "\n",
    "1. **Извлечение**: Этот шаг включает в себя извлечение данных из различных источников. Pandas предоставляет множество методов для чтения данных из различных форматов:\n",
    "\t  - `pd.read_csv()` для чтения CSV-файлов.\n",
    "\t  - `pd.read_excel()` для чтения файлов Excel.\n",
    "\t  - `pd.read_sql()` для данных из баз данных SQL.\n",
    "\t  - `pd.read_json()` для файлов в формате JSON.\n",
    "\t  - Пользовательские загрузчики для веб API или необработанных данных.\n",
    "2. **Трансформация**: На этом этапе данные очищаются, преобразуются и структурируются, чтобы сделать их пригодными для анализа.\n",
    "\t  - **Очистка данных**: Pandas предлагает инструменты для обработки пропущенных значений, удаления дубликатов и фильтрации данных.\n",
    "\t  - **Трансформация данных**: Пользователи могут изменять форму данных (используя такие методы, как `pivot()`, `melt()`), объединять наборы данных (`merge()`, `concat()`) и изменять типы данных.\n",
    "\t  - **Создание характеристик**: Новые столбцы могут быть созданы на основе существующих данных с помощью пользовательских функций, `apply()` и выражений `lambda`.\n",
    "\t  - **Объединения и группировка**: С помощью `groupby()` можно агрегировать данные по определенным столбцам, что особенно полезно для обобщения данных.\n",
    "3. **Загрузка**: На этом этапе очищенные и преобразованные данные сохраняются в конечный пункт назначения.\n",
    "\t  - Pandas может экспортировать DataFrames в такие форматы, как CSV (`to_csv()`), Excel (`to_excel()`) или базы данных SQL (`to_sql()`), что позволяет легко загружать данные в хранилища данных или аналитические инструменты для дальнейшей обработки.\n",
    "\n",
    "Использование Pandas для ETL-процессов популярно, потому что это гибкий, питонический подход для небольших и средних наборов данных. Для больших данных или производственного ETL можно предпочесть такие инструменты, как Apache Spark, но Pandas остается основным инструментом для создания прототипов и работы с данными в проектах по науке о данных."
   ]
  },
  {
   "cell_type": "markdown",
   "metadata": {},
   "source": [
    "## Основные типы данных в **Pandas**"
   ]
  },
  {
   "cell_type": "markdown",
   "metadata": {},
   "source": [
    "Рассматриваемые вопросы:\n",
    "\n",
    "- последовательность **Series** \n",
    "- табличная структура **DataFrame**\n"
   ]
  },
  {
   "cell_type": "code",
   "execution_count": null,
   "metadata": {},
   "outputs": [],
   "source": [
    "import pandas as pd\n",
    "import numpy as np"
   ]
  },
  {
   "cell_type": "markdown",
   "metadata": {},
   "source": [
    "### Последовательность (**Series**)"
   ]
  },
  {
   "cell_type": "markdown",
   "metadata": {},
   "source": [
    "Последовательность **Series** - одномерный массив с метками (индексами) для хранения различных типов данных: целых (integer), действительных чисел (float), строк (string), объектов Python"
   ]
  },
  {
   "cell_type": "code",
   "execution_count": null,
   "metadata": {},
   "outputs": [],
   "source": [
    "data  = ['Dima', 'Sveta', 'Alex', 'Ivan', 'Kate', 'Maria']\n",
    "# index = list(range(1,7))\n",
    "\n",
    "s = pd.Series(data=data, name='Name')\n",
    "s"
   ]
  },
  {
   "cell_type": "code",
   "execution_count": null,
   "metadata": {},
   "outputs": [],
   "source": [
    "data  = [-2.011894, 0.098981, 0.693385, 1.055508, 0.640023]\n",
    "index = ['a', 'b', 'c', 'd', 'e']"
   ]
  },
  {
   "cell_type": "code",
   "execution_count": null,
   "metadata": {},
   "outputs": [],
   "source": [
    "s2 = pd.Series(data=data, index=index, name='Number')\n",
    "s2"
   ]
  },
  {
   "cell_type": "code",
   "execution_count": null,
   "metadata": {},
   "outputs": [],
   "source": [
    "data  = [-2.0, 0.0, 0.0, 1.0, 0.0]\n",
    "index = ['a', 'b', 'c', 'd', 'e']"
   ]
  },
  {
   "cell_type": "code",
   "execution_count": null,
   "metadata": {},
   "outputs": [],
   "source": [
    "s3 = pd.Series(data=data, index=index, name='Number', dtype='int32')\n",
    "s3"
   ]
  },
  {
   "cell_type": "markdown",
   "metadata": {},
   "source": [
    "Вывод первых (`head`) и последних (`tail`) $n$ значений"
   ]
  },
  {
   "cell_type": "code",
   "execution_count": null,
   "metadata": {},
   "outputs": [],
   "source": [
    "s.head(2)"
   ]
  },
  {
   "cell_type": "code",
   "execution_count": null,
   "metadata": {},
   "outputs": [],
   "source": [
    "s.tail(2)"
   ]
  },
  {
   "cell_type": "markdown",
   "metadata": {},
   "source": [
    "Возврат `numpy` массива"
   ]
  },
  {
   "cell_type": "code",
   "execution_count": null,
   "metadata": {},
   "outputs": [],
   "source": [
    "s.to_numpy()"
   ]
  },
  {
   "cell_type": "markdown",
   "metadata": {},
   "source": [
    "Обращение к элементам **Series**"
   ]
  },
  {
   "cell_type": "code",
   "execution_count": null,
   "metadata": {},
   "outputs": [],
   "source": [
    "s"
   ]
  },
  {
   "cell_type": "code",
   "execution_count": null,
   "metadata": {},
   "outputs": [],
   "source": [
    "s[3]"
   ]
  },
  {
   "cell_type": "code",
   "execution_count": null,
   "metadata": {},
   "outputs": [],
   "source": [
    "s2"
   ]
  },
  {
   "cell_type": "code",
   "execution_count": null,
   "metadata": {},
   "outputs": [],
   "source": [
    "s2['b'], s2[1], s2.iloc[1], s2.loc['b']"
   ]
  },
  {
   "cell_type": "code",
   "execution_count": null,
   "metadata": {},
   "outputs": [],
   "source": [
    "s[3] = \"NewAlex\"\n",
    "s"
   ]
  },
  {
   "cell_type": "markdown",
   "metadata": {},
   "source": [
    "### Табличная структура данных (**DataFrame**)"
   ]
  },
  {
   "cell_type": "markdown",
   "metadata": {},
   "source": [
    "Табличная структура **DataFrame** - двумерный массив с метками"
   ]
  },
  {
   "cell_type": "code",
   "execution_count": null,
   "metadata": {},
   "outputs": [],
   "source": [
    "rand_matrix = np.random.randn(4,3)\n",
    "rand_matrix"
   ]
  },
  {
   "cell_type": "code",
   "execution_count": null,
   "metadata": {},
   "outputs": [],
   "source": [
    "cmls = ['Column_1', 'Column_2', 'Column_3']\n",
    "cmls"
   ]
  },
  {
   "cell_type": "code",
   "execution_count": null,
   "metadata": {},
   "outputs": [],
   "source": [
    "df = pd.DataFrame(data=rand_matrix, columns=cmls)\n",
    "df"
   ]
  },
  {
   "cell_type": "code",
   "execution_count": null,
   "metadata": {},
   "outputs": [],
   "source": [
    "df2 = pd.DataFrame(data=rand_matrix, columns=cmls, index=['a','b','c','d'])\n",
    "df2"
   ]
  },
  {
   "cell_type": "markdown",
   "metadata": {},
   "source": [
    "Вывод первых и последних $n$ значений"
   ]
  },
  {
   "cell_type": "code",
   "execution_count": null,
   "metadata": {},
   "outputs": [],
   "source": [
    "df2.head(2)"
   ]
  },
  {
   "cell_type": "code",
   "execution_count": null,
   "metadata": {},
   "outputs": [],
   "source": [
    "df2.tail(2)"
   ]
  },
  {
   "cell_type": "markdown",
   "metadata": {},
   "source": [
    "Возврат `numpy` массива"
   ]
  },
  {
   "cell_type": "code",
   "execution_count": null,
   "metadata": {},
   "outputs": [],
   "source": [
    "df.to_numpy()"
   ]
  },
  {
   "cell_type": "markdown",
   "metadata": {},
   "source": [
    "Способы обращения к столбцам, строкам и ячейкам **DataFrame**'а рассматриваются в следующих разделах"
   ]
  },
  {
   "cell_type": "markdown",
   "metadata": {},
   "source": [
    "# Первые шаги с **DataFrame**"
   ]
  },
  {
   "cell_type": "markdown",
   "metadata": {},
   "source": [
    "Рассматриваемые вопросы:\n",
    "\n",
    "- создание `DataFrame`'а: с использованием матрицы, списков, словаря, последовательностей\n",
    "- обращение к элементам\n",
    "- запись содержания `DataFrame`'а во внешний файл: `csv` формат данных\n",
    "- загрузка внешних данных в `DataFrame`: обращение к ячейкам, изменение значений"
   ]
  },
  {
   "cell_type": "markdown",
   "metadata": {},
   "source": [
    "### Создание **DataFrame**'а"
   ]
  },
  {
   "cell_type": "markdown",
   "metadata": {},
   "source": [
    "Создание **DataFrame**'а с использованием *матрицы*"
   ]
  },
  {
   "cell_type": "code",
   "execution_count": null,
   "metadata": {},
   "outputs": [],
   "source": [
    "matrix = [\n",
    "    ['Dima', 'Moscow', 1988, 4, 'm'],\n",
    "    ['Sveta', 'Kiev', 1999, 4, 'f'],\n",
    "    ['Alex', 'Minsk', 1954, np.NaN, 'm'],\n",
    "    ['Ivan', 'St.Petersburg', 2005, 6, 'm'],\n",
    "    ['Kate', 'London', 2001, np.NaN, 'f'],\n",
    "    ['Maria', 'New York', 1997, 7, 'f']\n",
    "]\n",
    "\n",
    "matrix"
   ]
  },
  {
   "cell_type": "code",
   "execution_count": null,
   "metadata": {},
   "outputs": [],
   "source": [
    "columns = ['Name', 'City', 'Year', 'Grade', 'Gender']\n",
    "\n",
    "df = pd.DataFrame(data=matrix, columns=columns)\n",
    "df"
   ]
  },
  {
   "cell_type": "code",
   "execution_count": null,
   "metadata": {},
   "outputs": [],
   "source": [
    "df.info()"
   ]
  },
  {
   "cell_type": "code",
   "execution_count": null,
   "metadata": {},
   "outputs": [],
   "source": [
    "def init_df():\n",
    "    return pd.DataFrame(data=matrix, columns=columns)"
   ]
  },
  {
   "cell_type": "markdown",
   "metadata": {},
   "source": [
    "Создание **DataFrame**'а с использованием *списков* и **zip()**"
   ]
  },
  {
   "cell_type": "code",
   "execution_count": null,
   "metadata": {},
   "outputs": [],
   "source": [
    "names = [\"Dima\", \"Sveta\",\"Alex\", \"Ivan\", \"Kate\", \"Maria\"]\n",
    "cities = [\"Moscow\", \"Kiev\", \"Minsk\", \"St.Petersburg\", \"London\", \"New York\"]\n",
    "year = [1988, 1999, 1954, 2005, 2001, 1997]\n",
    "grades = [4, 4, np.NaN, 6, np.NaN, 7]\n",
    "gender = [\"m\", \"f\", \"m\", \"m\", \"f\", \"f\"]\n",
    "\n",
    "rows = list(zip(names, cities, year, grades, gender))\n",
    "rows"
   ]
  },
  {
   "cell_type": "code",
   "execution_count": null,
   "metadata": {},
   "outputs": [],
   "source": [
    "df = pd.DataFrame(data=rows, columns=['Name', 'City', 'Year', 'Grade', 'Gender'])\n",
    "df"
   ]
  },
  {
   "cell_type": "markdown",
   "metadata": {},
   "source": [
    "Создание **DataFrame**'а с использованием *списков* и *словаря*"
   ]
  },
  {
   "cell_type": "code",
   "execution_count": null,
   "metadata": {},
   "outputs": [],
   "source": [
    "d_data = {\n",
    "    'Name': [\"Dima\", \"Sveta\",\"Alex\", \"Ivan\", \"Kate\", \"Maria\"],\n",
    "    'City': [\"Moscow\", \"Kiev\", \"Minsk\", \"St.Petersburg\", \"London\", \"New York\"],\n",
    "    'Year': [1988, 1999, 1954, 2005, 2001, 1997],\n",
    "    'Grade': [4, 4, np.NaN, 6, np.NaN, 7],\n",
    "    'Gender': [\"m\", \"f\", \"m\", \"m\", \"f\", \"f\"]\n",
    "}\n",
    "d_data"
   ]
  },
  {
   "cell_type": "code",
   "execution_count": null,
   "metadata": {},
   "outputs": [],
   "source": [
    "df = pd.DataFrame(data=d_data)\n",
    "df"
   ]
  },
  {
   "cell_type": "markdown",
   "metadata": {},
   "source": [
    "Чтобы указать последовательность столбцов, следует воспользоваться параметром *columns*"
   ]
  },
  {
   "cell_type": "code",
   "execution_count": null,
   "metadata": {},
   "outputs": [],
   "source": [
    "df = pd.DataFrame(data=d_data, columns=['Name', 'Year', 'City', 'Grade', 'Gender'])\n",
    "df"
   ]
  },
  {
   "cell_type": "markdown",
   "metadata": {},
   "source": [
    "Создание **DataFrame**'а с использованием *последовательностей*"
   ]
  },
  {
   "cell_type": "code",
   "execution_count": null,
   "metadata": {},
   "outputs": [],
   "source": [
    "s1 = pd.Series(data=[\"Dima\", \"Sveta\", \"Alex\", \"Ivan\", \"Kate\", \"Maria\"], name=\"Name\")\n",
    "s2 = pd.Series(data=[\"Moscow\", \"Kiev\", \"Minsk\", \"St.Petersburg\", \"London\", \"New York\"], name=\"City\")\n",
    "s3 = pd.Series(data=[1988, 1999, 1954, 2005, 2001, 1997], name=\"Year\")\n",
    "s4 = pd.Series(data=[4, 4, np.NaN, 6, np.NaN, 7], name=\"Grade\")\n",
    "s5 = pd.Series(data=['m', 'f', 'm', 'm', 'f', 'f'], name=\"Gender\")\n",
    "\n",
    "df1 = pd.DataFrame(data=[s1,s2,s3,s4,s5])\n",
    "df1"
   ]
  },
  {
   "cell_type": "code",
   "execution_count": null,
   "metadata": {},
   "outputs": [],
   "source": [
    "df1 = df1.T\n",
    "df1"
   ]
  },
  {
   "cell_type": "code",
   "execution_count": null,
   "metadata": {},
   "outputs": [],
   "source": [
    "df2 = pd.DataFrame({\"Name\": s1.values, \"City\": s2.values, \"Year\": s3.values})\n",
    "df2"
   ]
  },
  {
   "cell_type": "markdown",
   "metadata": {},
   "source": [
    "Чтобы изменить стандартную индексацию от 0, можно воспользоваться следующим выражением"
   ]
  },
  {
   "cell_type": "code",
   "execution_count": null,
   "metadata": {},
   "outputs": [],
   "source": [
    "df.index = df.index + 1  # индексация будет от 1\n",
    "df"
   ]
  },
  {
   "cell_type": "markdown",
   "metadata": {},
   "source": [
    "Доступ к индексам"
   ]
  },
  {
   "cell_type": "code",
   "execution_count": null,
   "metadata": {},
   "outputs": [],
   "source": [
    "df.index"
   ]
  },
  {
   "cell_type": "markdown",
   "metadata": {},
   "source": [
    "Доступ к именам столбцов"
   ]
  },
  {
   "cell_type": "code",
   "execution_count": null,
   "metadata": {},
   "outputs": [],
   "source": [
    "df.columns"
   ]
  },
  {
   "cell_type": "markdown",
   "metadata": {},
   "source": [
    "### Обращение к элементам **DataFrame**"
   ]
  },
  {
   "cell_type": "markdown",
   "metadata": {},
   "source": [
    "Обращение к элементу по **индексу** строки и имени столбца"
   ]
  },
  {
   "cell_type": "code",
   "execution_count": null,
   "metadata": {},
   "outputs": [],
   "source": [
    "df"
   ]
  },
  {
   "cell_type": "code",
   "execution_count": null,
   "metadata": {},
   "outputs": [],
   "source": [
    "df.loc[2, 'City']"
   ]
  },
  {
   "cell_type": "markdown",
   "metadata": {},
   "source": [
    "Обращение к элементу по **номеру** строки и номеру столбца"
   ]
  },
  {
   "cell_type": "code",
   "execution_count": null,
   "metadata": {},
   "outputs": [],
   "source": [
    "df.iloc[2, 2]"
   ]
  },
  {
   "cell_type": "markdown",
   "metadata": {},
   "source": [
    "### Запись содержания **DataFrame** во внешний файл"
   ]
  },
  {
   "cell_type": "markdown",
   "metadata": {},
   "source": [
    "Pandas позволяет работать с различными форматами файлов, такими как `csv`, `excel`, `xml`, `json` и др. Более подробно [здесь](https://pandas.pydata.org/pandas-docs/stable/user_guide/io.html).\n",
    "\n",
    "В качестве примера далее рассматривается небольшой пример того, как значения `DataFrame`'а записать во внешний файл csv, а затем загрузить из него данные обратно в `DataFrame`"
   ]
  },
  {
   "cell_type": "markdown",
   "metadata": {},
   "source": [
    "Запись данных в файл `csv`"
   ]
  },
  {
   "cell_type": "code",
   "execution_count": null,
   "metadata": {},
   "outputs": [],
   "source": [
    "df.to_csv(\"testFile.csv\", index=False, header=True)"
   ]
  },
  {
   "cell_type": "markdown",
   "metadata": {},
   "source": [
    "### Загрузка внешних данных в **DataFrame**"
   ]
  },
  {
   "cell_type": "code",
   "execution_count": null,
   "metadata": {},
   "outputs": [],
   "source": [
    "df1 = pd.read_csv(\"testFile.csv\")\n",
    "df1"
   ]
  },
  {
   "cell_type": "markdown",
   "metadata": {},
   "source": [
    "## Манипулирование **DataFrame**'ми"
   ]
  },
  {
   "cell_type": "markdown",
   "metadata": {},
   "source": [
    "### Столбцы"
   ]
  },
  {
   "cell_type": "markdown",
   "metadata": {},
   "source": [
    "Исходный **DataFrame**"
   ]
  },
  {
   "cell_type": "code",
   "execution_count": null,
   "metadata": {},
   "outputs": [],
   "source": [
    "df"
   ]
  },
  {
   "cell_type": "markdown",
   "metadata": {},
   "source": [
    "#### Выбор столбцов"
   ]
  },
  {
   "cell_type": "markdown",
   "metadata": {},
   "source": [
    "Получение последовательности по имени столбца"
   ]
  },
  {
   "cell_type": "code",
   "execution_count": null,
   "metadata": {},
   "outputs": [],
   "source": [
    "s_name = df['Name']\n",
    "s_name"
   ]
  },
  {
   "cell_type": "code",
   "execution_count": null,
   "metadata": {},
   "outputs": [],
   "source": [
    "s_name = df.Name\n",
    "s_name"
   ]
  },
  {
   "cell_type": "code",
   "execution_count": null,
   "metadata": {},
   "outputs": [],
   "source": [
    "type(s_name)"
   ]
  },
  {
   "cell_type": "markdown",
   "metadata": {},
   "source": [
    "Получение DataFrame по столбцу"
   ]
  },
  {
   "cell_type": "code",
   "execution_count": null,
   "metadata": {},
   "outputs": [],
   "source": [
    "df_name = df[['Name']]  # обращение по имени столбца\n",
    "df_name"
   ]
  },
  {
   "cell_type": "code",
   "execution_count": null,
   "metadata": {},
   "outputs": [],
   "source": [
    "df_name = df[[df.columns[0]]]  # обращение по индексу столбца\n",
    "df_name"
   ]
  },
  {
   "cell_type": "code",
   "execution_count": null,
   "metadata": {},
   "outputs": [],
   "source": [
    "type(df_name)"
   ]
  },
  {
   "cell_type": "markdown",
   "metadata": {},
   "source": [
    "Использование нескольких столбцов для выбора данных"
   ]
  },
  {
   "cell_type": "code",
   "execution_count": null,
   "metadata": {},
   "outputs": [],
   "source": [
    "df_select = df[['Name', 'City']]\n",
    "df_select"
   ]
  },
  {
   "cell_type": "markdown",
   "metadata": {},
   "source": [
    "Метод `filter`"
   ]
  },
  {
   "cell_type": "code",
   "execution_count": null,
   "metadata": {},
   "outputs": [],
   "source": [
    "df.filter(items=['Name', 'City'], axis=1)"
   ]
  },
  {
   "cell_type": "code",
   "execution_count": null,
   "metadata": {},
   "outputs": [],
   "source": [
    "df.filter(like='i', axis=1)"
   ]
  },
  {
   "cell_type": "code",
   "execution_count": null,
   "metadata": {},
   "outputs": [],
   "source": [
    "df.filter(regex='i', axis=1)"
   ]
  },
  {
   "cell_type": "markdown",
   "metadata": {},
   "source": [
    "Получение уникальных значений столбца"
   ]
  },
  {
   "cell_type": "code",
   "execution_count": null,
   "metadata": {},
   "outputs": [],
   "source": [
    "df.Name.unique()"
   ]
  },
  {
   "cell_type": "code",
   "execution_count": null,
   "metadata": {},
   "outputs": [],
   "source": [
    "df['Gender'].unique()"
   ]
  },
  {
   "cell_type": "markdown",
   "metadata": {},
   "source": [
    "#### Добавление/изменение столбца"
   ]
  },
  {
   "cell_type": "code",
   "execution_count": null,
   "metadata": {},
   "outputs": [],
   "source": [
    "df['NewColumn'] = [4, 5, 7, 3, 2, 6]  # добавление\n",
    "df"
   ]
  },
  {
   "cell_type": "code",
   "execution_count": null,
   "metadata": {},
   "outputs": [],
   "source": [
    "df['Grade'] = [1, 1, 1, 1, 1, 1]  # изменение\n",
    "df"
   ]
  },
  {
   "cell_type": "code",
   "execution_count": null,
   "metadata": {},
   "outputs": [],
   "source": [
    "df['Grade'] = [4, 4, np.NaN, 6, np.NaN, 7]\n",
    "df"
   ]
  },
  {
   "cell_type": "code",
   "execution_count": null,
   "metadata": {},
   "outputs": [],
   "source": [
    "if 'NewColumn2' not in df.columns:\n",
    "    df.insert(loc=1, value=[10,40,50,30,70,49], column='NewColumn2')  # loc - позиция столбца\n",
    "df"
   ]
  },
  {
   "cell_type": "markdown",
   "metadata": {},
   "source": [
    "Создание из исходного `df` нового `DataFrame`'а `df2` без столбца `NewColumn` "
   ]
  },
  {
   "cell_type": "code",
   "execution_count": null,
   "metadata": {},
   "outputs": [],
   "source": [
    "df2 = df.drop('NewColumn', axis=1, inplace=False)  # axis = 1 - удаление столбца\n",
    "df2"
   ]
  },
  {
   "cell_type": "code",
   "execution_count": null,
   "metadata": {},
   "outputs": [],
   "source": [
    "df"
   ]
  },
  {
   "cell_type": "markdown",
   "metadata": {},
   "source": [
    "Удаление столбцов из исходного `DataFrame`'а"
   ]
  },
  {
   "cell_type": "code",
   "execution_count": null,
   "metadata": {},
   "outputs": [],
   "source": [
    "df.drop(['NewColumn', 'NewColumn2'], axis=1, inplace=True)  # удаление нескольких столбцов\n",
    "df"
   ]
  },
  {
   "cell_type": "markdown",
   "metadata": {},
   "source": [
    "### Строки"
   ]
  },
  {
   "cell_type": "markdown",
   "metadata": {},
   "source": [
    "Исходный `DataFrame`"
   ]
  },
  {
   "cell_type": "code",
   "execution_count": null,
   "metadata": {},
   "outputs": [],
   "source": [
    "df"
   ]
  },
  {
   "cell_type": "markdown",
   "metadata": {},
   "source": [
    "#### Фильтрация строк"
   ]
  },
  {
   "cell_type": "markdown",
   "metadata": {},
   "source": [
    "Выбор строк по **индексу**"
   ]
  },
  {
   "cell_type": "code",
   "execution_count": null,
   "metadata": {},
   "outputs": [],
   "source": [
    "df.loc[2]"
   ]
  },
  {
   "cell_type": "markdown",
   "metadata": {},
   "source": [
    "Выбор строк по **позиции** (номер строки начиная с 0)"
   ]
  },
  {
   "cell_type": "code",
   "execution_count": null,
   "metadata": {},
   "outputs": [],
   "source": [
    "df.iloc[2]"
   ]
  },
  {
   "cell_type": "markdown",
   "metadata": {},
   "source": [
    "Использование диапазона позиций"
   ]
  },
  {
   "cell_type": "code",
   "execution_count": null,
   "metadata": {},
   "outputs": [],
   "source": [
    "df[:3]"
   ]
  },
  {
   "cell_type": "code",
   "execution_count": null,
   "metadata": {},
   "outputs": [],
   "source": [
    "df[1:4]"
   ]
  },
  {
   "cell_type": "markdown",
   "metadata": {},
   "source": [
    "Использование условий"
   ]
  },
  {
   "cell_type": "code",
   "execution_count": null,
   "metadata": {},
   "outputs": [],
   "source": [
    "df[df['Name']=='Dima']"
   ]
  },
  {
   "cell_type": "code",
   "execution_count": null,
   "metadata": {},
   "outputs": [],
   "source": [
    "df[df['Grade']>=5]"
   ]
  },
  {
   "cell_type": "code",
   "execution_count": null,
   "metadata": {},
   "outputs": [],
   "source": [
    "df[df.Grade>=5]"
   ]
  },
  {
   "cell_type": "code",
   "execution_count": null,
   "metadata": {},
   "outputs": [],
   "source": [
    "df[(df.Grade>=5) & (df.Gender=='f')]  # операция \"И\""
   ]
  },
  {
   "cell_type": "code",
   "execution_count": null,
   "metadata": {},
   "outputs": [],
   "source": [
    "df[(df.Grade==4) | (df.Grade==6)]  # операция \"ИЛИ\""
   ]
  },
  {
   "cell_type": "code",
   "execution_count": null,
   "metadata": {},
   "outputs": [],
   "source": [
    "cond = (df.Grade==4) | (df.Grade==6)"
   ]
  },
  {
   "cell_type": "code",
   "execution_count": null,
   "metadata": {},
   "outputs": [],
   "source": [
    "cond"
   ]
  },
  {
   "cell_type": "code",
   "execution_count": null,
   "metadata": {},
   "outputs": [],
   "source": [
    "df[cond]"
   ]
  },
  {
   "cell_type": "markdown",
   "metadata": {},
   "source": [
    "Применение метода `isin` для вывода строк, в которых значение заданного столбца содержится в списке"
   ]
  },
  {
   "cell_type": "code",
   "execution_count": null,
   "metadata": {},
   "outputs": [],
   "source": [
    "l_cities = ['Moscow', 'Minsk']\n",
    "df.City.isin(l_cities)"
   ]
  },
  {
   "cell_type": "code",
   "execution_count": null,
   "metadata": {},
   "outputs": [],
   "source": [
    "df2 = df[df.City.isin(l_cities)]\n",
    "df2"
   ]
  },
  {
   "cell_type": "markdown",
   "metadata": {},
   "source": [
    "Функция `isnan`"
   ]
  },
  {
   "cell_type": "code",
   "execution_count": null,
   "metadata": {},
   "outputs": [],
   "source": [
    "df[pd.isna(df.Grade)]  # строки с неопредленным значнием Grade"
   ]
  },
  {
   "cell_type": "markdown",
   "metadata": {},
   "source": [
    "Функция `notna`"
   ]
  },
  {
   "cell_type": "code",
   "execution_count": null,
   "metadata": {},
   "outputs": [],
   "source": [
    "df[pd.notna(df.Grade)]  # notnull"
   ]
  },
  {
   "cell_type": "markdown",
   "metadata": {},
   "source": [
    "Метод `filter`"
   ]
  },
  {
   "cell_type": "code",
   "execution_count": null,
   "metadata": {},
   "outputs": [],
   "source": [
    "cond = (df.Grade==4) | (df.Grade==6)\n",
    "indx = df.index[cond]\n",
    "\n",
    "df.filter(items=indx, axis=0)"
   ]
  },
  {
   "cell_type": "code",
   "execution_count": null,
   "metadata": {},
   "outputs": [],
   "source": [
    "indx"
   ]
  },
  {
   "cell_type": "markdown",
   "metadata": {},
   "source": [
    "Метод `query`"
   ]
  },
  {
   "cell_type": "code",
   "execution_count": null,
   "metadata": {},
   "outputs": [],
   "source": [
    "# тоже с методом query\n",
    "df.query('Grade == 4 | Grade == 6')"
   ]
  },
  {
   "cell_type": "code",
   "execution_count": null,
   "metadata": {},
   "outputs": [],
   "source": [
    "a = 4\n",
    "df.query(f'Grade == {a} | Grade == 6')"
   ]
  },
  {
   "cell_type": "code",
   "execution_count": null,
   "metadata": {},
   "outputs": [],
   "source": [
    "grade_list = [4, 6]\n",
    "df.query('Grade == @grade_list')"
   ]
  },
  {
   "cell_type": "code",
   "execution_count": null,
   "metadata": {},
   "outputs": [],
   "source": [
    "df.query('Grade + 5 > 10')"
   ]
  },
  {
   "cell_type": "markdown",
   "metadata": {},
   "source": [
    "#### Добавление/изменение строки"
   ]
  },
  {
   "cell_type": "code",
   "execution_count": null,
   "metadata": {},
   "outputs": [],
   "source": [
    "df"
   ]
  },
  {
   "cell_type": "code",
   "execution_count": null,
   "metadata": {},
   "outputs": [],
   "source": [
    "# Добавление строки с указанием индекса\n",
    "df.loc[10] = ['NewName', 'NewCity', 2016, 1, 'f']\n",
    "df"
   ]
  },
  {
   "cell_type": "code",
   "execution_count": null,
   "metadata": {},
   "outputs": [],
   "source": [
    "# Изменение строки с указанием её номера\n",
    "df.loc[4] = ['ChangedIvan', 'St.Petersburg', 2005, 6, 'm']\n",
    "df"
   ]
  },
  {
   "cell_type": "code",
   "execution_count": null,
   "metadata": {},
   "outputs": [],
   "source": [
    "# Изменение строки по индексу строки\n",
    "df.iloc[0] = ['Changed', 'Changed', 2000, 10, 'm']\n",
    "df"
   ]
  },
  {
   "cell_type": "markdown",
   "metadata": {},
   "source": [
    "Метод `fillna` заполняет пустые ячейки значением аргумента "
   ]
  },
  {
   "cell_type": "code",
   "execution_count": null,
   "metadata": {},
   "outputs": [],
   "source": [
    "df4 = df['Grade'].fillna(-1)  # возвращает новый DataFrame\n",
    "pd.DataFrame(df4)"
   ]
  },
  {
   "cell_type": "markdown",
   "metadata": {},
   "source": [
    "Удаление строки"
   ]
  },
  {
   "cell_type": "code",
   "execution_count": null,
   "metadata": {},
   "outputs": [],
   "source": [
    "# Удаление по номеру строки, axis = 0 - строки, inplace = True - удаляет в df\n",
    "df.drop(df.index[6], axis=0, inplace=True)\n",
    "df"
   ]
  },
  {
   "cell_type": "code",
   "execution_count": null,
   "metadata": {},
   "outputs": [],
   "source": [
    "# Удаление по индексу строки\n",
    "df.drop(df.index[df.index==1], axis=0, inplace=True)\n",
    "df"
   ]
  },
  {
   "cell_type": "code",
   "execution_count": null,
   "metadata": {},
   "outputs": [],
   "source": [
    "df2 = df.drop(df.index[df.index==2], axis=0, inplace=False)\n",
    "df2"
   ]
  },
  {
   "cell_type": "code",
   "execution_count": null,
   "metadata": {},
   "outputs": [],
   "source": [
    "df"
   ]
  },
  {
   "cell_type": "code",
   "execution_count": null,
   "metadata": {},
   "outputs": [],
   "source": [
    "df.drop(2, axis=0, inplace=False)"
   ]
  },
  {
   "cell_type": "code",
   "execution_count": null,
   "metadata": {},
   "outputs": [],
   "source": [
    "df.drop([2, 5], axis=0, inplace=False)"
   ]
  },
  {
   "cell_type": "markdown",
   "metadata": {},
   "source": [
    "Удаление всех строк, в которых есть неопределенное значение (`NaN`)"
   ]
  },
  {
   "cell_type": "code",
   "execution_count": null,
   "metadata": {},
   "outputs": [],
   "source": [
    "df.dropna()  # возвращает новый DataFrame"
   ]
  },
  {
   "cell_type": "markdown",
   "metadata": {},
   "source": [
    "### Значения ячеек"
   ]
  },
  {
   "cell_type": "markdown",
   "metadata": {},
   "source": [
    "Обращение по **индексу** строки"
   ]
  },
  {
   "cell_type": "code",
   "execution_count": null,
   "metadata": {},
   "outputs": [],
   "source": [
    "df.loc[2, 'City']"
   ]
  },
  {
   "cell_type": "markdown",
   "metadata": {},
   "source": [
    "Обращение по **позиции** (номеру) строки"
   ]
  },
  {
   "cell_type": "code",
   "execution_count": null,
   "metadata": {},
   "outputs": [],
   "source": [
    "df.iloc[2, 1]"
   ]
  },
  {
   "cell_type": "markdown",
   "metadata": {},
   "source": [
    "Пример использования с циклом `for`"
   ]
  },
  {
   "cell_type": "code",
   "execution_count": null,
   "metadata": {},
   "outputs": [],
   "source": [
    "# Изменение значений в столбце Grade на +10\n",
    "# Замечение: есть более простой способ для такой операции (см. раздел 4)\n",
    "for i in range(len(df)):\n",
    "    df.iloc[i, 3] += 10\n",
    "df"
   ]
  },
  {
   "cell_type": "markdown",
   "metadata": {},
   "source": [
    "Срезы по строкам"
   ]
  },
  {
   "cell_type": "code",
   "execution_count": null,
   "metadata": {},
   "outputs": [],
   "source": [
    "df.loc[:, 'City']"
   ]
  },
  {
   "cell_type": "code",
   "execution_count": null,
   "metadata": {},
   "outputs": [],
   "source": [
    "df.iloc[:, 2]"
   ]
  },
  {
   "cell_type": "markdown",
   "metadata": {},
   "source": [
    "Срезы по строкам и столбцам"
   ]
  },
  {
   "cell_type": "code",
   "execution_count": null,
   "metadata": {},
   "outputs": [],
   "source": [
    "df.loc[1:4, 'Name':'City']"
   ]
  },
  {
   "cell_type": "code",
   "execution_count": null,
   "metadata": {},
   "outputs": [],
   "source": [
    "df"
   ]
  },
  {
   "cell_type": "markdown",
   "metadata": {},
   "source": [
    "Изменение значения ячейки. Если нет указанного индекса в `DataFrame`'е, то добавляется новая строка"
   ]
  },
  {
   "cell_type": "code",
   "execution_count": null,
   "metadata": {},
   "outputs": [],
   "source": [
    "df.loc[11, 'Name'] = 'NewName'\n",
    "df"
   ]
  },
  {
   "cell_type": "code",
   "execution_count": null,
   "metadata": {},
   "outputs": [],
   "source": [
    "df.iloc[2, 0] = 'NewName'\n",
    "df"
   ]
  },
  {
   "cell_type": "code",
   "execution_count": null,
   "metadata": {},
   "outputs": [],
   "source": [
    "df.drop(df.index[df.index==11], axis=0, inplace=True) # удаление по индексу строки\n",
    "df"
   ]
  },
  {
   "cell_type": "markdown",
   "metadata": {},
   "source": [
    "### Группировка"
   ]
  },
  {
   "cell_type": "code",
   "execution_count": null,
   "metadata": {},
   "outputs": [],
   "source": [
    "# исходный датафрейм\n",
    "df = init_df()\n",
    "df"
   ]
  },
  {
   "cell_type": "code",
   "execution_count": null,
   "metadata": {},
   "outputs": [],
   "source": [
    "# дополнительные столбцы\n",
    "salary = [10, 40, 50, 30, 70, 49]\n",
    "marital_status = [True, False, True, True, True, False]\n",
    "\n",
    "# создание нового датафрейма со столбцами salary и marital_status\n",
    "df_group = df.copy()\n",
    "df_group['Salary'] = salary\n",
    "df_group['Marriage'] = marital_status\n",
    "df_group"
   ]
  },
  {
   "cell_type": "code",
   "execution_count": null,
   "metadata": {},
   "outputs": [],
   "source": [
    "# итеративный объект с группами по значению столбца\n",
    "groupby = df_group.groupby('Gender')\n",
    "groupby"
   ]
  },
  {
   "cell_type": "code",
   "execution_count": null,
   "metadata": {},
   "outputs": [],
   "source": [
    "# вывод групп\n",
    "for i, group in groupby:\n",
    "    print(i)\n",
    "    print(group)"
   ]
  },
  {
   "cell_type": "code",
   "execution_count": null,
   "metadata": {},
   "outputs": [],
   "source": [
    "# количество строк в каждой группе\n",
    "groupby.size()"
   ]
  },
  {
   "cell_type": "code",
   "execution_count": null,
   "metadata": {},
   "outputs": [],
   "source": [
    "# группировка по нескольким столбцам\n",
    "groupby_2 = df_group.groupby(['Gender', 'Marriage'])\n",
    "\n",
    "# вывод\n",
    "for i, group in groupby_2:\n",
    "    print(i)\n",
    "    print(group)"
   ]
  },
  {
   "cell_type": "code",
   "execution_count": null,
   "metadata": {},
   "outputs": [],
   "source": [
    "# доступ к конкретной группе\n",
    "df2 = groupby.get_group('f')\n",
    "df2"
   ]
  },
  {
   "cell_type": "code",
   "execution_count": null,
   "metadata": {},
   "outputs": [],
   "source": [
    "groupby_2.get_group(('f', False))"
   ]
  },
  {
   "cell_type": "markdown",
   "metadata": {},
   "source": [
    "Фильтр для групп"
   ]
  },
  {
   "cell_type": "code",
   "execution_count": null,
   "metadata": {},
   "outputs": [],
   "source": [
    "# исходный датафрейм\n",
    "df_group"
   ]
  },
  {
   "cell_type": "code",
   "execution_count": null,
   "metadata": {},
   "outputs": [],
   "source": [
    "# Возвращает DataFrame с группами, в которых сумма Grade > 10\n",
    "df_group\\\n",
    "    .groupby('Gender')\\\n",
    "    .filter(lambda group: group.Grade.sum() > 10)"
   ]
  },
  {
   "cell_type": "markdown",
   "metadata": {},
   "source": [
    "Агрегирование в группах"
   ]
  },
  {
   "cell_type": "code",
   "execution_count": null,
   "metadata": {},
   "outputs": [],
   "source": [
    "# исходный датафрейм\n",
    "df2 = df_group[['Gender', 'Grade', 'Salary']]\n",
    "df2"
   ]
  },
  {
   "cell_type": "code",
   "execution_count": null,
   "metadata": {},
   "outputs": [],
   "source": [
    "# использование aggregate c udf функцией\n",
    "df2\\\n",
    "    .groupby('Gender')\\\n",
    "    .aggregate(lambda group: group.mean())  # .agg - сокращение"
   ]
  },
  {
   "cell_type": "code",
   "execution_count": null,
   "metadata": {},
   "outputs": [],
   "source": [
    "# использование aggregate cо стандартной функцией\n",
    "df2\\\n",
    "    .groupby('Gender')\\\n",
    "    .agg('sum')"
   ]
  },
  {
   "cell_type": "code",
   "execution_count": null,
   "metadata": {},
   "outputs": [],
   "source": [
    "# использование sum для групп\n",
    "df2\\\n",
    "    .groupby('Gender')\\\n",
    "    .sum()"
   ]
  },
  {
   "cell_type": "code",
   "execution_count": null,
   "metadata": {},
   "outputs": [],
   "source": [
    "# если нужены только определенные столбцы\n",
    "df2\\\n",
    "    .groupby('Gender')[['Salary']]\\\n",
    "    .sum()"
   ]
  },
  {
   "cell_type": "code",
   "execution_count": null,
   "metadata": {},
   "outputs": [],
   "source": [
    "df2\\\n",
    "    .groupby('Gender')\\\n",
    "    .agg({'Salary': 'sum', 'Grade': ['min', 'max']})"
   ]
  },
  {
   "cell_type": "markdown",
   "metadata": {},
   "source": [
    "Трансформация выполняется для элементов отдельных столбцов каждой группы"
   ]
  },
  {
   "cell_type": "code",
   "execution_count": null,
   "metadata": {},
   "outputs": [],
   "source": [
    "# пример операции над массивами (вычитание среднего)\n",
    "v = np.array([1,2,3])\n",
    "v - v.mean()"
   ]
  },
  {
   "cell_type": "code",
   "execution_count": null,
   "metadata": {},
   "outputs": [],
   "source": [
    "# исходный датафрейм\n",
    "df2"
   ]
  },
  {
   "cell_type": "code",
   "execution_count": null,
   "metadata": {},
   "outputs": [],
   "source": [
    "# средние каждой группы\n",
    "df2\\\n",
    "    .groupby('Gender')\\\n",
    "    .mean()"
   ]
  },
  {
   "cell_type": "code",
   "execution_count": null,
   "metadata": {},
   "outputs": [],
   "source": [
    "# Значение элемента минус среднее значение в столбце группы\n",
    "# [1,2,3]-2 = [-1,0,1]\n",
    "df2\\\n",
    "    .groupby('Gender')\\\n",
    "    .transform(lambda x: x - x.mean())"
   ]
  },
  {
   "cell_type": "code",
   "execution_count": null,
   "metadata": {},
   "outputs": [],
   "source": [
    "df2\\\n",
    "    .groupby('Gender')\\\n",
    "    .apply(lambda x: x - x.mean())"
   ]
  },
  {
   "cell_type": "markdown",
   "metadata": {},
   "source": [
    "Группировка данных по диапазонам значений"
   ]
  },
  {
   "cell_type": "code",
   "execution_count": null,
   "metadata": {},
   "outputs": [],
   "source": [
    "df_group['Salary']"
   ]
  },
  {
   "cell_type": "code",
   "execution_count": null,
   "metadata": {},
   "outputs": [],
   "source": [
    "# Формирование диапазонов\n",
    "salary_bins = pd.cut(df_group['Salary'], bins=[0, 30, 50, 80])\n",
    "salary_bins"
   ]
  },
  {
   "cell_type": "code",
   "execution_count": null,
   "metadata": {},
   "outputs": [],
   "source": [
    "# Создание одного диапазона\n",
    "interval = pd.Interval(left=30, right=50, closed='right')\n",
    "interval"
   ]
  },
  {
   "cell_type": "code",
   "execution_count": null,
   "metadata": {},
   "outputs": [],
   "source": [
    "# Группировка по диапазонам\n",
    "gr3 = df_group.groupby(salary_bins)\n",
    "\n",
    "# Вывод одной группы\n",
    "gr3.get_group(interval)"
   ]
  },
  {
   "cell_type": "code",
   "execution_count": null,
   "metadata": {},
   "outputs": [],
   "source": [
    "# Формирование именованных диапазонов\n",
    "salary_bins__named = pd.cut(\n",
    "    df_group.Salary,\n",
    "    bins=[0, 30, 50, 80],\n",
    "    labels=['bad', 'medium', 'good']\n",
    ")\n",
    "salary_bins__named"
   ]
  },
  {
   "cell_type": "code",
   "execution_count": null,
   "metadata": {},
   "outputs": [],
   "source": [
    "df_group['Salary_Interval'] = salary_bins__named\n",
    "df_group"
   ]
  },
  {
   "cell_type": "code",
   "execution_count": null,
   "metadata": {},
   "outputs": [],
   "source": [
    "# Группировака и доступ к одной группе\n",
    "df_group\\\n",
    "    .groupby(salary_bins__named)\\\n",
    "    .get_group('medium')"
   ]
  },
  {
   "cell_type": "code",
   "execution_count": null,
   "metadata": {},
   "outputs": [],
   "source": [
    "# Формирование диапазонов с использованием range\n",
    "salary_bins__range = pd.cut(x=df_group.Salary, bins=np.arange(0, 100, 10))\n",
    "salary_bins__range"
   ]
  },
  {
   "cell_type": "code",
   "execution_count": null,
   "metadata": {},
   "outputs": [],
   "source": [
    "# Формирование диапазонов с указанием количества диапазонов\n",
    "salary_bins__num = pd.cut(\n",
    "    x=df_group.Salary,\n",
    "    bins=3,\n",
    "    labels=['bad','medium','good']\n",
    ")\n",
    "salary_bins__num"
   ]
  },
  {
   "cell_type": "markdown",
   "metadata": {},
   "source": [
    "### Сортировка"
   ]
  },
  {
   "cell_type": "code",
   "execution_count": null,
   "metadata": {},
   "outputs": [],
   "source": [
    "# исходный массив\n",
    "df"
   ]
  },
  {
   "cell_type": "code",
   "execution_count": null,
   "metadata": {},
   "outputs": [],
   "source": [
    "# Сортировка по одному столбцу (по возрастанию)\n",
    "df.sort_values('Year', ascending=1)"
   ]
  },
  {
   "cell_type": "code",
   "execution_count": null,
   "metadata": {},
   "outputs": [],
   "source": [
    "# Сортировка по одному столбцу (по убыванию)\n",
    "df.sort_values('Year', ascending=0)"
   ]
  },
  {
   "cell_type": "code",
   "execution_count": null,
   "metadata": {},
   "outputs": [],
   "source": [
    "# Сортировка по нескольким столбцам\n",
    "df.sort_values(['Gender', 'Year'], ascending=[1, 0])"
   ]
  },
  {
   "cell_type": "markdown",
   "metadata": {},
   "source": [
    "### Сложные индексы"
   ]
  },
  {
   "cell_type": "code",
   "execution_count": null,
   "metadata": {},
   "outputs": [],
   "source": [
    "# Исходные данные\n",
    "data =  np.random.randint(low=0, high=101, size=(4,3))\n",
    "data"
   ]
  },
  {
   "cell_type": "code",
   "execution_count": null,
   "metadata": {},
   "outputs": [],
   "source": [
    "index1 = ['Week1', 'Week1', 'Week2', 'Week2']  # первый индекс\n",
    "index2 = ['Working Days', 'Weekend', 'Working Days', 'Weekend']  # второй индекс\n",
    "\n",
    "# Формирование датафрейма с двумя индексами\n",
    "df = pd.DataFrame(\n",
    "    data=data,\n",
    "    columns=['TV', 'Smartphone', 'Pendrive'],\n",
    "    index=[index1, index2])\n",
    "df"
   ]
  },
  {
   "cell_type": "markdown",
   "metadata": {},
   "source": [
    "Доступ к данный по индексам"
   ]
  },
  {
   "cell_type": "code",
   "execution_count": null,
   "metadata": {},
   "outputs": [],
   "source": [
    "# Вывод данных по первому индексу\n",
    "df.loc['Week1']"
   ]
  },
  {
   "cell_type": "code",
   "execution_count": null,
   "metadata": {},
   "outputs": [],
   "source": [
    "# Вывод данных по двум индексам\n",
    "df.loc[('Week1', 'Weekend')]"
   ]
  },
  {
   "cell_type": "markdown",
   "metadata": {},
   "source": [
    "Пример с суммой"
   ]
  },
  {
   "cell_type": "code",
   "execution_count": null,
   "metadata": {},
   "outputs": [],
   "source": [
    "df.sum()  # сумма по столбцам для всех индексов"
   ]
  },
  {
   "cell_type": "code",
   "execution_count": null,
   "metadata": {},
   "outputs": [],
   "source": [
    "df.loc['Week1'].sum()  # сумма по столбцам для Week1"
   ]
  },
  {
   "cell_type": "code",
   "execution_count": null,
   "metadata": {},
   "outputs": [],
   "source": [
    "# Сумма по столбцам за Weekend для Week1 и Week2\n",
    "df.loc[[('Week1', 'Weekend'),('Week2', 'Weekend')]].sum()"
   ]
  },
  {
   "cell_type": "markdown",
   "metadata": {},
   "source": [
    "### Объединение DataFrame'ов"
   ]
  },
  {
   "cell_type": "markdown",
   "metadata": {},
   "source": [
    "#### Функция `concat`"
   ]
  },
  {
   "cell_type": "markdown",
   "metadata": {},
   "source": [
    "Добавление строк"
   ]
  },
  {
   "cell_type": "code",
   "execution_count": null,
   "metadata": {},
   "outputs": [],
   "source": [
    "df"
   ]
  },
  {
   "cell_type": "code",
   "execution_count": null,
   "metadata": {},
   "outputs": [],
   "source": [
    "# Создание второго датафрейма\n",
    "rows_new = [\n",
    "    ['Petr', 'Bryansk', 1978, 5, 'm'],\n",
    "    ['Ann', 'Tehran', 1997, 7, 'f']\n",
    "]\n",
    "df2 = pd.DataFrame(\n",
    "    data=rows_new,\n",
    "    columns=['Name','City','Year','Grade','Gender']\n",
    ")\n",
    "df2"
   ]
  },
  {
   "cell_type": "code",
   "execution_count": null,
   "metadata": {},
   "outputs": [],
   "source": [
    "# Объединение данных двух датафреймов\n",
    "df3 = pd.concat([df, df2], ignore_index=False, sort=False)\n",
    "df3"
   ]
  },
  {
   "cell_type": "code",
   "execution_count": null,
   "metadata": {},
   "outputs": [],
   "source": [
    "# Вывод строк по индексу\n",
    "df3.loc[1]"
   ]
  },
  {
   "cell_type": "code",
   "execution_count": null,
   "metadata": {},
   "outputs": [],
   "source": [
    "# Объединение данных двух датафреймов\n",
    "df3 = pd.concat([df, df2], ignore_index=True)\n",
    "df3"
   ]
  },
  {
   "cell_type": "markdown",
   "metadata": {},
   "source": [
    "Добавление ключа/индекса"
   ]
  },
  {
   "cell_type": "code",
   "execution_count": null,
   "metadata": {},
   "outputs": [],
   "source": [
    "# Добавление индекса датафрейма\n",
    "df3 = pd.concat([df, df2], keys=['Table1', 'Table2'])\n",
    "df3"
   ]
  },
  {
   "cell_type": "code",
   "execution_count": null,
   "metadata": {},
   "outputs": [],
   "source": [
    "# Доступ по первому индексу\n",
    "df3.loc['Table1']"
   ]
  },
  {
   "cell_type": "code",
   "execution_count": null,
   "metadata": {},
   "outputs": [],
   "source": [
    "# Доступ по двум индексам\n",
    "df3.loc[('Table1', 1)]"
   ]
  },
  {
   "cell_type": "markdown",
   "metadata": {},
   "source": [
    "Соединение таблиц по столбцам"
   ]
  },
  {
   "cell_type": "code",
   "execution_count": null,
   "metadata": {},
   "outputs": [],
   "source": [
    "df"
   ]
  },
  {
   "cell_type": "code",
   "execution_count": null,
   "metadata": {},
   "outputs": [],
   "source": [
    "# Создание нового датафрейма\n",
    "dict_new = {\n",
    "    'Marriage_status': [True, False, True, False],\n",
    "    'Salary': [12, 40, 53, 25]\n",
    "}\n",
    "\n",
    "df_right_1 = pd.DataFrame(index=[1,3,4,5], data=dict_new)\n",
    "df_right_1"
   ]
  },
  {
   "cell_type": "markdown",
   "metadata": {},
   "source": [
    "Внешнее соединение (**outer join**) таблиц по индексу"
   ]
  },
  {
   "cell_type": "code",
   "execution_count": null,
   "metadata": {},
   "outputs": [],
   "source": [
    "# Соединение двух датафреймов\n",
    "df3 = pd.concat([df, df_right_1], axis=1, join='outer')\n",
    "df3"
   ]
  },
  {
   "cell_type": "markdown",
   "metadata": {},
   "source": [
    "Внутреннее соединение (**inner join**) таблиц по индексу"
   ]
  },
  {
   "cell_type": "code",
   "execution_count": null,
   "metadata": {},
   "outputs": [],
   "source": [
    "# join = \"inner\" - соединение по совпадающим индексам строк\n",
    "df3 = pd.concat([df, df_right_1], axis=1, join='inner')\n",
    "df3"
   ]
  },
  {
   "cell_type": "markdown",
   "metadata": {},
   "source": [
    "#### Функция `merge`"
   ]
  },
  {
   "cell_type": "markdown",
   "metadata": {},
   "source": [
    "Внешнее соединение (**outer join**) таблиц по индексу"
   ]
  },
  {
   "cell_type": "code",
   "execution_count": null,
   "metadata": {},
   "outputs": [],
   "source": [
    "df3 = pd.merge(\n",
    "    left=df, right=df_right_1,\n",
    "    left_index=True, right_index=True, how='outer'\n",
    ")\n",
    "df3"
   ]
  },
  {
   "cell_type": "markdown",
   "metadata": {},
   "source": [
    "Внешнее соединение (**outer join**) таблиц по значению столбца"
   ]
  },
  {
   "cell_type": "code",
   "execution_count": null,
   "metadata": {},
   "outputs": [],
   "source": [
    "df"
   ]
  },
  {
   "cell_type": "code",
   "execution_count": null,
   "metadata": {},
   "outputs": [],
   "source": [
    "dict_new_2 = {\n",
    "    'Name': ['Sveta', 'Sveta', 'Alex', 'Alex', 'Kate', 'Vlad', 'Alice'],\n",
    "    'Device': ['TV', 'Smartphone', 'TV', 'Pendrive', 'TV', 'TV', 'PC']\n",
    "}\n",
    "\n",
    "df_right_2 = pd.DataFrame(data=dict_new_2)\n",
    "df_right_2"
   ]
  },
  {
   "cell_type": "code",
   "execution_count": null,
   "metadata": {},
   "outputs": [],
   "source": [
    "df3 = pd.merge(df, df_right_2, on=['Name'], how='outer')\n",
    "df3"
   ]
  },
  {
   "cell_type": "markdown",
   "metadata": {},
   "source": [
    "Внешнее соединение (**outer join**) таблиц по значениям столбцов одной таблицы и индексам другой"
   ]
  },
  {
   "cell_type": "code",
   "execution_count": null,
   "metadata": {},
   "outputs": [],
   "source": [
    "df"
   ]
  },
  {
   "cell_type": "code",
   "execution_count": null,
   "metadata": {},
   "outputs": [],
   "source": [
    "dict_new_3 = {\n",
    "    \"ClientId\":[2, 2, 3, 3, 4, 4, 10],\n",
    "    \"Device\":[\"TV\", \"Smartphone\", \"TV\", \"Pendrive\", \"TV\", \"TV\", \"PC\"]\n",
    "}\n",
    "\n",
    "df_right_3 = pd.DataFrame(data=dict_new_3)\n",
    "df_right_3"
   ]
  },
  {
   "cell_type": "code",
   "execution_count": null,
   "metadata": {},
   "outputs": [],
   "source": [
    "df3 = pd.merge(df, df_right_3, left_index=True, right_on=\"ClientId\", how=\"outer\")\n",
    "df3"
   ]
  },
  {
   "cell_type": "markdown",
   "metadata": {},
   "source": [
    "#### Метод `join`"
   ]
  },
  {
   "cell_type": "markdown",
   "metadata": {},
   "source": [
    "Внешнее соединение (**outer join**) таблиц по индексу"
   ]
  },
  {
   "cell_type": "code",
   "execution_count": null,
   "metadata": {},
   "outputs": [],
   "source": [
    "df"
   ]
  },
  {
   "cell_type": "code",
   "execution_count": null,
   "metadata": {},
   "outputs": [],
   "source": [
    "df_right_1"
   ]
  },
  {
   "cell_type": "code",
   "execution_count": null,
   "metadata": {},
   "outputs": [],
   "source": [
    "df3 = df.join(df_right_1, how=\"outer\")\n",
    "df3"
   ]
  },
  {
   "cell_type": "markdown",
   "metadata": {},
   "source": [
    "Внешнее соединение (**outer join**) таблиц по значениям столбцов одной таблицы и индексам другой"
   ]
  },
  {
   "cell_type": "code",
   "execution_count": null,
   "metadata": {},
   "outputs": [],
   "source": [
    "dict_new_3 = {\n",
    "    'ClientId': [2, 2, 3, 3, 4, 4, 10],\n",
    "    'Device': ['TV', 'Smartphone', 'TV', 'Pendrive', 'TV', 'TV', 'PC']\n",
    "}\n",
    "\n",
    "df_left = pd.DataFrame(data=dict_new_3)\n",
    "df_left"
   ]
  },
  {
   "cell_type": "code",
   "execution_count": null,
   "metadata": {},
   "outputs": [],
   "source": [
    "df3 = df_left.join(other=df, on='ClientId', how='outer')\n",
    "df3"
   ]
  },
  {
   "cell_type": "markdown",
   "metadata": {},
   "source": [
    "Левое внешнее соединение (**left outer join**) таблиц по индексу"
   ]
  },
  {
   "cell_type": "code",
   "execution_count": null,
   "metadata": {},
   "outputs": [],
   "source": [
    "df3 = df.join(df_right_1, how='left')\n",
    "df3"
   ]
  },
  {
   "cell_type": "markdown",
   "metadata": {},
   "source": [
    "Внешнее левое соединение (**left outer join**) таблиц по значениям столбцов одной таблицы и индексам другой"
   ]
  },
  {
   "cell_type": "code",
   "execution_count": null,
   "metadata": {},
   "outputs": [],
   "source": [
    "df3 = df_left.join(df, on='ClientId', how='left')\n",
    "df3"
   ]
  },
  {
   "cell_type": "markdown",
   "metadata": {},
   "source": [
    "Правое внешнее соединение (**right outer join**) таблиц по индексу"
   ]
  },
  {
   "cell_type": "code",
   "execution_count": null,
   "metadata": {},
   "outputs": [],
   "source": [
    "df3 = df.join(df_right_1, how='right')\n",
    "df3"
   ]
  },
  {
   "cell_type": "markdown",
   "metadata": {},
   "source": [
    "Внешнее правое соединение (**right outer join**) таблиц по значениям столбцов одной таблицы и индексам другой"
   ]
  },
  {
   "cell_type": "code",
   "execution_count": null,
   "metadata": {},
   "outputs": [],
   "source": [
    "df3 = df_left.join(df, on='ClientId', how='right')\n",
    "df3"
   ]
  },
  {
   "cell_type": "markdown",
   "metadata": {},
   "source": [
    "Внутреннее соединение (**inner join**) таблиц по индексу"
   ]
  },
  {
   "cell_type": "code",
   "execution_count": null,
   "metadata": {},
   "outputs": [],
   "source": [
    "df3 = df.join(df_right_1, how='inner')\n",
    "df3"
   ]
  },
  {
   "cell_type": "markdown",
   "metadata": {},
   "source": [
    "Внутреннее соединение (**inner join**) таблиц по значениям столбцов одной таблицы и индексам другой"
   ]
  },
  {
   "cell_type": "code",
   "execution_count": null,
   "metadata": {},
   "outputs": [],
   "source": [
    "df3 = df_left.join(df, on='ClientId', how='inner')\n",
    "df3"
   ]
  },
  {
   "cell_type": "markdown",
   "metadata": {},
   "source": [
    "### Методы *iterrows*, *map*, *apply*, *applymap*"
   ]
  },
  {
   "cell_type": "markdown",
   "metadata": {},
   "source": [
    "Использование итератора по строкам - метод **iterrows()**"
   ]
  },
  {
   "cell_type": "code",
   "execution_count": null,
   "metadata": {},
   "outputs": [],
   "source": [
    "for i, row in df.iterrows():\n",
    "    print(i)\n",
    "    print(row)"
   ]
  },
  {
   "cell_type": "markdown",
   "metadata": {},
   "source": [
    "Пример"
   ]
  },
  {
   "cell_type": "code",
   "execution_count": null,
   "metadata": {},
   "outputs": [],
   "source": [
    "df2 = pd.DataFrame(columns=df.columns)  # новый DataFrame со схемой (столбцами) df\n",
    "for i, row in df.iterrows():\n",
    "    # Если City есть Moscow или Minsk, строка row добавляется в df2\n",
    "    if row.City in ['Moscow', 'Minsk']:\n",
    "        df2.loc[i] = row\n",
    "\n",
    "df2"
   ]
  },
  {
   "cell_type": "markdown",
   "metadata": {},
   "source": [
    "Выбор/фильтрация строк посредством методов **apply()** и **map()**"
   ]
  },
  {
   "cell_type": "code",
   "execution_count": null,
   "metadata": {},
   "outputs": [],
   "source": [
    "df2 = df[df[\"City\"].apply(lambda city: city in [\"Moscow\", \"Minsk\"])]\n",
    "df2"
   ]
  },
  {
   "cell_type": "code",
   "execution_count": null,
   "metadata": {},
   "outputs": [],
   "source": [
    "# Через функцию (без lambda)\n",
    "def func(city):\n",
    "    return city in [\"Moscow\", \"Minsk\"]\n",
    "\n",
    "df2 = df[df.City.apply(func)]\n",
    "df2"
   ]
  },
  {
   "cell_type": "code",
   "execution_count": null,
   "metadata": {},
   "outputs": [],
   "source": [
    "# Более простой вариант\n",
    "df[df.City.isin([\"Moscow\", \"Minsk\"])]"
   ]
  },
  {
   "cell_type": "markdown",
   "metadata": {},
   "source": [
    "Выбор строк без нулевых значений"
   ]
  },
  {
   "cell_type": "code",
   "execution_count": null,
   "metadata": {},
   "outputs": [],
   "source": [
    "df[df.Grade.apply(lambda x: not np.isnan(x))]"
   ]
  },
  {
   "cell_type": "code",
   "execution_count": null,
   "metadata": {},
   "outputs": [],
   "source": [
    "df[df.Grade.notnull()]"
   ]
  },
  {
   "cell_type": "markdown",
   "metadata": {},
   "source": [
    "Выбор строк с условием Year > 2000"
   ]
  },
  {
   "cell_type": "code",
   "execution_count": null,
   "metadata": {},
   "outputs": [],
   "source": [
    "df[df['Year'].map(lambda year: year >= 2000)]"
   ]
  },
  {
   "cell_type": "code",
   "execution_count": null,
   "metadata": {},
   "outputs": [],
   "source": [
    "df[df['Year']>=2000]"
   ]
  },
  {
   "cell_type": "markdown",
   "metadata": {},
   "source": [
    "Применение метода **apply()** для вычислений"
   ]
  },
  {
   "cell_type": "code",
   "execution_count": null,
   "metadata": {},
   "outputs": [],
   "source": [
    "data = np.random.randint(low=0, high=101, size=(3,7))\n",
    "data"
   ]
  },
  {
   "cell_type": "code",
   "execution_count": null,
   "metadata": {},
   "outputs": [],
   "source": [
    "dfA = pd.DataFrame(\n",
    "    data=data,\n",
    "    columns=[\"Mon\", \"Tue\", \"Wed\", \"Thu\", \"Fri\", \"Sat\", \"Sun\"],\n",
    "    index = [\"TV\", \"Smartphone\", \"Pendrive\"]\n",
    ")\n",
    "dfA"
   ]
  },
  {
   "cell_type": "code",
   "execution_count": null,
   "metadata": {},
   "outputs": [],
   "source": [
    "clmn_sum = dfA.apply(lambda clmns: clmns.sum(), axis=0)  # axis = 0 - выбор по столбцам\n",
    "clmn_sum"
   ]
  },
  {
   "cell_type": "code",
   "execution_count": null,
   "metadata": {},
   "outputs": [],
   "source": [
    "type(clmn_sum)"
   ]
  },
  {
   "cell_type": "code",
   "execution_count": null,
   "metadata": {},
   "outputs": [],
   "source": [
    "# Более простой вариант\n",
    "dfA.sum(axis=0)"
   ]
  },
  {
   "cell_type": "code",
   "execution_count": null,
   "metadata": {},
   "outputs": [],
   "source": [
    "# clmn_sum.reset_index()"
   ]
  },
  {
   "cell_type": "code",
   "execution_count": null,
   "metadata": {},
   "outputs": [],
   "source": [
    "clmn_sum.name = 'TotalByDay'\n",
    "pd.DataFrame(clmn_sum)"
   ]
  },
  {
   "cell_type": "code",
   "execution_count": null,
   "metadata": {},
   "outputs": [],
   "source": [
    "row_sum = dfA.apply(lambda row: row.sum(), axis=1)  # axis = 1 - выбор по строкам\n",
    "row_sum"
   ]
  },
  {
   "cell_type": "code",
   "execution_count": null,
   "metadata": {},
   "outputs": [],
   "source": [
    "# Более простой вариант\n",
    "dfA.sum(axis=1)"
   ]
  },
  {
   "cell_type": "code",
   "execution_count": null,
   "metadata": {},
   "outputs": [],
   "source": [
    "row_sum.name = 'TotalByDevice'\n",
    "pd.DataFrame(row_sum)"
   ]
  },
  {
   "cell_type": "code",
   "execution_count": null,
   "metadata": {},
   "outputs": [],
   "source": [
    "dfA[\"Working_Days\"] = dfA.apply(lambda x: x[:5].sum(), axis=1)\n",
    "dfA"
   ]
  },
  {
   "cell_type": "code",
   "execution_count": null,
   "metadata": {},
   "outputs": [],
   "source": [
    "# Более простой вариант\n",
    "dfA.iloc[:,:5].sum(axis=1)"
   ]
  },
  {
   "cell_type": "code",
   "execution_count": null,
   "metadata": {},
   "outputs": [],
   "source": [
    "dfA[\"Weekend\"] = dfA.apply(lambda x: x[5:7].sum(), axis=1)\n",
    "dfA"
   ]
  },
  {
   "cell_type": "code",
   "execution_count": null,
   "metadata": {},
   "outputs": [],
   "source": [
    "# Более простой вариант\n",
    "dfA.iloc[:,5:].sum(axis=1)"
   ]
  },
  {
   "cell_type": "code",
   "execution_count": null,
   "metadata": {},
   "outputs": [],
   "source": [
    "# Удаление столбцов Working_Days и Weekend\n",
    "dfA.drop([\"Working_Days\",\"Weekend\"], axis=1, inplace=True)"
   ]
  },
  {
   "cell_type": "markdown",
   "metadata": {},
   "source": [
    "Нормализация значений по строке через *apply*"
   ]
  },
  {
   "cell_type": "code",
   "execution_count": null,
   "metadata": {},
   "outputs": [],
   "source": [
    "dfA.apply(lambda x: x/x.sum(), axis=1)"
   ]
  },
  {
   "cell_type": "markdown",
   "metadata": {},
   "source": [
    "Нормализация через дополнительную функцию"
   ]
  },
  {
   "cell_type": "code",
   "execution_count": null,
   "metadata": {},
   "outputs": [],
   "source": [
    "def norm(row):\n",
    "    s = row.sum()\n",
    "    return [el/s for el in row] # или return row/s\n",
    "\n",
    "dfA.apply(norm, axis=1)"
   ]
  },
  {
   "cell_type": "markdown",
   "metadata": {},
   "source": [
    "Применение метода **applymap()**"
   ]
  },
  {
   "cell_type": "code",
   "execution_count": null,
   "metadata": {},
   "outputs": [],
   "source": [
    "dfA"
   ]
  },
  {
   "cell_type": "code",
   "execution_count": null,
   "metadata": {},
   "outputs": [],
   "source": [
    "df4 = dfA.map(lambda cell: cell/100)\n",
    "df4"
   ]
  },
  {
   "cell_type": "code",
   "execution_count": null,
   "metadata": {},
   "outputs": [],
   "source": [
    "# Более простой вариант\n",
    "dfA / 100"
   ]
  },
  {
   "cell_type": "markdown",
   "metadata": {},
   "source": [
    "## Математическая поддержка"
   ]
  },
  {
   "cell_type": "markdown",
   "metadata": {},
   "source": [
    "### Операции со столбцами"
   ]
  },
  {
   "cell_type": "code",
   "execution_count": null,
   "metadata": {},
   "outputs": [],
   "source": [
    "dfA"
   ]
  },
  {
   "cell_type": "code",
   "execution_count": null,
   "metadata": {},
   "outputs": [],
   "source": [
    "nom_values = dfA.Mon / 100\n",
    "nom_values"
   ]
  },
  {
   "cell_type": "code",
   "execution_count": null,
   "metadata": {},
   "outputs": [],
   "source": [
    "dfA.Mon = dfA.Mon + 10\n",
    "dfA"
   ]
  },
  {
   "cell_type": "code",
   "execution_count": null,
   "metadata": {},
   "outputs": [],
   "source": [
    "sum_Mon_Tue = dfA[\"Mon\"] + dfA[\"Tue\"]\n",
    "sum_Mon_Tue"
   ]
  },
  {
   "cell_type": "code",
   "execution_count": null,
   "metadata": {},
   "outputs": [],
   "source": [
    "mult_Mon_Tue = dfA[\"Mon\"] * dfA[\"Tue\"]\n",
    "mult_Mon_Tue"
   ]
  },
  {
   "cell_type": "markdown",
   "metadata": {},
   "source": [
    "Пример вычисления суммы по всем столбцам с циклом *for*"
   ]
  },
  {
   "cell_type": "code",
   "execution_count": null,
   "metadata": {},
   "outputs": [],
   "source": [
    "dfA.columns"
   ]
  },
  {
   "cell_type": "code",
   "execution_count": null,
   "metadata": {},
   "outputs": [],
   "source": [
    "dfA[\"Total\"] = dfA[dfA.columns[0]]\n",
    "for i in range(1, len(dfA.columns)-1):\n",
    "    dfA[\"Total\"] += dfA[dfA.columns[i]]\n",
    "\n",
    "dfA"
   ]
  },
  {
   "cell_type": "code",
   "execution_count": null,
   "metadata": {},
   "outputs": [],
   "source": [
    "# Удаление столбца Total\n",
    "dfA.drop([\"Total\"], axis=1, inplace=True)\n",
    "dfA"
   ]
  },
  {
   "cell_type": "markdown",
   "metadata": {},
   "source": [
    "Пример вычисления суммы по всем столбцам с использованием *apply*"
   ]
  },
  {
   "cell_type": "code",
   "execution_count": null,
   "metadata": {},
   "outputs": [],
   "source": [
    "dfA[\"Total\"] = dfA.apply(lambda row: row.sum(), axis=1)\n",
    "dfA"
   ]
  },
  {
   "cell_type": "code",
   "execution_count": null,
   "metadata": {},
   "outputs": [],
   "source": [
    "dfA.drop([\"Total\"], axis=1, inplace=True)"
   ]
  },
  {
   "cell_type": "markdown",
   "metadata": {},
   "source": [
    "Пример вычисления суммы по всем столбцам с использованием *sum*"
   ]
  },
  {
   "cell_type": "code",
   "execution_count": null,
   "metadata": {},
   "outputs": [],
   "source": [
    "dfA[\"Total\"] = dfA.sum(axis=1)\n",
    "dfA"
   ]
  },
  {
   "cell_type": "code",
   "execution_count": null,
   "metadata": {},
   "outputs": [],
   "source": [
    "dfA.drop([\"Total\"], axis=1, inplace=True)"
   ]
  },
  {
   "cell_type": "markdown",
   "metadata": {},
   "source": [
    "### Специальные методы"
   ]
  },
  {
   "cell_type": "code",
   "execution_count": null,
   "metadata": {},
   "outputs": [],
   "source": [
    "dfA"
   ]
  },
  {
   "cell_type": "code",
   "execution_count": null,
   "metadata": {},
   "outputs": [],
   "source": [
    "dfA.count(axis=0)"
   ]
  },
  {
   "cell_type": "code",
   "execution_count": null,
   "metadata": {},
   "outputs": [],
   "source": [
    "dfA.count(axis=1)"
   ]
  },
  {
   "cell_type": "code",
   "execution_count": null,
   "metadata": {},
   "outputs": [],
   "source": [
    "dfA.min(axis=0)"
   ]
  },
  {
   "cell_type": "code",
   "execution_count": null,
   "metadata": {},
   "outputs": [],
   "source": [
    "dfA.min(axis=1)"
   ]
  },
  {
   "cell_type": "code",
   "execution_count": null,
   "metadata": {},
   "outputs": [],
   "source": [
    "dfA[\"Mon\"].min()"
   ]
  },
  {
   "cell_type": "code",
   "execution_count": null,
   "metadata": {},
   "outputs": [],
   "source": [
    "dfA[\"Mon\"].idxmin()"
   ]
  },
  {
   "cell_type": "code",
   "execution_count": null,
   "metadata": {},
   "outputs": [],
   "source": [
    "dfA.max(axis=0)"
   ]
  },
  {
   "cell_type": "code",
   "execution_count": null,
   "metadata": {},
   "outputs": [],
   "source": [
    "dfA.max(axis=1)"
   ]
  },
  {
   "cell_type": "code",
   "execution_count": null,
   "metadata": {},
   "outputs": [],
   "source": [
    "dfA[\"Mon\"].idxmax()"
   ]
  },
  {
   "cell_type": "code",
   "execution_count": null,
   "metadata": {},
   "outputs": [],
   "source": [
    "dfA.sum(axis=0)"
   ]
  },
  {
   "cell_type": "code",
   "execution_count": null,
   "metadata": {},
   "outputs": [],
   "source": [
    "dfA.sum(axis=1)"
   ]
  },
  {
   "cell_type": "code",
   "execution_count": null,
   "metadata": {},
   "outputs": [],
   "source": [
    "dfA[\"Mon\"].sum()"
   ]
  },
  {
   "cell_type": "code",
   "execution_count": null,
   "metadata": {},
   "outputs": [],
   "source": [
    "dfA.mean(axis=0)"
   ]
  },
  {
   "cell_type": "code",
   "execution_count": null,
   "metadata": {},
   "outputs": [],
   "source": [
    "dfA.mean(axis=1)"
   ]
  },
  {
   "cell_type": "code",
   "execution_count": null,
   "metadata": {},
   "outputs": [],
   "source": [
    "dfA[\"Mon\"].mean()"
   ]
  },
  {
   "cell_type": "code",
   "execution_count": null,
   "metadata": {},
   "outputs": [],
   "source": [
    "dfA.var(axis=0)"
   ]
  },
  {
   "cell_type": "code",
   "execution_count": null,
   "metadata": {},
   "outputs": [],
   "source": [
    "dfA.var(axis=1)"
   ]
  },
  {
   "cell_type": "code",
   "execution_count": null,
   "metadata": {},
   "outputs": [],
   "source": [
    "dfA.std(axis=1)"
   ]
  },
  {
   "cell_type": "code",
   "execution_count": null,
   "metadata": {},
   "outputs": [],
   "source": [
    "dfA[\"Mon\"].std()"
   ]
  },
  {
   "cell_type": "code",
   "execution_count": null,
   "metadata": {},
   "outputs": [],
   "source": [
    "dfA.describe()"
   ]
  },
  {
   "cell_type": "code",
   "execution_count": null,
   "metadata": {},
   "outputs": [],
   "source": [
    "dfA[\"Mon\"].describe()"
   ]
  },
  {
   "cell_type": "code",
   "execution_count": null,
   "metadata": {},
   "outputs": [],
   "source": [
    "dfA.corr()"
   ]
  },
  {
   "cell_type": "code",
   "execution_count": null,
   "metadata": {},
   "outputs": [],
   "source": [
    "dfA.cov()"
   ]
  },
  {
   "cell_type": "markdown",
   "metadata": {},
   "source": [
    "## Визуализация данных"
   ]
  },
  {
   "cell_type": "markdown",
   "metadata": {},
   "source": [
    "### График (plot)"
   ]
  },
  {
   "cell_type": "code",
   "execution_count": null,
   "metadata": {},
   "outputs": [],
   "source": [
    "import matplotlib.pyplot as plt\n",
    "%matplotlib inline"
   ]
  },
  {
   "cell_type": "code",
   "execution_count": null,
   "metadata": {},
   "outputs": [],
   "source": [
    "dfA"
   ]
  },
  {
   "cell_type": "code",
   "execution_count": null,
   "metadata": {
    "scrolled": true
   },
   "outputs": [],
   "source": [
    "dfA.T.plot(style='o-')\n",
    "plt.title('TV vs Smartphone')\n",
    "plt.grid(True)\n",
    "plt.xlabel(\"Day of the Week\")\n",
    "plt.ylabel(\"Count\")\n",
    "plt.show()"
   ]
  },
  {
   "cell_type": "code",
   "execution_count": null,
   "metadata": {},
   "outputs": [],
   "source": [
    "fig, ax = plt.subplots(1, 1)\n",
    "ax.set_title('TV vs Smartphone')\n",
    "ax = dfA.T.plot.line(style='o-', ax=ax)\n",
    "ax.set_xlabel(\"Day of the Week\")\n",
    "ax.set_ylabel(\"Count\")\n",
    "ax.grid(True)\n",
    "plt.show()"
   ]
  },
  {
   "cell_type": "markdown",
   "metadata": {},
   "source": [
    "### Гистограмма"
   ]
  },
  {
   "cell_type": "code",
   "execution_count": null,
   "metadata": {},
   "outputs": [],
   "source": [
    "hists = dfA.hist(\n",
    "    bins=10,\n",
    "    color=\"orange\",\n",
    "    figsize=(12,8),\n",
    "    density=False,\n",
    "    sharex=False\n",
    ")\n",
    "plt.tight_layout()\n",
    "plt.show()"
   ]
  },
  {
   "cell_type": "code",
   "execution_count": null,
   "metadata": {},
   "outputs": [],
   "source": [
    "hist = dfA.T.hist(bins=4)\n",
    "plt.tight_layout()\n",
    "plt.show()"
   ]
  },
  {
   "cell_type": "code",
   "execution_count": null,
   "metadata": {},
   "outputs": [],
   "source": [
    "hist = dfA.plot.hist(bins=10, alpha=0.5)\n",
    "plt.show()"
   ]
  },
  {
   "cell_type": "markdown",
   "metadata": {},
   "source": [
    "## Источники"
   ]
  },
  {
   "cell_type": "markdown",
   "metadata": {},
   "source": [
    "<div>Документация\n",
    "<a href=\"https://pandas.pydata.org/pandas-docs/version/0.25.1/index.html\">Pandas 0.25.1 documentation. Index</a><br>\n",
    "\n",
    "Разбор функциональных возможностей\n",
    "<a href=\"http://pandas.pydata.org/pandas-docs/stable/dsintro.html\">Intro to Data Structures</a><br>\n",
    "<a href=\"http://pandas.pydata.org/pandas-docs/stable/indexing.html\">Indexing and Selecting Data</a><br>\n",
    "<a href=\"http://pandas.pydata.org/pandas-docs/stable/io.html\">IO Tools (Text, CSV, HDF5, ...)</a><br>\n",
    "<a href=\"http://pandas.pydata.org/pandas-docs/stable/groupby.html\">Group By: split-apply-combine</a><br>\n",
    "<a href=\"http://pandas.pydata.org/pandas-docs/stable/advanced.html\">MultiIndex / Advanced Indexing</a><br>\n",
    "<a href=\"http://pandas.pydata.org/pandas-docs/stable/merging.html\">Merge, join, and concatenate</a><br>\n",
    "<a href=\"http://pandas.pydata.org/pandas-docs/stable/merging.html\">Essential Basic Functionality</a><br>\n",
    "<a href=\"https://s3.amazonaws.com/quandl-static-content/Documents/Quandl+-+Pandas,+SciPy,+NumPy+Cheat+Sheet.pdf\">NumPy / SciPy / Pandas Cheat Sheet</a><br>\n",
    "<a href=\"http://www.swegler.com/becky/blog/2014/08/06/useful-pandas-snippets/\">Useful Pandas Snippets</a><br>\n",
    "<a href=\"http://chrisalbon.com/python/pandas_apply_operations_to_dataframes.html\">Applying Operations Over pandas Dataframes</a><br>\n",
    "<a href=\"http://nbviewer.jupyter.org/urls/bitbucket.org/hrojas/learn-pandas/raw/master/lessons/01%20-%20Lesson.ipynb\">Pandas. Lesson 1</a><br>\n",
    "<a href=\"http://chrisalbon.com/python/pandas_dropping_column_and_rows.html\">Dropping Rows And Columns In pandas Dataframe</a><br>\n",
    "<a href=\"http://chrisalbon.com/python/pandas_dataframe_descriptive_stats.html\">Descriptive Statistics For pandas Dataframe</a><br>\n",
    "\n",
    "Примеры использования\n",
    "<a href=\"http://synesthesiam.com/posts/an-introduction-to-pandas.html\">An Introduction to Pandas (weather analysis)</a><br>\n",
    "<a href=\"http://pbpython.com/excel-pandas-comp.html\">Common Excel Tasks Demonstrated in Pandas</a><br>\n",
    "<a href=\"http://wavedatalab.github.io/datawithpython/aggregate.html\">Using Pandas for Analyzing Data - Grouping and Aggregating</a><br>\n",
    "<a href=\"http://dataconomy.com/14-best-python-pandas-features/\">14 BEST PYTHON PANDAS FEATURES</a><br>\n",
    "<a href=\"http://www.randalolson.com/2012/08/06/statistical-analysis-made-easy-in-python/\">Statistical analysis made easy in Python with SciPy and pandas DataFrames</a><br>\n",
    "</div>"
   ]
  },
  {
   "cell_type": "code",
   "execution_count": null,
   "metadata": {},
   "outputs": [],
   "source": []
  }
 ],
 "metadata": {
  "kernelspec": {
   "display_name": "mlmethods",
   "language": "python",
   "name": "python3"
  },
  "language_info": {
   "codemirror_mode": {
    "name": "ipython",
    "version": 3
   },
   "file_extension": ".py",
   "mimetype": "text/x-python",
   "name": "python",
   "nbconvert_exporter": "python",
   "pygments_lexer": "ipython3",
   "version": "3.11.9"
  }
 },
 "nbformat": 4,
 "nbformat_minor": 1
}
