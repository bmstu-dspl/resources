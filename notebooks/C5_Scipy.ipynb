{
 "cells": [
  {
   "cell_type": "markdown",
   "metadata": {},
   "source": [
    "# Введение в **SciPy**\n",
    "\n",
    "<div style=\"text-align:right;\">Гейне М.А. <span style=\"font-style: italic;font-weight: bold;\">(geine@bmstu.ru)</div>"
   ]
  },
  {
   "cell_type": "markdown",
   "metadata": {},
   "source": [
    "**SciPy** - это библиотека Python, используемая для научных и технических вычислений. Построенная на основе **NumPy**, она расширяет возможности Python в таких областях, как **математика**, **инженерия** и **наука**, предлагая расширенные функции и алгоритмы в различных областях.\n",
    "\n",
    "В то время как NumPy предлагает фундаментальную поддержку операций с массивами, SciPy включает специализированные методы для более сложных научных вычислений.\n",
    "\n",
    "SciPy состоит из подмодулей, которые охватывают конкретные области, такие как линейная алгебра (`scipy.linalg`), оптимизация (`scipy.optimize`), статистика (`scipy.stats`), обработка сигналов (`scipy.signal`) и другие.\n",
    "\n",
    "SciPy особенно полезен при работе с:\n",
    "\n",
    "- Сложными научными вычислениями: Задачи, выходящие за рамки базовых числовых операций, такие как решение дифференциальных уравнений, выполнение преобразований Фурье или применение продвинутых статистических тестов.\n",
    "- Математическим моделированием: Моделирование проблем, связанных с оптимизацией, интегрированием или линейной алгеброй.\n",
    "- Научными и инженерными задачами: В таких областях, как физика, биология и инженерия, часто требуются специализированные процедуры, которые предоставляет SciPy.\n",
    "\n",
    "На практике SciPy часто используется после первоначальной подготовки данных и манипулирования ими с помощью NumPy и Pandas. Функции SciPy могут решать более специализированные задачи, которые могут потребоваться при анализе данных или разработке модели."
   ]
  },
  {
   "cell_type": "markdown",
   "metadata": {},
   "source": [
    "## Обзор основных модулей"
   ]
  },
  {
   "cell_type": "markdown",
   "metadata": {},
   "source": [
    "### Оптимизация\n",
    "\n",
    "- Модуль SciPy `optimize` предоставляет инструменты для нахождения минимума или максимума функций, решения уравнений и аппроксимации кривых.\n",
    "- **Общие функции**:\n",
    "    - **`minimize()`**: Находит минимум функции, полезен в машинном обучении и статистическом моделировании.\n",
    "    - **`curve_fit()`**: Подгоняет функцию к данным с помощью метода наименьших квадратов, идеально подходит для регрессионного анализа.\n",
    "    - **`root()`**: Находит корни функции (т. е. значения, для которых функция равна нулю)."
   ]
  },
  {
   "cell_type": "markdown",
   "metadata": {},
   "source": [
    "**`minimize()`**: Эта функция общего назначения находит минимум скалярной функции. Она поддерживает несколько алгоритмов оптимизации, таких как:\n",
    "\n",
    "- **BFGS**: Градиентный метод, подходящий для гладких функций\n",
    "- **Nelder-Mead**: Метод без производных, полезный для негладких функций\n",
    "- **TNC**: Для функций с ограничениями на переменные"
   ]
  },
  {
   "cell_type": "code",
   "execution_count": null,
   "metadata": {},
   "outputs": [],
   "source": [
    "# %matplotlib inline\n",
    "# или\n",
    "# %pip install ipympl\n",
    "%matplotlib widget"
   ]
  },
  {
   "cell_type": "code",
   "execution_count": null,
   "metadata": {},
   "outputs": [],
   "source": [
    "from scipy.optimize import minimize\n",
    "\n",
    "# Define the function we want to minimize\n",
    "def objective(x):\n",
    "    return (x - 3) ** 2 + 4\n",
    "\n",
    "# Minimize starting from an initial guess of 0\n",
    "result = minimize(objective, x0=0)\n",
    "print(\"Optimal x:\", result.x)\n",
    "print(\"Function minimum:\", result.fun)\n"
   ]
  },
  {
   "cell_type": "code",
   "execution_count": null,
   "metadata": {},
   "outputs": [],
   "source": [
    "import numpy as np\n",
    "import matplotlib.pyplot as plt\n",
    "\n",
    "x_values = np.linspace(-2, 8, 100)\n",
    "y_values = objective(x_values)\n",
    "optimal_x = result.x[0]\n",
    "\n",
    "plt.figure(0)\n",
    "plt.plot(x_values, y_values, label=\"Objective Function\")\n",
    "plt.scatter(optimal_x, objective(optimal_x), color=\"red\", label=\"Minimum Point\")\n",
    "plt.title(\"Minimizing a Function\")\n",
    "plt.xlabel(\"x\")\n",
    "plt.ylabel(\"f(x)\")\n",
    "plt.legend()\n",
    "plt.show()"
   ]
  },
  {
   "cell_type": "markdown",
   "metadata": {},
   "source": [
    "- Функция `minimize` также может работать с ограничениями и границами, позволяя вам определить условия, которым должно удовлетворять решение.\n",
    "- **Ограничения** могут быть равенствами (`type='eq'`) или неравенствами (`type='ineq'`), где вы задаете условия для выходов функции."
   ]
  },
  {
   "cell_type": "code",
   "execution_count": null,
   "metadata": {},
   "outputs": [],
   "source": [
    "from scipy.optimize import minimize\n",
    "\n",
    "# Define the objective function\n",
    "def objective(x):\n",
    "    return x[0]**2 + x[1]**2\n",
    "\n",
    "# Define the constraint (x[0] + x[1] >= 1)\n",
    "constraints = {'type': 'ineq', 'fun': lambda x: x[0] + x[1] - 1}\n",
    "\n",
    "# Define bounds for each variable\n",
    "bounds = [(0, None), (0, None)]\n",
    "\n",
    "# Minimize with constraints and bounds\n",
    "result = minimize(objective, x0=[1, 0], constraints=constraints, bounds=bounds)\n",
    "print(\"Optimal x:\", result.x)\n",
    "print(\"Function minimum:\", result.fun)\n"
   ]
  },
  {
   "cell_type": "code",
   "execution_count": null,
   "metadata": {},
   "outputs": [],
   "source": [
    "from mpl_toolkits.mplot3d import Axes3D\n",
    "\n",
    "optimal_x = result.x\n",
    "\n",
    "# Create a meshgrid for the 3D plot\n",
    "x = np.linspace(-1, 2, 100)\n",
    "y = np.linspace(-1, 2, 100)\n",
    "X, Y = np.meshgrid(x, y)\n",
    "Z = objective([X, Y])\n",
    "\n",
    "# Plot the 3D surface of the objective function\n",
    "fig = plt.figure(1, figsize=(10, 8))\n",
    "ax = fig.add_subplot(111, projection='3d')\n",
    "ax.plot_surface(X, Y, Z, cmap=\"viridis\", alpha=0.8, edgecolor='k', linewidth=0.1)\n",
    "\n",
    "# Plot the constraint plane where x0 + x1 = 1\n",
    "constraint_x = np.linspace(0, 1, 100)\n",
    "constraint_y = 1 - constraint_x\n",
    "constraint_z = objective([constraint_x, constraint_y])\n",
    "ax.plot(constraint_x, constraint_y, constraint_z, color=\"cyan\", alpha=0.6, linewidth=3, label=\"Constraint boundary (x0 + x1 = 1)\")\n",
    "\n",
    "# Plot the optimal point\n",
    "optimal_z = objective(optimal_x)\n",
    "ax.scatter(optimal_x[0], optimal_x[1], optimal_z, color=\"red\", s=100, label=\"Optimal Point\")\n",
    "\n",
    "# Set labels and title\n",
    "ax.set_xlabel(\"x0\")\n",
    "ax.set_ylabel(\"x1\")\n",
    "ax.set_zlabel(\"Objective Function\")\n",
    "plt.title(\"3D Constrained Optimization Visualization\")\n",
    "ax.legend()\n",
    "plt.show()"
   ]
  },
  {
   "cell_type": "markdown",
   "metadata": {},
   "source": [
    "Предположим, мы хотим минимизировать $f(x, y) = (x - 1)^2 + (y - 2.5)^2$ с ограничениями:\n",
    "   - $x + 2y \\leq 4$\n",
    "   - $x \\geq 0$\n",
    "   - $y \\geq 0$\n",
    "   - Ограничение равенства: $x - y = 0$"
   ]
  },
  {
   "cell_type": "code",
   "execution_count": null,
   "metadata": {},
   "outputs": [],
   "source": [
    "import numpy as np\n",
    "import matplotlib.pyplot as plt\n",
    "from scipy.optimize import minimize\n",
    "from mpl_toolkits.mplot3d import Axes3D\n",
    "\n",
    "# Define the objective function\n",
    "def objective(vars):\n",
    "    x, y = vars\n",
    "    return (x - 1)**2 + (y - 2.5)**2\n",
    "\n",
    "# Define constraints\n",
    "constraints = [\n",
    "    {'type': 'ineq', 'fun': lambda vars: 4 - vars[0] - 2 * vars[1]},  # x + 2y <= 4\n",
    "    {'type': 'ineq', 'fun': lambda vars: vars[0]},  # x >= 0\n",
    "    {'type': 'ineq', 'fun': lambda vars: vars[1]},  # y >= 0\n",
    "    {'type': 'eq', 'fun': lambda vars: vars[0] - vars[1]}  # x = y\n",
    "]\n",
    "\n",
    "# Perform the minimization\n",
    "initial_guess = [0.5, 0.5]\n",
    "result = minimize(objective, initial_guess, constraints=constraints)\n",
    "optimal_x, optimal_y = result.x\n",
    "\n",
    "# Generate a meshgrid for plotting\n",
    "x_vals = np.linspace(0, 2, 100)\n",
    "y_vals = np.linspace(0, 3, 100)\n",
    "X, Y = np.meshgrid(x_vals, y_vals)\n",
    "Z = objective([X, Y])\n",
    "\n",
    "# 3D plot of the objective function and constraints\n",
    "fig = plt.figure(2, figsize=(12, 8))\n",
    "ax = fig.add_subplot(111, projection='3d')\n",
    "ax.plot_surface(X, Y, Z, cmap=\"viridis\", alpha=0.7, edgecolor=\"none\")\n",
    "\n",
    "# Highlight the optimal point\n",
    "ax.scatter(optimal_x, optimal_y, objective([optimal_x, optimal_y]), color=\"red\", s=100, label=\"Optimal Point\")\n",
    "ax.set_title(\"3D Plot of Optimization with Constraints\")\n",
    "ax.set_xlabel(\"x\")\n",
    "ax.set_ylabel(\"y\")\n",
    "ax.set_zlabel(\"f(x, y)\")\n",
    "plt.legend()\n",
    "plt.show()\n"
   ]
  },
  {
   "cell_type": "markdown",
   "metadata": {},
   "source": [
    "**`root()`**: Находит корни функции (т.е. места, где функция равна нулю). Это полезно для решения уравнений или систем уравнений"
   ]
  },
  {
   "cell_type": "code",
   "execution_count": null,
   "metadata": {},
   "outputs": [],
   "source": [
    "from scipy.optimize import root\n",
    "\n",
    "# Define a function whose root we want to find\n",
    "def func(x):\n",
    "    return x**2 - 9\n",
    "\n",
    "# Find the root (solution) starting from an initial guess\n",
    "result = root(func, x0=3)\n",
    "print(\"Root:\", result.x)\n"
   ]
  },
  {
   "cell_type": "code",
   "execution_count": null,
   "metadata": {},
   "outputs": [],
   "source": [
    "root_x = result.x[0]\n",
    "\n",
    "# Plot the function and the root\n",
    "x_values = np.linspace(-5, 5, 100)\n",
    "y_values = func(x_values)\n",
    "\n",
    "plt.figure(3)\n",
    "\n",
    "plt.plot(x_values, y_values, label=\"Function\")\n",
    "plt.axhline(0, color=\"gray\", linestyle=\"--\")\n",
    "plt.scatter(root_x, func(root_x), color=\"red\", label=\"Root\")\n",
    "plt.title(\"Root Finding\")\n",
    "plt.xlabel(\"x\")\n",
    "plt.ylabel(\"f(x)\")\n",
    "plt.legend()\n",
    "plt.show()"
   ]
  },
  {
   "cell_type": "markdown",
   "metadata": {},
   "source": [
    "**`curve_fit()`**: Подгоняет пользовательскую функцию к набору точек данных с помощью нелинейных наименьших квадратов. Это особенно полезно в науке о данных для регрессионного анализа."
   ]
  },
  {
   "cell_type": "code",
   "execution_count": null,
   "metadata": {},
   "outputs": [],
   "source": [
    "import numpy as np\n",
    "from scipy.optimize import curve_fit\n",
    "import matplotlib.pyplot as plt\n",
    "\n",
    "# Define a model function (e.g., linear in this case)\n",
    "def model(x, a, b):\n",
    "    return a * x + b\n",
    "\n",
    "# Generate some synthetic data points\n",
    "x_data = np.linspace(0, 10, 10)\n",
    "y_data = 3 * x_data + 2 + np.random.normal(size=x_data.size)\n",
    "\n",
    "# Fit the model to the data\n",
    "params, covariance = curve_fit(model, x_data, y_data)\n",
    "print(\"Fitted parameters:\", params)\n",
    "\n",
    "# Plot the data and the fitted model\n",
    "plt.figure(4)\n",
    "plt.scatter(x_data, y_data, label=\"Data\")\n",
    "plt.plot(x_data, model(x_data, *params), color='red', label=\"Fitted line\")\n",
    "plt.legend()\n",
    "plt.show()\n"
   ]
  },
  {
   "cell_type": "markdown",
   "metadata": {},
   "source": [
    "В реальных приложениях данные часто следуют нелинейному тренду. Давайте подгоним модель экспоненциального распада к синтетическим данным, что является распространенной задачей в биологических и физических науках.\n",
    "\n",
    "Моделируемой функцией здесь является $y = a \\cdot e^{-b \\cdot x} + c$.\n"
   ]
  },
  {
   "cell_type": "code",
   "execution_count": null,
   "metadata": {},
   "outputs": [],
   "source": [
    "import numpy as np\n",
    "from scipy.optimize import curve_fit\n",
    "import matplotlib.pyplot as plt\n",
    "\n",
    "# Define the model function\n",
    "def model(x, a, b, c):\n",
    "    return a * np.exp(-b * x) + c\n",
    "\n",
    "# Generate synthetic data with noise\n",
    "x_data = np.linspace(0, 5, 50)\n",
    "y_data = model(x_data, 2.5, 1.3, 0.5) + np.random.normal(scale=0.2, size=x_data.size)\n",
    "\n",
    "# Fit the model to the data\n",
    "params, covariance = curve_fit(model, x_data, y_data, p0=[2, 1, 0.5])\n",
    "\n",
    "# Plot the data and the fitted curve\n",
    "plt.figure(5)\n",
    "plt.scatter(x_data, y_data, label=\"Data\")\n",
    "plt.plot(x_data, model(x_data, *params), color='red', label=\"Fitted Model\")\n",
    "plt.title(\"Non-Linear Curve Fitting\")\n",
    "plt.xlabel(\"x\")\n",
    "plt.ylabel(\"y\")\n",
    "plt.legend()\n",
    "plt.show()\n",
    "\n",
    "# Show the fitted parameters\n",
    "print(\"Fitted parameters:\", params)"
   ]
  },
  {
   "cell_type": "markdown",
   "metadata": {},
   "source": [
    "### Интегрирование\n",
    "\n"
   ]
  },
  {
   "cell_type": "markdown",
   "metadata": {},
   "source": [
    "Предположим, мы хотим проинтегрировать простую функцию:\n",
    "$$\n",
    "f(x) = x^2\n",
    "$$\n",
    "по интервалу $[0, 2]$.\n",
    "\n",
    "Функция SciPy `quad` может вычислить этот тип интеграла."
   ]
  },
  {
   "cell_type": "code",
   "execution_count": null,
   "metadata": {},
   "outputs": [],
   "source": [
    "from scipy.integrate import quad\n",
    "\n",
    "# Define the function to integrate\n",
    "def f(x):\n",
    "    return x**2\n",
    "\n",
    "# Perform the integration over the interval [0, 2]\n",
    "result, error = quad(f, 0, 2)\n",
    "print(\"Integral of f(x) over [0, 2]:\", result)\n",
    "print(\"Estimated error:\", error)"
   ]
  },
  {
   "cell_type": "code",
   "execution_count": null,
   "metadata": {},
   "outputs": [],
   "source": [
    "# Generate x values and corresponding y values\n",
    "x_vals = np.linspace(0, 2, 100)\n",
    "y_vals = f(x_vals)\n",
    "\n",
    "plt.figure(6)\n",
    "# Plot the function\n",
    "plt.plot(x_vals, y_vals, label=r\"$f(x) = x^2$\", color='blue')\n",
    "plt.fill_between(x_vals, y_vals, where=[(x >= 0 and x <= 2) for x in x_vals], alpha=0.3, color='cyan')\n",
    "\n",
    "# Highlight the area and add annotations\n",
    "plt.title(r\"Integration of $f(x) = x^2$ from 0 to 2\")\n",
    "plt.xlabel(\"x\")\n",
    "plt.ylabel(\"f(x)\")\n",
    "plt.legend()\n",
    "plt.show()"
   ]
  },
  {
   "cell_type": "markdown",
   "metadata": {},
   "source": [
    "Если у интегрируемой функции есть параметры, мы можем передать их, задав дополнительные аргументы.\n",
    "\n",
    "Давайте проинтегрируем:\n",
    "$$\n",
    "f(x; a, b) = a \\cdot x + b\n",
    "$$\n",
    "по интервалу $[0, 3]$, с параметрами $ a = 2 $ и $ b = 1 $."
   ]
  },
  {
   "cell_type": "code",
   "execution_count": null,
   "metadata": {},
   "outputs": [],
   "source": [
    "# Define the function with parameters\n",
    "def f_param(x, a, b):\n",
    "    return a * x + b\n",
    "\n",
    "# Set parameters\n",
    "a, b = 2, 1\n",
    "\n",
    "# Perform the integration\n",
    "result, error = quad(f_param, 0, 3, args=(a, b))\n",
    "print(\"Integral of f(x; a, b) over [0, 3]:\", result)"
   ]
  },
  {
   "cell_type": "markdown",
   "metadata": {},
   "source": [
    "Для функций двух переменных SciPy предоставляет функцию `dblquad`, которая выполняет двойное интегрирование. Давайте проинтегрируем:\n",
    "$$\n",
    "f(x, y) = x \\cdot y\n",
    "$$\n",
    "по значениям $ x $ от 0 до 2 и $ y $ от 0 до 1."
   ]
  },
  {
   "cell_type": "code",
   "execution_count": null,
   "metadata": {},
   "outputs": [],
   "source": [
    "from scipy.integrate import dblquad\n",
    "\n",
    "# Define the function of two variables\n",
    "def f(x, y):\n",
    "    return x * y\n",
    "\n",
    "# Perform the double integration\n",
    "result, error = dblquad(f, 0, 2, lambda x: 0, lambda x: 1)\n",
    "print(\"Double integral of f(x, y) over x=[0, 2] and y=[0, 1]:\", result)"
   ]
  },
  {
   "cell_type": "code",
   "execution_count": null,
   "metadata": {},
   "outputs": [],
   "source": [
    "# Set up a meshgrid for plotting\n",
    "x_vals = np.linspace(0, 2, 50)\n",
    "y_vals = np.linspace(0, 1, 50)\n",
    "X, Y = np.meshgrid(x_vals, y_vals)\n",
    "Z = f(X, Y)\n",
    "\n",
    "# Create the 3D plot\n",
    "fig = plt.figure(7, figsize=(10, 6))\n",
    "ax = fig.add_subplot(111, projection='3d')\n",
    "ax.plot_surface(X, Y, Z, cmap=\"viridis\", edgecolor=\"none\", alpha=0.8)\n",
    "\n",
    "# Labels and title\n",
    "ax.set_title(\"Surface of f(x, y) = x * y\")\n",
    "ax.set_xlabel(\"x\")\n",
    "ax.set_ylabel(\"y\")\n",
    "ax.set_zlabel(\"f(x, y)\")\n",
    "plt.show()"
   ]
  },
  {
   "cell_type": "markdown",
   "metadata": {},
   "source": [
    "Для функций с тремя переменными можно использовать `tplquad` для тройного интегрирования. Рассмотрим функцию:\n",
    "$$\n",
    "f(x, y, z) = x + y + z\n",
    "$$\n",
    "интегрируемую по $ x $ от 0 до 1, $ y $ от 0 до 2 и $ z $ от 0 до 3."
   ]
  },
  {
   "cell_type": "code",
   "execution_count": null,
   "metadata": {},
   "outputs": [],
   "source": [
    "from scipy.integrate import tplquad\n",
    "\n",
    "# Define the function of three variables\n",
    "def f(x, y, z):\n",
    "    return x + y + z\n",
    "\n",
    "# Perform the triple integration\n",
    "result, error = tplquad(f, 0, 1, lambda x: 0, lambda x: 2, lambda x, y: 0, lambda x, y: 3)\n",
    "print(\"Triple integral of f(x, y, z):\", result)"
   ]
  },
  {
   "cell_type": "markdown",
   "metadata": {},
   "source": [
    "Во многих случаях у вас могут быть дискретные данные, а не непрерывная функция. SciPy's `trapz` (правило трапеции) и `simps` (правило Симпсона) могут обрабатывать численное интегрирование для дискретных данных."
   ]
  },
  {
   "cell_type": "code",
   "execution_count": null,
   "metadata": {},
   "outputs": [],
   "source": [
    "import numpy as np\n",
    "from scipy.integrate import simpson, trapezoid\n",
    "\n",
    "# Sample data points\n",
    "x = np.linspace(0, 2, 100)\n",
    "y = x**2\n",
    "\n",
    "# Integrate using trapezoidal and Simpson's rule\n",
    "trapz_result = trapezoid(y, x)\n",
    "simps_result = simpson(y, x=x)\n",
    "\n",
    "print(\"Trapezoidal integration result:\", trapz_result)\n",
    "print(\"Simpson's rule integration result:\", simps_result)"
   ]
  },
  {
   "cell_type": "code",
   "execution_count": null,
   "metadata": {},
   "outputs": [],
   "source": [
    "# Plot data points and trapezoidal approximation\n",
    "plt.figure(8)\n",
    "plt.plot(x, y, 'o', label=\"Data Points\", color='blue')\n",
    "plt.fill_between(x, y, step=\"post\", alpha=0.4, color='orange', label=\"Trapezoidal Approximation\")\n",
    "plt.plot(x, y, label=r\"$f(x) = x^2$\", color='blue')\n",
    "\n",
    "# Labels and legend\n",
    "plt.title(\"Trapezoidal Rule Approximation\")\n",
    "plt.xlabel(\"x\")\n",
    "plt.ylabel(\"f(x)\")\n",
    "plt.legend()\n",
    "plt.show()"
   ]
  },
  {
   "cell_type": "markdown",
   "metadata": {},
   "source": [
    "SciPy's `solve_ivp` полезна для решения простых дифференциальных уравнений. Рассмотрим пример, в котором мы решаем:\n",
    "\n",
    "$$\n",
    "\\frac{dy}{dt} = -2y\n",
    "$$\n",
    "с начальным условием $ y(0) = 1 $."
   ]
  },
  {
   "cell_type": "code",
   "execution_count": null,
   "metadata": {},
   "outputs": [],
   "source": [
    "from scipy.integrate import solve_ivp\n",
    "import matplotlib.pyplot as plt\n",
    "\n",
    "# Define the differential equation dy/dt = -2y\n",
    "def dydt(t, y):\n",
    "    return -2 * y\n",
    "\n",
    "# Solve the ODE with y(0) = 1 over the interval [0, 5]\n",
    "solution = solve_ivp(dydt, [0, 5], [1], t_eval=np.linspace(0, 5, 100))\n",
    "\n",
    "# Plot the solution\n",
    "plt.figure(9)\n",
    "plt.plot(solution.t, solution.y[0], label=\"y(t)\")\n",
    "plt.xlabel(\"t\")\n",
    "plt.ylabel(\"y\")\n",
    "plt.title(\"Solution of dy/dt = -2y\")\n",
    "plt.legend()\n",
    "plt.show()"
   ]
  },
  {
   "cell_type": "code",
   "execution_count": null,
   "metadata": {},
   "outputs": [],
   "source": [
    "solution.t"
   ]
  },
  {
   "cell_type": "code",
   "execution_count": null,
   "metadata": {},
   "outputs": [],
   "source": [
    "solution.y[0]"
   ]
  },
  {
   "cell_type": "markdown",
   "metadata": {},
   "source": [
    "Некоторые интегралы имеют границы, зависящие от переменных. Например:\n",
    "$$\n",
    "\\int_0^2 \\int_0^x x \\cdot y \\, dy \\, dx\n",
    "$$\n"
   ]
  },
  {
   "cell_type": "code",
   "execution_count": null,
   "metadata": {},
   "outputs": [],
   "source": [
    "from scipy.integrate import dblquad\n",
    "\n",
    "# Define the function\n",
    "def f(x, y):\n",
    "    return x * y\n",
    "\n",
    "# Perform the integration with variable bounds for y\n",
    "result, error = dblquad(f, 0, 2, lambda x: 0, lambda x: x)\n",
    "print(\"Integral with variable bounds:\", result)"
   ]
  },
  {
   "cell_type": "code",
   "execution_count": null,
   "metadata": {},
   "outputs": [],
   "source": [
    "# Generate meshgrid\n",
    "x_vals = np.linspace(0, 2, 50)\n",
    "y_vals = np.linspace(0, 2, 50)\n",
    "X, Y = np.meshgrid(x_vals, y_vals)\n",
    "Z = np.where(Y <= X, f(X, Y), np.nan)  # Apply variable bounds\n",
    "\n",
    "# Set up the figure\n",
    "fig = plt.figure(figsize=(12, 8))\n",
    "ax = fig.add_subplot(111, projection='3d')\n",
    "\n",
    "# Plot the surface\n",
    "surf = ax.plot_surface(X, Y, Z, cmap=\"viridis\", edgecolor=\"none\", alpha=0.8)\n",
    "\n",
    "# Add shadow to represent the volume underneath\n",
    "ax.contourf(X, Y, Z, zdir='z', offset=0, cmap=\"viridis\", alpha=0.4)\n",
    "\n",
    "# Set plot limits and labels\n",
    "ax.set_xlim(0, 2)\n",
    "ax.set_ylim(0, 2)\n",
    "ax.set_zlim(0, np.nanmax(Z))\n",
    "ax.set_xlabel(\"x\")\n",
    "ax.set_ylabel(\"y\")\n",
    "ax.set_zlabel(\"f(x, y)\")\n",
    "ax.set_title(\"Volume under the Surface of f(x, y) = x * y with Variable Bounds\")\n",
    "\n",
    "# Show plot\n",
    "plt.show()"
   ]
  },
  {
   "cell_type": "markdown",
   "metadata": {},
   "source": [
    "### Статистический анализ"
   ]
  },
  {
   "cell_type": "markdown",
   "metadata": {},
   "source": [
    "SciPy предоставляет множество вероятностных распределений, которые полезны для моделирования данных. Среди них такие распространенные распределения, как нормальное, биномиальное, Пуассона и другие. Каждое распределение предлагает методы для генерации случайных выборок, вычисления вероятностей и нахождения таких метрик, как среднее значение и дисперсия."
   ]
  },
  {
   "cell_type": "code",
   "execution_count": null,
   "metadata": {},
   "outputs": [],
   "source": [
    "import numpy as np\n",
    "import matplotlib.pyplot as plt\n",
    "from scipy.stats import norm\n",
    "\n",
    "# Parameters for the normal distribution\n",
    "mu, sigma = 0, 1  # mean and standard deviation\n",
    "\n",
    "# Generate random samples\n",
    "samples = norm.rvs(loc=mu, scale=sigma, size=1000)\n",
    "\n",
    "# Create the PDF for the normal distribution\n",
    "x = np.linspace(-4, 4, 100)\n",
    "pdf = norm.pdf(x, loc=mu, scale=sigma)\n",
    "\n",
    "# Plot histogram of samples and PDF\n",
    "plt.figure(12)\n",
    "plt.hist(samples, bins=30, density=True, alpha=0.6, color='skyblue', label=\"Sample Distribution\")\n",
    "plt.plot(x, pdf, color='darkblue', lw=2, label=\"PDF of Normal Distribution\")\n",
    "plt.xlabel(\"Value\")\n",
    "plt.ylabel(\"Probability Density\")\n",
    "plt.title(\"Normal Distribution (mu=0, sigma=1)\")\n",
    "plt.legend()\n",
    "plt.show()"
   ]
  },
  {
   "cell_type": "markdown",
   "metadata": {},
   "source": [
    "SciPy предоставляет функции для вычисления основных статистических показателей, таких как среднее значение, медиана, дисперсия, асимметрия и эксцесс. Они необходимы для понимания формы и разброса данных."
   ]
  },
  {
   "cell_type": "code",
   "execution_count": null,
   "metadata": {},
   "outputs": [],
   "source": [
    "from scipy.stats import skew, kurtosis\n",
    "\n",
    "# Calculate statistics\n",
    "mean = np.mean(samples)\n",
    "std_dev = np.std(samples)\n",
    "data_skewness = skew(samples)\n",
    "data_kurtosis = kurtosis(samples)\n",
    "\n",
    "print(f\"Mean: {mean}\")\n",
    "print(f\"Standard Deviation: {std_dev}\")\n",
    "print(f\"Skewness: {data_skewness}\")\n",
    "print(f\"Kurtosis: {data_kurtosis}\")"
   ]
  },
  {
   "cell_type": "markdown",
   "metadata": {},
   "source": [
    "Проверка гипотез позволяет делать выводы о популяции на основе выборочных данных. SciPy предлагает ряд тестов гипотез, включая t-тесты, ANOVA, а также другие.\n",
    "\n",
    "Предположим, у нас есть выборка данных, и мы хотим проверить, отличается ли ее среднее значение от нуля. Мы используем одновыборочный t-тест и визуализируем распределение среднего значения выборки относительно гипотетического среднего значения популяции (которое в данном случае равно нулю).\n",
    "\n",
    "**Постановка гипотезы**:\n",
    "\n",
    "  - Нулевая гипотеза ($H_0$): Среднее значение выборки равно нулю.\n",
    "  - Альтернативная гипотеза ($H_1$): Среднее значение выборки не равно нулю."
   ]
  },
  {
   "cell_type": "code",
   "execution_count": null,
   "metadata": {},
   "outputs": [],
   "source": [
    "import numpy as np\n",
    "import matplotlib.pyplot as plt\n",
    "from scipy.stats import t, ttest_1samp\n",
    "\n",
    "# Generate sample data\n",
    "np.random.seed(42)\n",
    "sample_data = np.random.normal(0.5, 1, 30)  # Sample with a true mean of 0.5\n",
    "\n",
    "# Perform a one-sample t-test\n",
    "t_stat, p_value = ttest_1samp(sample_data, 0)\n",
    "\n",
    "# Define the t-distribution\n",
    "df = len(sample_data) - 1\n",
    "x = np.linspace(-4, 4, 1000)\n",
    "y = t.pdf(x, df)\n",
    "\n",
    "# Plot the t-distribution\n",
    "plt.figure(13)\n",
    "plt.plot(x, y, label=\"t-Distribution (df=29)\", color=\"skyblue\")\n",
    "\n",
    "# Add vertical lines for critical t-values at 0.05 significance level\n",
    "critical_value = t.ppf(1 - 0.025, df)  # Two-tailed test, so 0.025 on each side\n",
    "plt.axvline(-critical_value, color=\"red\", linestyle=\"--\", label=\"Critical Value\")\n",
    "plt.axvline(critical_value, color=\"red\", linestyle=\"--\")\n",
    "\n",
    "# Plot the sample's t-statistic\n",
    "plt.axvline(t_stat, color=\"green\", linestyle=\"--\", label=f\"t-statistic = {t_stat:.2f}\")\n",
    "\n",
    "# Add text and labels\n",
    "plt.fill_between(x, y, where=(x < -critical_value) | (x > critical_value), color='red', alpha=0.2)\n",
    "plt.xlabel(\"t-value\")\n",
    "plt.ylabel(\"Probability Density\")\n",
    "plt.title(\"One-Sample t-Test Visualization\")\n",
    "plt.legend()\n",
    "plt.show()\n",
    "\n",
    "# Print t-statistic and p-value\n",
    "print(f\"t-statistic: {t_stat}\")\n",
    "print(f\"p-value: {p_value}\")\n"
   ]
  },
  {
   "cell_type": "markdown",
   "metadata": {},
   "source": [
    "В этом сюжете:\n",
    "\n",
    "- t-распределение представляет собой распределение нулевой гипотезы.\n",
    "- Критические значения (красные пунктирные линии) при $𝛼 = 0.05$ показывают границы области отклонения.\n",
    "- t-статистика для нашей выборки изображена зеленой пунктирной линией.\n",
    "- Если t-статистика попадает в область отклонения (заштрихована красным), мы отвергаем нулевую гипотезу."
   ]
  },
  {
   "cell_type": "markdown",
   "metadata": {},
   "source": [
    "В двухвыборочном t-тесте мы сравниваем средние значения двух независимых выборок, чтобы проверить, существенно ли они отличаются. Вот визуализация, позволяющая проверить, есть ли разница в средних между двумя группами.\n",
    "\n",
    "- Нулевая гипотеза ($H_0$): Средние значения двух выборок равны.\n",
    "- Альтернативная гипотеза ($H_1$): Средние значения двух выборок не равны."
   ]
  },
  {
   "cell_type": "code",
   "execution_count": null,
   "metadata": {},
   "outputs": [],
   "source": [
    "from scipy.stats import ttest_ind\n",
    "\n",
    "# Generate two sample datasets\n",
    "np.random.seed(42)\n",
    "sample1 = np.random.normal(0.5, 1, 30)  # Mean = 0.5\n",
    "sample2 = np.random.normal(1, 1, 30)    # Mean = 1\n",
    "\n",
    "# Perform a two-sample t-test\n",
    "t_stat, p_value = ttest_ind(sample1, sample2)\n",
    "\n",
    "# Define the t-distribution\n",
    "df = len(sample1) + len(sample2) - 2\n",
    "x = np.linspace(-4, 4, 1000)\n",
    "y = t.pdf(x, df)\n",
    "\n",
    "# Plot the t-distribution\n",
    "plt.figure(14)\n",
    "plt.plot(x, y, label=\"t-Distribution (df=58)\", color=\"skyblue\")\n",
    "\n",
    "# Add critical values for a two-tailed test at 0.05 significance level\n",
    "critical_value = t.ppf(1 - 0.025, df)  # Two-tailed test\n",
    "plt.axvline(-critical_value, color=\"red\", linestyle=\"--\", label=\"Critical Value\")\n",
    "plt.axvline(critical_value, color=\"red\", linestyle=\"--\")\n",
    "\n",
    "# Plot the sample's t-statistic\n",
    "plt.axvline(t_stat, color=\"green\", linestyle=\"--\", label=f\"t-statistic = {t_stat:.2f}\")\n",
    "\n",
    "# Add text and labels\n",
    "plt.fill_between(x, y, where=(x < -critical_value) | (x > critical_value), color='red', alpha=0.2)\n",
    "plt.xlabel(\"t-value\")\n",
    "plt.ylabel(\"Probability Density\")\n",
    "plt.title(\"Two-Sample t-Test Visualization\")\n",
    "plt.legend()\n",
    "plt.show()\n",
    "\n",
    "# Print t-statistic and p-value\n",
    "print(f\"t-statistic: {t_stat}\")\n",
    "print(f\"p-value: {p_value}\")\n"
   ]
  },
  {
   "cell_type": "markdown",
   "metadata": {},
   "source": [
    "SciPy включает функции для вычисления корреляций и выполнения линейной регрессии. Корреляция измеряет связь между двумя переменными, а регрессия пытается смоделировать эту связь."
   ]
  },
  {
   "cell_type": "code",
   "execution_count": null,
   "metadata": {},
   "outputs": [],
   "source": [
    "from scipy.stats import pearsonr, linregress\n",
    "\n",
    "# Generate correlated data\n",
    "np.random.seed(0)\n",
    "x = np.random.normal(5, 1, 100)\n",
    "y = 2.5 * x + np.random.normal(0, 1, 100)\n",
    "\n",
    "# Calculate correlation coefficient\n",
    "corr_coef, _ = pearsonr(x, y)\n",
    "\n",
    "# Perform linear regression\n",
    "slope, intercept, r_value, p_value, std_err = linregress(x, y)\n",
    "line = slope * x + intercept\n",
    "\n",
    "# Plot data and regression line\n",
    "plt.figure(15)\n",
    "plt.scatter(x, y, label=\"Data Points\")\n",
    "plt.plot(x, line, color='red', label=f\"Regression Line (r={corr_coef:.2f})\")\n",
    "plt.xlabel(\"x\")\n",
    "plt.ylabel(\"y\")\n",
    "plt.title(\"Correlation and Linear Regression\")\n",
    "plt.legend()\n",
    "plt.show()"
   ]
  },
  {
   "cell_type": "markdown",
   "metadata": {},
   "source": [
    "Выборочные распределения очень важны для статистических выводов. SciPy позволяет создавать бутстрап-выборки, которые можно использовать для оценки неопределенности статистических оценок."
   ]
  },
  {
   "cell_type": "code",
   "execution_count": null,
   "metadata": {},
   "outputs": [],
   "source": [
    "from scipy.stats import bootstrap\n",
    "\n",
    "# Generate bootstrap samples\n",
    "bootstrap_result = bootstrap((samples,), np.mean, confidence_level=0.95, n_resamples=1000, random_state=0)\n",
    "\n",
    "print(f\"Mean Estimate: {bootstrap_result.standard_error}\")\n",
    "print(f\"95% Confidence Interval: {bootstrap_result.confidence_interval}\")"
   ]
  },
  {
   "cell_type": "markdown",
   "metadata": {},
   "source": [
    "### Работа с пространственными данными\n",
    "\n",
    "Инструменты SciPy для работы с пространственными данными позволяют анализировать многомерные данные и решать задачи, связанные с точками в пространстве, такие как кластеризация, поиск ближайших соседей и расстояний. Эти инструменты особенно полезны в таких приложениях, как машинное обучение, географические информационные системы (ГИС) и компьютерная графика."
   ]
  },
  {
   "cell_type": "markdown",
   "metadata": {},
   "source": [
    "KD-дерево (k-мерное дерево) - это структура данных, оптимизированная для эффективного поиска ближайших соседей. SciPy предоставляет реализацию `scipy.spatial.KDTree`, которая может искать ближайших соседей и выполнять поиск по радиусу."
   ]
  },
  {
   "cell_type": "code",
   "execution_count": null,
   "metadata": {},
   "outputs": [],
   "source": [
    "import numpy as np\n",
    "import matplotlib.pyplot as plt\n",
    "from scipy.spatial import KDTree\n",
    "\n",
    "# Generate random 2D points\n",
    "np.random.seed(42)\n",
    "points = np.random.rand(10, 2)  # 10 random points in 2D\n",
    "\n",
    "# Create KD-tree\n",
    "tree = KDTree(points)\n",
    "\n",
    "# Find nearest neighbors\n",
    "distances, indices = tree.query(points, k=2)  # k=2 to include each point and its closest neighbor\n",
    "\n",
    "# Plot points and their nearest neighbors\n",
    "plt.figure(16)\n",
    "plt.scatter(points[:, 0], points[:, 1], color=\"blue\", label=\"Points\")\n",
    "for i in range(len(points)):\n",
    "    plt.plot([points[i, 0], points[indices[i, 1], 0]],\n",
    "             [points[i, 1], points[indices[i, 1], 1]],\n",
    "             'k--', alpha=0.6)  # Line to nearest neighbor\n",
    "plt.xlabel(\"X\")\n",
    "plt.ylabel(\"Y\")\n",
    "plt.title(\"Nearest Neighbor Connections using KD-Tree\")\n",
    "plt.legend()\n",
    "plt.show()\n"
   ]
  },
  {
   "cell_type": "markdown",
   "metadata": {},
   "source": [
    "Выпуклая оболочка - это наименьший выпуклый многоугольник, который содержит набор точек. Он полезен для решения таких задач, как поиск границы множества точек или создание ограничивающих многоугольников."
   ]
  },
  {
   "cell_type": "code",
   "execution_count": null,
   "metadata": {},
   "outputs": [],
   "source": [
    "from scipy.spatial import ConvexHull\n",
    "\n",
    "# Generate random 2D points\n",
    "np.random.seed(0)\n",
    "points = np.random.rand(30, 2)\n",
    "\n",
    "# Calculate convex hull\n",
    "hull = ConvexHull(points)\n",
    "\n",
    "# Plot points and the convex hull\n",
    "plt.figure(16)\n",
    "plt.scatter(points[:, 0], points[:, 1], color=\"blue\", label=\"Points\")\n",
    "for simplex in hull.simplices:\n",
    "    plt.plot(points[simplex, 0], points[simplex, 1], \"r-\")  # Hull edges\n",
    "plt.xlabel(\"X\")\n",
    "plt.ylabel(\"Y\")\n",
    "plt.title(\"Convex Hull of Points\")\n",
    "plt.legend()\n",
    "plt.show()\n"
   ]
  },
  {
   "cell_type": "markdown",
   "metadata": {},
   "source": [
    "Триангуляция Делоне создает треугольники, соединяющие множество точек так, что ни одна точка не лежит внутри окружности любого треугольника. Эта триангуляция полезна для 3D-моделирования, создания сетки и пространственной интерполяции."
   ]
  },
  {
   "cell_type": "code",
   "execution_count": null,
   "metadata": {},
   "outputs": [],
   "source": [
    "from scipy.spatial import Delaunay\n",
    "\n",
    "# Generate random points\n",
    "np.random.seed(0)\n",
    "points = np.random.rand(30, 2)\n",
    "\n",
    "# Compute Delaunay triangulation\n",
    "tri = Delaunay(points)\n",
    "\n",
    "# Plot points and the triangulation\n",
    "plt.figure(17)\n",
    "plt.triplot(points[:, 0], points[:, 1], tri.simplices, color=\"orange\")\n",
    "plt.scatter(points[:, 0], points[:, 1], color=\"blue\", label=\"Points\")\n",
    "plt.xlabel(\"X\")\n",
    "plt.ylabel(\"Y\")\n",
    "plt.title(\"Delaunay Triangulation of Points\")\n",
    "plt.legend()\n",
    "plt.show()\n"
   ]
  },
  {
   "cell_type": "markdown",
   "metadata": {},
   "source": [
    "Диаграмма Вороного делит пространство на области в зависимости от расстояния до определенного набора точек. Каждая область соответствует точкам, расположенным ближе к определенной \"начальной\" точке, чем к любой другой. Диаграммы Вороного используются в таких областях, как биология (например, распределение клеток) и география."
   ]
  },
  {
   "cell_type": "code",
   "execution_count": null,
   "metadata": {},
   "outputs": [],
   "source": [
    "from scipy.spatial import Voronoi, voronoi_plot_2d\n",
    "\n",
    "# Generate random points\n",
    "np.random.seed(0)\n",
    "points = np.random.rand(10, 2)\n",
    "\n",
    "# Compute Voronoi diagram\n",
    "vor = Voronoi(points)\n",
    "\n",
    "# Plot Voronoi diagram\n",
    "fig, ax = plt.subplots(figsize=(8, 6), num = 18)\n",
    "voronoi_plot_2d(vor, ax=ax, show_vertices=False, line_colors=\"orange\")\n",
    "plt.scatter(points[:, 0], points[:, 1], color=\"blue\", label=\"Points\")\n",
    "plt.xlabel(\"X\")\n",
    "plt.ylabel(\"Y\")\n",
    "plt.title(\"Voronoi Diagram of Points\")\n",
    "plt.legend()\n",
    "plt.show()\n"
   ]
  }
 ],
 "metadata": {
  "kernelspec": {
   "display_name": "mlmethods",
   "language": "python",
   "name": "python3"
  },
  "language_info": {
   "codemirror_mode": {
    "name": "ipython",
    "version": 3
   },
   "file_extension": ".py",
   "mimetype": "text/x-python",
   "name": "python",
   "nbconvert_exporter": "python",
   "pygments_lexer": "ipython3",
   "version": "3.11.9"
  }
 },
 "nbformat": 4,
 "nbformat_minor": 2
}
