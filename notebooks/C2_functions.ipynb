{
 "cells": [
  {
   "cell_type": "markdown",
   "metadata": {},
   "source": [
    "# Функции в Python\n",
    "---\n",
    "М.А. Гейне (mike.geine@gmail.com)"
   ]
  },
  {
   "cell_type": "markdown",
   "metadata": {},
   "source": [
    "## Основы работы с функциями\n",
    "\n",
    "1. Объявление и вызов функции"
   ]
  },
  {
   "cell_type": "code",
   "execution_count": null,
   "metadata": {},
   "outputs": [],
   "source": [
    "def greet(name):\n",
    "    return f\"Hello, {name}!\"\n",
    "\n",
    "print(greet(\"Alice\"))"
   ]
  },
  {
   "cell_type": "markdown",
   "metadata": {},
   "source": [
    "2. Позиционные и keyword аргументы"
   ]
  },
  {
   "cell_type": "code",
   "execution_count": null,
   "metadata": {},
   "outputs": [],
   "source": [
    "def order(food, drink):\n",
    "    print(f\"Order: {food} and {drink}\")\n",
    "\n",
    "# Positional arguments\n",
    "order(\"Pizza\", \"Soda\")\n",
    "\n",
    "# Keyword arguments\n",
    "order(drink=\"Soda\", food=\"Burger\")\n"
   ]
  },
  {
   "cell_type": "markdown",
   "metadata": {},
   "source": [
    "3. `*args` и `**kwargs`"
   ]
  },
  {
   "cell_type": "code",
   "execution_count": null,
   "metadata": {},
   "outputs": [],
   "source": [
    "def print_all(*args, **kwargs):\n",
    "    for arg in args:\n",
    "        print(f\"Arg: {arg}\")\n",
    "    for key, value in kwargs.items():\n",
    "        print(f\"Key: {key}, Value: {value}\")\n",
    "\n",
    "print_all(1, 2, 3, a=10, b=20)\n"
   ]
  },
  {
   "cell_type": "markdown",
   "metadata": {},
   "source": [
    "4. Keyword-Only and Positional-Only Arguments"
   ]
  },
  {
   "cell_type": "code",
   "execution_count": null,
   "metadata": {},
   "outputs": [],
   "source": [
    "def func(pos1, pos2, /, any1, any2, *, keyword_only1, keyword_only2):\n",
    "    print(f\"Positional: {pos1}, {pos2}\")\n",
    "    print(f\"Any: {any1}, {any2}\")\n",
    "    print(f\"Keyword-only: {keyword_only1}, {keyword_only2}\")\n",
    "\n",
    "func(1, 2, 3, any2=4, keyword_only1=5, keyword_only2=6)\n"
   ]
  },
  {
   "cell_type": "markdown",
   "metadata": {},
   "source": [
    "5. Лямбды, анонимные функции"
   ]
  },
  {
   "cell_type": "code",
   "execution_count": null,
   "metadata": {},
   "outputs": [],
   "source": [
    "add = lambda x, y: x + y\n",
    "print(add(5, 3))"
   ]
  },
  {
   "cell_type": "markdown",
   "metadata": {},
   "source": [
    "Функции высшего порядка и лямбды"
   ]
  },
  {
   "cell_type": "code",
   "execution_count": null,
   "metadata": {},
   "outputs": [],
   "source": [
    "def apply_twice(func, value):\n",
    "    return func(func(value))\n",
    "\n",
    "print(apply_twice(lambda x: x * 2, 5))\n"
   ]
  },
  {
   "cell_type": "markdown",
   "metadata": {},
   "source": [
    "6. Рекурсия"
   ]
  },
  {
   "cell_type": "code",
   "execution_count": null,
   "metadata": {},
   "outputs": [],
   "source": [
    "def factorial(n):\n",
    "    if n == 1:\n",
    "        return 1\n",
    "    return n * factorial(n-1)\n",
    "\n",
    "print(factorial(5))\n"
   ]
  },
  {
   "cell_type": "markdown",
   "metadata": {},
   "source": [
    "7. Декораторы"
   ]
  },
  {
   "cell_type": "code",
   "execution_count": null,
   "metadata": {},
   "outputs": [],
   "source": [
    "def my_decorator(func):\n",
    "    def wrapper():\n",
    "        print(\"Before function call\")\n",
    "        func()\n",
    "        print(\"After function call\")\n",
    "    return wrapper\n",
    "\n",
    "@my_decorator\n",
    "def say_hello():\n",
    "    print(\"Hello!\")\n",
    "\n",
    "say_hello()\n"
   ]
  },
  {
   "cell_type": "markdown",
   "metadata": {},
   "source": [
    "## Пример 1. Ханойская башня\n",
    "\n",
    "Имеется три стержня, на первом из них располагается башня из дисков, упорядоченных по убыванию (самый большой - у основания стержня). Необходимо перенести все диски на последний стержень, при этом соблюдая правила:\n",
    "\n",
    "1. Можно перемещать только самые верхние диски\n",
    "2. Перемещать можно только 1 диск за раз\n",
    "3. Нельзя положить диск большего размера на диск меньшего размера\n",
    "\n",
    "Количество дисков заранее не известно."
   ]
  },
  {
   "cell_type": "code",
   "execution_count": null,
   "metadata": {},
   "outputs": [],
   "source": [
    "NUMBER_OF_DISKS = 3\n",
    "number_of_moves = 2**NUMBER_OF_DISKS - 1\n",
    "rods = {\n",
    "    'A': list(range(NUMBER_OF_DISKS, 0, -1)),\n",
    "    'B': [],\n",
    "    'C': []\n",
    "}\n",
    "rods"
   ]
  },
  {
   "cell_type": "markdown",
   "metadata": {},
   "source": [
    "Определим возможные перемещения"
   ]
  },
  {
   "cell_type": "code",
   "execution_count": null,
   "metadata": {},
   "outputs": [],
   "source": [
    "def move(n, source, auxiliary, target):\n",
    "    # display starting configuration\n",
    "    print(rods)\n",
    "    for i in range(number_of_moves):\n",
    "        remainder = (i + 1) % 3\n",
    "        if remainder == 1:\n",
    "            print(f'Move {i + 1} allowed between {source} and {target}')\n",
    "            forward = False\n",
    "        elif remainder == 2:\n",
    "            print(f'Move {i + 1} allowed between {source} and {auxiliary}')\n",
    "        elif remainder == 0:\n",
    "            print(f'Move {i + 1} allowed between {auxiliary} and {target}')\n",
    "\n",
    "move(NUMBER_OF_DISKS, 'A', 'B', 'C')"
   ]
  },
  {
   "cell_type": "markdown",
   "metadata": {},
   "source": [
    "Определим направления перемещения"
   ]
  },
  {
   "cell_type": "code",
   "execution_count": null,
   "metadata": {},
   "outputs": [],
   "source": [
    "def move(n, source, auxiliary, target):\n",
    "    # display starting configuration\n",
    "    print(rods)\n",
    "    for i in range(number_of_moves):\n",
    "        remainder = (i + 1) % 3\n",
    "        if remainder == 1:\n",
    "            print(f'Move {i + 1} allowed between {source} and {target}')\n",
    "            forward = False\n",
    "            if not rods[target]:\n",
    "                forward = True\n",
    "            elif rods[source] and rods[source][-1] < rods[target][-1]:\n",
    "                forward = True\n",
    "            if forward:\n",
    "                print(f'Moving disk {rods[source][-1]} from {source} to {target}')\n",
    "                rods[target].append(rods[source].pop())\n",
    "            else:\n",
    "                print(f'Moving disk {rods[target][-1]} from {target} to {source}')\n",
    "                rods[source].append(rods[target].pop())\n",
    "\n",
    "            # display our progress\n",
    "            print(rods)\n",
    "        elif remainder == 2:\n",
    "            print(f'Move {i + 1} allowed between {source} and {auxiliary}')\n",
    "        elif remainder == 0:\n",
    "            print(f'Move {i + 1} allowed between {auxiliary} and {target}')\n",
    "\n",
    "# initiate call from source A to target C with auxiliary B\n",
    "move(NUMBER_OF_DISKS, 'A', 'B', 'C')"
   ]
  },
  {
   "cell_type": "markdown",
   "metadata": {},
   "source": [
    "Выделим повторяющуюся логику"
   ]
  },
  {
   "cell_type": "code",
   "execution_count": null,
   "metadata": {},
   "outputs": [],
   "source": [
    "def make_allowed_move(rod1, rod2):\n",
    "    forward = False\n",
    "    if not rods[rod2]:\n",
    "        forward = True\n",
    "    elif rods[rod1] and rods[rod1][-1] < rods[rod2][-1]:\n",
    "        forward = True\n",
    "\n",
    "    if forward:\n",
    "        print(f'Moving disk {rods[rod1][-1]} from {rod1} to {rod2}')\n",
    "        rods[rod2].append(rods[rod1].pop())\n",
    "    else:\n",
    "        print(f'Moving disk {rods[rod2][-1]} from {rod2} to {rod1}')\n",
    "        rods[rod1].append(rods[rod2].pop())\n",
    "\n",
    "    # display our progress\n",
    "    print(rods, '\\n')\n",
    "\n",
    "def move(n, source, auxiliary, target):\n",
    "    # display starting configuration\n",
    "    print(rods, '\\n')\n",
    "    for i in range(number_of_moves):\n",
    "        remainder = (i + 1) % 3\n",
    "        if remainder == 1:\n",
    "            print(f'Move {i + 1} allowed between {source} and {target}')\n",
    "            make_allowed_move(source, target)\n",
    "        elif remainder == 2:\n",
    "            print(f'Move {i + 1} allowed between {source} and {auxiliary}')\n",
    "            make_allowed_move(source, auxiliary)\n",
    "        elif remainder == 0:\n",
    "            print(f'Move {i + 1} allowed between {auxiliary} and {target}')\n",
    "            make_allowed_move(auxiliary, target)\n",
    "\n",
    "move(NUMBER_OF_DISKS, 'A', 'B', 'C')"
   ]
  },
  {
   "cell_type": "markdown",
   "metadata": {},
   "source": [
    "Решение не работает для чётного количества дисков. Исправим:"
   ]
  },
  {
   "cell_type": "code",
   "execution_count": null,
   "metadata": {},
   "outputs": [],
   "source": [
    "def move(n, source, auxiliary, target):\n",
    "    # display starting configuration\n",
    "    print(rods, '\\n')\n",
    "    for i in range(number_of_moves):\n",
    "        remainder = (i + 1) % 3\n",
    "        if remainder == 1:\n",
    "            if n % 2 != 0:\n",
    "                print(f'Move {i + 1} allowed between {source} and {target}')\n",
    "                make_allowed_move(source, target)\n",
    "            else:\n",
    "                print(f'Move {i + 1} allowed between {source} and {auxiliary}')\n",
    "                make_allowed_move(source, auxiliary)\n",
    "        elif remainder == 2:\n",
    "            if n % 2 != 0:\n",
    "                print(f'Move {i + 1} allowed between {source} and {auxiliary}')\n",
    "                make_allowed_move(source, auxiliary)\n",
    "            else:\n",
    "                print(f'Move {i + 1} allowed between {source} and {target}')\n",
    "                make_allowed_move(source, target)\n",
    "        elif remainder == 0:\n",
    "            print(f'Move {i + 1} allowed between {auxiliary} and {target}')\n",
    "            make_allowed_move(auxiliary, target)\n",
    "\n",
    "move(NUMBER_OF_DISKS, 'A', 'B', 'C')"
   ]
  },
  {
   "cell_type": "markdown",
   "metadata": {},
   "source": [
    "Сделаем лучше и чище"
   ]
  },
  {
   "cell_type": "code",
   "execution_count": 46,
   "metadata": {},
   "outputs": [],
   "source": [
    "rods = {\n",
    "    'A': list(range(NUMBER_OF_DISKS, 0, -1)),\n",
    "    'B': [],\n",
    "    'C': []\n",
    "}"
   ]
  },
  {
   "cell_type": "code",
   "execution_count": null,
   "metadata": {},
   "outputs": [],
   "source": [
    "import copy\n",
    "\n",
    "def make_allowed_move(rods, rod1, rod2):\n",
    "    forward = False\n",
    "    if not rods[rod2]:\n",
    "        forward = True\n",
    "    elif rods[rod1] and rods[rod1][-1] < rods[rod2][-1]:\n",
    "        forward = True\n",
    "\n",
    "    if forward:\n",
    "        print(f'Moving disk {rods[rod1][-1]} from {rod1} to {rod2}')\n",
    "        rods[rod2].append(rods[rod1].pop())\n",
    "    else:\n",
    "        print(f'Moving disk {rods[rod2][-1]} from {rod2} to {rod1}')\n",
    "        rods[rod1].append(rods[rod2].pop())\n",
    "\n",
    "    # display our progress\n",
    "    print(rods, '\\n')\n",
    "\n",
    "def move(rods_origin, source, auxiliary, target):\n",
    "    if rods_origin[auxiliary] or rods_origin[target]:\n",
    "        raise Exception('Auxiliary or target rods are not empty')\n",
    "\n",
    "    rods = copy.deepcopy(rods_origin)\n",
    "    n = len(rods[source])\n",
    "    number_of_moves = 2**n - 1\n",
    "    # display starting configuration\n",
    "    print(rods, '\\n')\n",
    "    for i in range(number_of_moves):\n",
    "        remainder = (i + 1) % 3\n",
    "        if remainder == 1:\n",
    "            if n % 2 != 0:\n",
    "                print(f'Move {i + 1} allowed between {source} and {target}')\n",
    "                make_allowed_move(rods, source, target)\n",
    "            else:\n",
    "                print(f'Move {i + 1} allowed between {source} and {auxiliary}')\n",
    "                make_allowed_move(rods, source, auxiliary)\n",
    "        elif remainder == 2:\n",
    "            if n % 2 != 0:\n",
    "                print(f'Move {i + 1} allowed between {source} and {auxiliary}')\n",
    "                make_allowed_move(rods, source, auxiliary)\n",
    "            else:\n",
    "                print(f'Move {i + 1} allowed between {source} and {target}')\n",
    "                make_allowed_move(rods,source, target)\n",
    "        elif remainder == 0:\n",
    "            print(f'Move {i + 1} allowed between {auxiliary} and {target}')\n",
    "            make_allowed_move(rods, auxiliary, target)\n",
    "    return rods\n",
    "\n",
    "move(rods, 'A', 'B', 'C')"
   ]
  },
  {
   "cell_type": "markdown",
   "metadata": {},
   "source": [
    "Должно же быть решение лучше?"
   ]
  },
  {
   "cell_type": "code",
   "execution_count": null,
   "metadata": {},
   "outputs": [],
   "source": [
    "NUMBER_OF_DISKS = 5\n",
    "A = list(range(NUMBER_OF_DISKS, 0, -1))\n",
    "B = []\n",
    "C = []\n",
    "\n",
    "def move(n, source, auxiliary, target):\n",
    "    if n <= 0:\n",
    "        return\n",
    "    # move n - 1 disks from source to auxiliary, so they are out of the way\n",
    "    move(n - 1, source, target, auxiliary)\n",
    "\n",
    "    # move the nth disk from source to target\n",
    "    target.append(source.pop())\n",
    "\n",
    "    # display our progress\n",
    "    print(A, B, C, '\\n')\n",
    "\n",
    "    # move the n - 1 disks that we left on auxiliary onto target\n",
    "    move(n - 1,  auxiliary, source, target)\n",
    "\n",
    "# initiate call from source A to target C with auxiliary B\n",
    "move(NUMBER_OF_DISKS, A, B, C)"
   ]
  },
  {
   "cell_type": "markdown",
   "metadata": {},
   "source": [
    "## Пример 2. Трекер расходов\n",
    "\n",
    "Пусть все наши расходы хранятся в виде массива словарей, где каждый элемент имеет величину расхода и категорию: `[{'amount': 50.0, 'category': 'Food'}]`. Разработаем набор операций для работы с массивом расходов."
   ]
  },
  {
   "cell_type": "code",
   "execution_count": null,
   "metadata": {},
   "outputs": [],
   "source": [
    "expenses = []\n",
    "\n",
    "def add_expense(expenses, amount, category):\n",
    "    expenses.append({'amount': amount, 'category': category})\n",
    "\n",
    "def print_expenses(expenses):\n",
    "    for expense in expenses:\n",
    "        print(f'Amount: {expense[\"amount\"]}, Category: {expense[\"category\"]}')  # Внимание на кавычки\n",
    "add_expense(expenses, 50.0, 'Food')\n",
    "print_expenses(expenses)"
   ]
  },
  {
   "cell_type": "code",
   "execution_count": 62,
   "metadata": {},
   "outputs": [],
   "source": [
    "def total_expenses(expenses):\n",
    "    return sum(map(lambda expense: expense['amount'], expenses))\n",
    "\n",
    "def filter_expenses_by_category(expenses, category):\n",
    "    return filter(lambda expense: expense['category'] == category, expenses)"
   ]
  },
  {
   "cell_type": "code",
   "execution_count": null,
   "metadata": {},
   "outputs": [],
   "source": [
    "add_expense(expenses, 20.5, 'Fun')\n",
    "print(f\"Total: {total_expenses(expenses)}\")\n",
    "print('Expenses for food:')\n",
    "print_expenses(filter_expenses_by_category(expenses, 'Food'))"
   ]
  }
 ],
 "metadata": {
  "kernelspec": {
   "display_name": "mlmethods",
   "language": "python",
   "name": "python3"
  },
  "language_info": {
   "codemirror_mode": {
    "name": "ipython",
    "version": 3
   },
   "file_extension": ".py",
   "mimetype": "text/x-python",
   "name": "python",
   "nbconvert_exporter": "python",
   "pygments_lexer": "ipython3",
   "version": "3.11.9"
  }
 },
 "nbformat": 4,
 "nbformat_minor": 2
}
