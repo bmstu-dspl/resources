{
 "cells": [
  {
   "cell_type": "markdown",
   "metadata": {},
   "source": [
    "# Основы программирования на Python\n",
    "---\n",
    "М.А. Гейне (mike.geine@gmail.com)"
   ]
  },
  {
   "cell_type": "markdown",
   "metadata": {},
   "source": [
    "### Содержание\n",
    "\n",
    "- [Переменные](#Переменные)\n",
    "- [Форматирование строк](#Форматирование-строк)\n",
    "- [Ветвление программы](#Ветвление-программы)\n",
    "- [Циклы](#Циклы)\n",
    "- [Основные структуры данных](#Основные-структуры-данных)\n",
    "- [Строки](#Строки)\n",
    "- [Функции](#Функции)\n",
    "- [Генераторы](#Генераторы)\n",
    "- [Классы](#Классы)\n",
    "- [Работа с файлами](#Работа-с-файлами)\n",
    "- [Исключения](#Исключения)\n",
    "- [Модули](#Модули)"
   ]
  },
  {
   "cell_type": "markdown",
   "metadata": {},
   "source": [
    "## Создание изолированной виртуальной среды Python\n",
    "\n",
    "```bash\n",
    "/home/ubuntu/ML/anaconda3/bin/python -m venv .venv/pure-py\n",
    "```\n",
    "Активация среды:\n",
    "```bash\n",
    "source .venv/pure-py/bin/activate\n",
    "```\n",
    "\n",
    "Выход (деактивация) из среды:\n",
    "\n",
    "```\n",
    "deactivate\n",
    "```\n",
    "\n",
    "## Создание изолированной виртуальной среды Conda\n",
    "\n",
    "Создать новое окружение из YAML-файла:\n",
    "\n",
    "```bash\n",
    "conda env create -f <.yaml file>\n",
    "```\n",
    "\n",
    "Клонирование существующего окружения для создания нового окружения:\n",
    "```bash\n",
    "conda create -n <new env name> --clone <existing env name>\n",
    "```\n",
    "\n",
    "[Ссылка на пример `.yaml` файла для создания окружения](/env/conda/mlmethods.yaml)\n",
    "\n",
    "Чтобы активировать окружение, используйте следующую команду:\n",
    "```bash\n",
    "conda activate env_name\n",
    "```\n",
    "где env_name - имя окружения. Вы увидите имя среды в командной строке, чтобы подтвердить, что среда активирована.\n",
    "\n",
    "Чтобы отключить среду, используйте следующую команду:\n",
    "```bash\n",
    "conda deactivate\n",
    "```\n",
    "Это приведет к выходу из среды и возврату к базовой среде.\n",
    "\n",
    "Чтобы удалить окружение, выполните следующую команду:\n",
    "```bash\n",
    "conda env remove -n <env name>\n",
    "```\n",
    "Это приведет к удалению окружения и всех установленных в нем пакетов."
   ]
  },
  {
   "cell_type": "markdown",
   "metadata": {},
   "source": [
    "## Переменные"
   ]
  },
  {
   "cell_type": "code",
   "execution_count": 1,
   "metadata": {},
   "outputs": [],
   "source": [
    "MAX_SCORE = 100\n",
    "\n",
    "score_int = 75\n",
    "score_float = 75.0\n",
    "\n",
    "has_passed_exam_bool = True\n",
    "\n",
    "subject_str = 'math'"
   ]
  },
  {
   "cell_type": "code",
   "execution_count": 2,
   "metadata": {},
   "outputs": [
    {
     "data": {
      "text/plain": [
       "(75.0, 75, '75.0', True)"
      ]
     },
     "execution_count": 2,
     "metadata": {},
     "output_type": "execute_result"
    }
   ],
   "source": [
    "score_float = float(score_int)\n",
    "score_int = int(score_float)\n",
    "score_str = str(score_float)\n",
    "score_bool = bool('f')\n",
    "\n",
    "score_float, score_int, score_str, score_bool"
   ]
  },
  {
   "cell_type": "code",
   "execution_count": 3,
   "metadata": {},
   "outputs": [],
   "source": [
    "# +\n",
    "# -\n",
    "# /\n",
    "# //\n",
    "# %\n",
    "# **\n",
    "# abs()\n",
    "\n",
    "score_int += 10  # score_int = score_int + 10"
   ]
  },
  {
   "cell_type": "code",
   "execution_count": 4,
   "metadata": {},
   "outputs": [],
   "source": [
    "a = 10\n",
    "a = \"ten\""
   ]
  },
  {
   "cell_type": "code",
   "execution_count": 5,
   "metadata": {},
   "outputs": [
    {
     "data": {
      "text/plain": [
       "(20, 10)"
      ]
     },
     "execution_count": 5,
     "metadata": {},
     "output_type": "execute_result"
    }
   ],
   "source": [
    "a = 10; b = 20\n",
    "\n",
    "# Обмен значениями\n",
    "a, b = b, a\n",
    "a, b"
   ]
  },
  {
   "cell_type": "code",
   "execution_count": 6,
   "metadata": {},
   "outputs": [
    {
     "data": {
      "text/plain": [
       "True"
      ]
     },
     "execution_count": 6,
     "metadata": {},
     "output_type": "execute_result"
    }
   ],
   "source": [
    "a = 10\n",
    "b = 20\n",
    "c = 30\n",
    "\n",
    "# Сравнение\n",
    "a < b < c"
   ]
  },
  {
   "cell_type": "markdown",
   "metadata": {},
   "source": [
    "## Форматирование строк"
   ]
  },
  {
   "cell_type": "code",
   "execution_count": 7,
   "metadata": {},
   "outputs": [
    {
     "data": {
      "text/plain": [
       "'hello world!'"
      ]
     },
     "execution_count": 7,
     "metadata": {},
     "output_type": "execute_result"
    }
   ],
   "source": [
    "# Форматирование строк\n",
    "word_1 = \"hello\"\n",
    "word_2 = \"world\"\n",
    "\n",
    "# Варианты\n",
    "formatted_str = word_1 + \" \" + word_2 + \"!\"\n",
    "formatted_str = \"{} {}!\".format(word_1, word_2)\n",
    "formatted_str = \"{1} {0}!\".format(word_1, word_2)\n",
    "formatted_str = f\"{word_1} {word_2}!\"\n",
    "formatted_str"
   ]
  },
  {
   "cell_type": "code",
   "execution_count": 8,
   "metadata": {},
   "outputs": [
    {
     "data": {
      "text/plain": [
       "'Item price:        99.9900000000'"
      ]
     },
     "execution_count": 8,
     "metadata": {},
     "output_type": "execute_result"
    }
   ],
   "source": [
    "price = 99.99\n",
    "\"Item price: {:20.10f}\".format(price)"
   ]
  },
  {
   "cell_type": "code",
   "execution_count": 9,
   "metadata": {},
   "outputs": [
    {
     "data": {
      "text/plain": [
       "'Item price:                100.0'"
      ]
     },
     "execution_count": 9,
     "metadata": {},
     "output_type": "execute_result"
    }
   ],
   "source": [
    "price = 99.99\n",
    "\"Item price: {:20.1f}\".format(price)"
   ]
  },
  {
   "cell_type": "markdown",
   "metadata": {},
   "source": [
    "## Ветвление программы"
   ]
  },
  {
   "cell_type": "code",
   "execution_count": 10,
   "metadata": {},
   "outputs": [],
   "source": [
    "# Вариант 1\n",
    "if score_int > 50:\n",
    "    has_passed_exam_bool = True\n",
    "else:\n",
    "    has_passed_exam_bool = False\n",
    "\n",
    "# Вариант 2\n",
    "has_passed_exam_bool = True if score_int > 50 else False\n",
    "\n",
    "# Вариант 3\n",
    "has_passed_exam_bool = score_int > 50"
   ]
  },
  {
   "cell_type": "code",
   "execution_count": 11,
   "metadata": {},
   "outputs": [],
   "source": [
    "if subject_str == \"math\" and score_int:  # and, or, not\n",
    "    pass\n",
    "elif score_int > 120:\n",
    "    pass\n",
    "else:\n",
    "    pass"
   ]
  },
  {
   "cell_type": "markdown",
   "metadata": {},
   "source": [
    "## Циклы"
   ]
  },
  {
   "cell_type": "code",
   "execution_count": 12,
   "metadata": {},
   "outputs": [
    {
     "name": "stdout",
     "output_type": "stream",
     "text": [
      "0\n",
      "1\n",
      "2\n",
      "3\n",
      "4\n"
     ]
    }
   ],
   "source": [
    "for i in range(5):\n",
    "    print(i)"
   ]
  },
  {
   "cell_type": "code",
   "execution_count": 13,
   "metadata": {},
   "outputs": [
    {
     "name": "stdout",
     "output_type": "stream",
     "text": [
      "0\n",
      "1\n",
      "2\n",
      "3\n",
      "4\n"
     ]
    }
   ],
   "source": [
    "i = 0\n",
    "while i < 5:\n",
    "    print(i)\n",
    "    i += 1"
   ]
  },
  {
   "cell_type": "markdown",
   "metadata": {},
   "source": [
    "### Управление циклом"
   ]
  },
  {
   "cell_type": "code",
   "execution_count": 14,
   "metadata": {},
   "outputs": [
    {
     "name": "stdout",
     "output_type": "stream",
     "text": [
      "11\n",
      "2\n",
      "13\n",
      "4\n",
      "15\n",
      "6\n"
     ]
    }
   ],
   "source": [
    "for i in range(1, 10):\n",
    "    if i == 7:\n",
    "        break\n",
    "    if i % 2 == 1:\n",
    "        print(i+10)\n",
    "        continue\n",
    "    print(i)"
   ]
  },
  {
   "cell_type": "markdown",
   "metadata": {},
   "source": [
    "## Основные структуры данных"
   ]
  },
  {
   "cell_type": "code",
   "execution_count": 15,
   "metadata": {},
   "outputs": [],
   "source": [
    "# Список\n",
    "lnames = [\"kate\", \"alex\", \"peter\"]\n",
    "\n",
    "# Кортеж\n",
    "tnames = (\"kate\", \"alex\", \"peter\")\n",
    "\n",
    "# Словарь\n",
    "dnames = {\n",
    "    \"employee_1\": \"kate\",\n",
    "    \"employee_2\": \"alex\",\n",
    "    \"employee_3\": \"peter\"\n",
    "}\n",
    "\n",
    "# Множество\n",
    "snames = {\"kate\", \"alex\", \"peter\"}"
   ]
  },
  {
   "cell_type": "markdown",
   "metadata": {},
   "source": [
    "### Оператор `==` vs `is`"
   ]
  },
  {
   "cell_type": "code",
   "execution_count": 16,
   "metadata": {},
   "outputs": [],
   "source": [
    "a1 = 5\n",
    "a2 = 5"
   ]
  },
  {
   "cell_type": "code",
   "execution_count": 17,
   "metadata": {},
   "outputs": [
    {
     "data": {
      "text/plain": [
       "True"
      ]
     },
     "execution_count": 17,
     "metadata": {},
     "output_type": "execute_result"
    }
   ],
   "source": [
    "a1 == a2"
   ]
  },
  {
   "cell_type": "code",
   "execution_count": 18,
   "metadata": {},
   "outputs": [
    {
     "data": {
      "text/plain": [
       "True"
      ]
     },
     "execution_count": 18,
     "metadata": {},
     "output_type": "execute_result"
    }
   ],
   "source": [
    "a1 is a2"
   ]
  },
  {
   "cell_type": "code",
   "execution_count": 19,
   "metadata": {},
   "outputs": [],
   "source": [
    "l1 = list()\n",
    "l2 = list()"
   ]
  },
  {
   "cell_type": "code",
   "execution_count": 20,
   "metadata": {},
   "outputs": [
    {
     "data": {
      "text/plain": [
       "True"
      ]
     },
     "execution_count": 20,
     "metadata": {},
     "output_type": "execute_result"
    }
   ],
   "source": [
    "# Сравнение содержания\n",
    "l1 == l2"
   ]
  },
  {
   "cell_type": "code",
   "execution_count": 21,
   "metadata": {},
   "outputs": [
    {
     "data": {
      "text/plain": [
       "False"
      ]
     },
     "execution_count": 21,
     "metadata": {},
     "output_type": "execute_result"
    }
   ],
   "source": [
    "# Сравнение идентичности объектов\n",
    "l1 is l2"
   ]
  },
  {
   "cell_type": "code",
   "execution_count": 22,
   "metadata": {},
   "outputs": [],
   "source": [
    "l1.append(1)\n",
    "l2.append(1)"
   ]
  },
  {
   "cell_type": "code",
   "execution_count": 23,
   "metadata": {},
   "outputs": [
    {
     "data": {
      "text/plain": [
       "True"
      ]
     },
     "execution_count": 23,
     "metadata": {},
     "output_type": "execute_result"
    }
   ],
   "source": [
    "l1 == l2"
   ]
  },
  {
   "cell_type": "code",
   "execution_count": 24,
   "metadata": {},
   "outputs": [
    {
     "data": {
      "text/plain": [
       "['item', [1, 2, 3], 100, 100]"
      ]
     },
     "execution_count": 24,
     "metadata": {},
     "output_type": "execute_result"
    }
   ],
   "source": [
    "# Инициализация пустого списка\n",
    "lstuff = list()\n",
    "\n",
    "# Добавление элемента\n",
    "lstuff.append(\"item\")\n",
    "\n",
    "# Добавление элемента другого типа\n",
    "lstuff.append(100)\n",
    "\n",
    "# Добавление элемента другого типа\n",
    "lstuff.append(100)\n",
    "\n",
    "# Добавление элемента в определенную позицию\n",
    "lstuff.insert(1, [1,2,3])\n",
    "\n",
    "lstuff"
   ]
  },
  {
   "cell_type": "code",
   "execution_count": 25,
   "metadata": {},
   "outputs": [
    {
     "data": {
      "text/plain": [
       "4"
      ]
     },
     "execution_count": 25,
     "metadata": {},
     "output_type": "execute_result"
    }
   ],
   "source": [
    "# Количество элементов списка\n",
    "len(lstuff)"
   ]
  },
  {
   "cell_type": "code",
   "execution_count": 26,
   "metadata": {},
   "outputs": [
    {
     "data": {
      "text/plain": [
       "['element', 50, 'item', [1, 2, 3], 100, 100]"
      ]
     },
     "execution_count": 26,
     "metadata": {},
     "output_type": "execute_result"
    }
   ],
   "source": [
    "# Расширение списка\n",
    "lstuff_ext = [\"element\", 50]\n",
    "\n",
    "# Замечание:\n",
    "#  - copy() копирует только ссылки на сложные объекты (shallow copy).\n",
    "#  - для полного копирования используйте deepcopy (пакет copy)\n",
    "lstuff_ext_ = lstuff_ext.copy()\n",
    "lstuff_ext_.extend(lstuff)\n",
    "\n",
    "# или\n",
    "lstuff_ext_ = lstuff_ext.copy()\n",
    "lstuff_ext_ += lstuff\n",
    "lstuff_ext_"
   ]
  },
  {
   "cell_type": "code",
   "execution_count": 27,
   "metadata": {},
   "outputs": [
    {
     "name": "stdout",
     "output_type": "stream",
     "text": [
      "100\n",
      "['item', [1, 2, 3]]\n",
      "[100, 100]\n",
      "['item', 100]\n",
      "[100, 100, [1, 2, 3]]\n"
     ]
    }
   ],
   "source": [
    "# Доступ к элементу\n",
    "print(lstuff[2])\n",
    "\n",
    "# Список из списка\n",
    "print(lstuff[:2])\n",
    "\n",
    "# Список из списка\n",
    "print(lstuff[2:])\n",
    "\n",
    "# Шаг\n",
    "print(lstuff[::2])  # lstuff[start, stop, step]\n",
    "\n",
    "# Вывод в обратном порядке без первого элемента\n",
    "print(lstuff[3:0:-1])"
   ]
  },
  {
   "cell_type": "code",
   "execution_count": 28,
   "metadata": {},
   "outputs": [
    {
     "data": {
      "text/plain": [
       "2"
      ]
     },
     "execution_count": 28,
     "metadata": {},
     "output_type": "execute_result"
    }
   ],
   "source": [
    "# Количество вхождений элемента\n",
    "lstuff.count(100)"
   ]
  },
  {
   "cell_type": "code",
   "execution_count": 29,
   "metadata": {},
   "outputs": [
    {
     "data": {
      "text/plain": [
       "2"
      ]
     },
     "execution_count": 29,
     "metadata": {},
     "output_type": "execute_result"
    }
   ],
   "source": [
    "# Индекс первого элемента\n",
    "lstuff.index(100)  # list.index(el, start, stop)"
   ]
  },
  {
   "cell_type": "code",
   "execution_count": 30,
   "metadata": {},
   "outputs": [
    {
     "name": "stdout",
     "output_type": "stream",
     "text": [
      "['item', [1, 2, 3], 100, 100]\n"
     ]
    }
   ],
   "source": [
    "print(lstuff)"
   ]
  },
  {
   "cell_type": "code",
   "execution_count": 31,
   "metadata": {},
   "outputs": [
    {
     "name": "stdout",
     "output_type": "stream",
     "text": [
      "['item', 100, 100]\n",
      "['item']\n",
      "['item', [1, 2, 3], 100]\n",
      "100\n",
      "['item', [1, 2, 3], 100]\n",
      "item\n",
      "[[1, 2, 3], 100, 100]\n"
     ]
    }
   ],
   "source": [
    "# Удаление элемента по индексу\n",
    "lstuff_ = lstuff.copy()\n",
    "del lstuff_[1]\n",
    "print(lstuff_)\n",
    "\n",
    "del lstuff_[1:]\n",
    "print(lstuff_)\n",
    "\n",
    "# Удаление элемента по значению\n",
    "lstuff_ = lstuff.copy()\n",
    "lstuff_.remove(100)\n",
    "print(lstuff_)\n",
    "\n",
    "# Извлечение последнего элемента\n",
    "lstuff_ = lstuff.copy()\n",
    "element = lstuff_.pop()\n",
    "print(element)\n",
    "print(lstuff_)\n",
    "\n",
    "# Извлечение элемента по индексу\n",
    "lstuff_ = lstuff.copy()\n",
    "element = lstuff_.pop(0)\n",
    "print(element)\n",
    "print(lstuff_)"
   ]
  },
  {
   "cell_type": "code",
   "execution_count": 32,
   "metadata": {},
   "outputs": [
    {
     "name": "stdout",
     "output_type": "stream",
     "text": [
      "True\n",
      "False\n",
      "False\n",
      "Well done!\n"
     ]
    }
   ],
   "source": [
    "# Проверка существования\n",
    "print(100 in lstuff)\n",
    "print(101 in lstuff)\n",
    "print(100 not in lstuff)\n",
    "\n",
    "# Пример с if условием\n",
    "if 100 in lstuff:\n",
    "    print(\"Well done!\")"
   ]
  },
  {
   "cell_type": "code",
   "execution_count": 33,
   "metadata": {},
   "outputs": [
    {
     "name": "stdout",
     "output_type": "stream",
     "text": [
      "item\n",
      "[1, 2, 3]\n",
      "100\n",
      "100\n",
      "0 item\n",
      "1 [1, 2, 3]\n",
      "2 100\n",
      "3 100\n"
     ]
    }
   ],
   "source": [
    "# Использование в цикле\n",
    "for item in lstuff:\n",
    "    print(item)\n",
    "\n",
    "# С выводом индекса\n",
    "for indx, item in enumerate(lstuff):\n",
    "    print(indx, item)"
   ]
  },
  {
   "cell_type": "code",
   "execution_count": 34,
   "metadata": {},
   "outputs": [
    {
     "data": {
      "text/plain": [
       "[11, 13, 15]"
      ]
     },
     "execution_count": 34,
     "metadata": {},
     "output_type": "execute_result"
    }
   ],
   "source": [
    "lnumbers = [1, 2, 3, 4, 5]\n",
    "\n",
    "# Трансформация и фильтрация списка\n",
    "lnumbers_odds = list()\n",
    "for number in lnumbers:\n",
    "    if number % 2 == 1:\n",
    "        lnumbers_odds.append(number + 10)\n",
    "lnumbers_odds"
   ]
  },
  {
   "cell_type": "code",
   "execution_count": 35,
   "metadata": {},
   "outputs": [
    {
     "data": {
      "text/plain": [
       "[11, 13, 15]"
      ]
     },
     "execution_count": 35,
     "metadata": {},
     "output_type": "execute_result"
    }
   ],
   "source": [
    "# Вариант в одно строку\n",
    "lnumbers_odds = [number + 10 for number in lnumbers if number % 2 == 1]\n",
    "lnumbers_odds"
   ]
  },
  {
   "cell_type": "code",
   "execution_count": 36,
   "metadata": {},
   "outputs": [
    {
     "name": "stdout",
     "output_type": "stream",
     "text": [
      "[1, 3, 5]\n",
      "[11, 12, 13, 14, 15]\n",
      "[11, 13, 15]\n"
     ]
    }
   ],
   "source": [
    "# Фильтрация нечетных значений\n",
    "def filter_odd_value(value):\n",
    "    if value % 2 == 1:\n",
    "        return value\n",
    "\n",
    "print(list(filter(filter_odd_value, lnumbers)))\n",
    "\n",
    "\n",
    "# Добавление 10 каждому элементу\n",
    "def map_add_value(value, add=10):\n",
    "    return value + add\n",
    "\n",
    "print(list(map(map_add_value, lnumbers)))\n",
    "\n",
    "\n",
    "# Комбинация операций\n",
    "print(list(map(map_add_value, filter(filter_odd_value, lnumbers))))"
   ]
  },
  {
   "cell_type": "code",
   "execution_count": 37,
   "metadata": {},
   "outputs": [
    {
     "data": {
      "text/plain": [
       "['d', 'c', 'b', 'a']"
      ]
     },
     "execution_count": 37,
     "metadata": {},
     "output_type": "execute_result"
    }
   ],
   "source": [
    "# Сортировка (возвращает новый список)\n",
    "lletters = [\"b\", \"a\", \"d\", \"c\"]\n",
    "lletters_sorted = sorted(lletters, reverse=True)\n",
    "lletters_sorted"
   ]
  },
  {
   "cell_type": "code",
   "execution_count": 38,
   "metadata": {},
   "outputs": [
    {
     "data": {
      "text/plain": [
       "['a', 'b', 'c', 'd']"
      ]
     },
     "execution_count": 38,
     "metadata": {},
     "output_type": "execute_result"
    }
   ],
   "source": [
    "# Сортировка\n",
    "lletters_sorted.sort(reverse=False)\n",
    "lletters_sorted"
   ]
  },
  {
   "cell_type": "code",
   "execution_count": 39,
   "metadata": {},
   "outputs": [
    {
     "data": {
      "text/plain": [
       "['c', 'd', 'a', 'b']"
      ]
     },
     "execution_count": 39,
     "metadata": {},
     "output_type": "execute_result"
    }
   ],
   "source": [
    "# Обратный порядок элементов списка (возвращает новый список)\n",
    "lletters_reversed = list(reversed(lletters))\n",
    "lletters_reversed"
   ]
  },
  {
   "cell_type": "code",
   "execution_count": 40,
   "metadata": {},
   "outputs": [],
   "source": [
    "# или lletters.reverse() in-place"
   ]
  },
  {
   "cell_type": "code",
   "execution_count": 41,
   "metadata": {},
   "outputs": [
    {
     "data": {
      "text/plain": [
       "[]"
      ]
     },
     "execution_count": 41,
     "metadata": {},
     "output_type": "execute_result"
    }
   ],
   "source": [
    "# Очистка списка\n",
    "lletters_reversed.clear()\n",
    "lletters_reversed"
   ]
  },
  {
   "cell_type": "code",
   "execution_count": 42,
   "metadata": {},
   "outputs": [
    {
     "data": {
      "text/plain": [
       "[(1, 'alex'), (2, 'kate'), (3, 'peter')]"
      ]
     },
     "execution_count": 42,
     "metadata": {},
     "output_type": "execute_result"
    }
   ],
   "source": [
    "# Поэлементное слияние нескольких списков\n",
    "lids = [1, 2, 3]\n",
    "lnames = [\"alex\", \"kate\", \"peter\"]\n",
    "\n",
    "list(zip(lids, lnames))"
   ]
  },
  {
   "cell_type": "markdown",
   "metadata": {},
   "source": [
    "### Кортеж"
   ]
  },
  {
   "cell_type": "code",
   "execution_count": 43,
   "metadata": {},
   "outputs": [
    {
     "data": {
      "text/plain": [
       "(1, 2, 3)"
      ]
     },
     "execution_count": 43,
     "metadata": {},
     "output_type": "execute_result"
    }
   ],
   "source": [
    "# Инициализация\n",
    "tstuff = tuple([1, 2, 3])\n",
    "tstuff"
   ]
  },
  {
   "cell_type": "code",
   "execution_count": 44,
   "metadata": {},
   "outputs": [
    {
     "data": {
      "text/plain": [
       "2"
      ]
     },
     "execution_count": 44,
     "metadata": {},
     "output_type": "execute_result"
    }
   ],
   "source": [
    "# Элемент кортежа\n",
    "tstuff[1]"
   ]
  },
  {
   "cell_type": "code",
   "execution_count": 45,
   "metadata": {},
   "outputs": [
    {
     "data": {
      "text/plain": [
       "(2, 3)"
      ]
     },
     "execution_count": 45,
     "metadata": {},
     "output_type": "execute_result"
    }
   ],
   "source": [
    "# Подмножество кортежа\n",
    "tstuff[1:]"
   ]
  },
  {
   "cell_type": "code",
   "execution_count": 46,
   "metadata": {},
   "outputs": [
    {
     "data": {
      "text/plain": [
       "3"
      ]
     },
     "execution_count": 46,
     "metadata": {},
     "output_type": "execute_result"
    }
   ],
   "source": [
    "# Количество элементов\n",
    "len(tstuff)"
   ]
  },
  {
   "cell_type": "markdown",
   "metadata": {},
   "source": [
    "### Словарь"
   ]
  },
  {
   "cell_type": "code",
   "execution_count": 47,
   "metadata": {},
   "outputs": [
    {
     "data": {
      "text/plain": [
       "{4: 'hello', 'aa': 1, 2: [1, 2, 3], (1, 2, 3): 'world'}"
      ]
     },
     "execution_count": 47,
     "metadata": {},
     "output_type": "execute_result"
    }
   ],
   "source": [
    "# Инициализация (1)\n",
    "dstuff = {\n",
    "    4: \"hello\",\n",
    "    \"aa\": 1,\n",
    "    2: [1,2,3],\n",
    "    (1,2,3): \"world\"\n",
    "}\n",
    "dstuff"
   ]
  },
  {
   "cell_type": "code",
   "execution_count": 48,
   "metadata": {},
   "outputs": [
    {
     "data": {
      "text/plain": [
       "'world'"
      ]
     },
     "execution_count": 48,
     "metadata": {},
     "output_type": "execute_result"
    }
   ],
   "source": [
    "# Доступ к записи словаря\n",
    "dstuff[(1, 2, 3)]"
   ]
  },
  {
   "cell_type": "code",
   "execution_count": 49,
   "metadata": {},
   "outputs": [
    {
     "data": {
      "text/plain": [
       "{4: 'hello', 'aa': 1, 2: [1, 2, 3], (1, 2, 3): 'world'}"
      ]
     },
     "execution_count": 49,
     "metadata": {},
     "output_type": "execute_result"
    }
   ],
   "source": [
    "# Инициализация (2)\n",
    "dstuff = dict()\n",
    "\n",
    "# Добавление записей\n",
    "dstuff[4] = \"hello\"\n",
    "dstuff[\"aa\"] = 1\n",
    "dstuff[2] = [1,2,3]\n",
    "dstuff[(1,2,3)] = \"world\"\n",
    "\n",
    "dstuff"
   ]
  },
  {
   "cell_type": "code",
   "execution_count": 50,
   "metadata": {},
   "outputs": [
    {
     "data": {
      "text/plain": [
       "{4: 'hello', 'aa': 1, 2: [1, 2, 3], (1, 2, 3): 'world'}"
      ]
     },
     "execution_count": 50,
     "metadata": {},
     "output_type": "execute_result"
    }
   ],
   "source": [
    "# Инициализация (3)\n",
    "dstuff = dict([(4, \"hello\"), (\"aa\", 1), (2, [1,2,3]), ((1,2,3), \"world\")])\n",
    "dstuff"
   ]
  },
  {
   "cell_type": "code",
   "execution_count": 51,
   "metadata": {},
   "outputs": [
    {
     "data": {
      "text/plain": [
       "4"
      ]
     },
     "execution_count": 51,
     "metadata": {},
     "output_type": "execute_result"
    }
   ],
   "source": [
    "# Количество элементов\n",
    "len(dstuff)"
   ]
  },
  {
   "cell_type": "code",
   "execution_count": 52,
   "metadata": {},
   "outputs": [
    {
     "data": {
      "text/plain": [
       "True"
      ]
     },
     "execution_count": 52,
     "metadata": {},
     "output_type": "execute_result"
    }
   ],
   "source": [
    "# Проверка наличия ключа\n",
    "\"aa\" in dstuff"
   ]
  },
  {
   "cell_type": "code",
   "execution_count": 53,
   "metadata": {},
   "outputs": [
    {
     "data": {
      "text/plain": [
       "False"
      ]
     },
     "execution_count": 53,
     "metadata": {},
     "output_type": "execute_result"
    }
   ],
   "source": [
    "# Проверка отсутствия ключа\n",
    "\"aa\" not in dstuff"
   ]
  },
  {
   "cell_type": "code",
   "execution_count": 54,
   "metadata": {},
   "outputs": [
    {
     "ename": "KeyError",
     "evalue": "232",
     "output_type": "error",
     "traceback": [
      "\u001b[0;31m---------------------------------------------------------------------------\u001b[0m",
      "\u001b[0;31mKeyError\u001b[0m                                  Traceback (most recent call last)",
      "Cell \u001b[0;32mIn[54], line 2\u001b[0m\n\u001b[1;32m      1\u001b[0m \u001b[38;5;66;03m# Доступ по несуществующему ключу\u001b[39;00m\n\u001b[0;32m----> 2\u001b[0m item \u001b[38;5;241m=\u001b[39m dstuff[\u001b[38;5;241m232\u001b[39m]\n\u001b[1;32m      3\u001b[0m item\n",
      "\u001b[0;31mKeyError\u001b[0m: 232"
     ]
    }
   ],
   "source": [
    "# Доступ по несуществующему ключу\n",
    "item = dstuff[232]\n",
    "item"
   ]
  },
  {
   "cell_type": "code",
   "execution_count": 55,
   "metadata": {},
   "outputs": [
    {
     "data": {
      "text/plain": [
       "-1"
      ]
     },
     "execution_count": 55,
     "metadata": {},
     "output_type": "execute_result"
    }
   ],
   "source": [
    "# Установка значения по умолчанию\n",
    "item = dstuff.get(232, -1)\n",
    "item"
   ]
  },
  {
   "cell_type": "code",
   "execution_count": 56,
   "metadata": {},
   "outputs": [
    {
     "data": {
      "text/plain": [
       "(dict_keys([4, 'aa', 2, (1, 2, 3)]),\n",
       " dict_values(['hello', 1, [1, 2, 3], 'world']),\n",
       " dict_items([(4, 'hello'), ('aa', 1), (2, [1, 2, 3]), ((1, 2, 3), 'world')]))"
      ]
     },
     "execution_count": 56,
     "metadata": {},
     "output_type": "execute_result"
    }
   ],
   "source": [
    "# Список ключей, значений и список пар \"ключ-значение\"\n",
    "dstuff.keys(), dstuff.values(), dstuff.items()"
   ]
  },
  {
   "cell_type": "code",
   "execution_count": 57,
   "metadata": {},
   "outputs": [
    {
     "data": {
      "text/plain": [
       "[(0, 4, 'hello'), (1, 'aa', 1), (2, 2, [1, 2, 3]), (3, (1, 2, 3), 'world')]"
      ]
     },
     "execution_count": 57,
     "metadata": {},
     "output_type": "execute_result"
    }
   ],
   "source": [
    "# Формирование списка кортежей (индекс, ключ, значение)\n",
    "[(indx, key, value) for indx, (key, value) in enumerate(dstuff.items())]"
   ]
  },
  {
   "cell_type": "code",
   "execution_count": 58,
   "metadata": {},
   "outputs": [
    {
     "data": {
      "text/plain": [
       "{'item': 'something', 4: 'hello', 'aa': 1, 2: [1, 2, 3], (1, 2, 3): 'world'}"
      ]
     },
     "execution_count": 58,
     "metadata": {},
     "output_type": "execute_result"
    }
   ],
   "source": [
    "# Расширение словаря\n",
    "dstuff_ext = {\n",
    "    \"item\": \"something\"\n",
    "}\n",
    "dstuff_ext.update(dstuff)\n",
    "dstuff_ext"
   ]
  },
  {
   "cell_type": "code",
   "execution_count": 59,
   "metadata": {},
   "outputs": [
    {
     "data": {
      "text/plain": [
       "{'item': 'something', 4: 'hello', 2: [1, 2, 3], (1, 2, 3): 'world'}"
      ]
     },
     "execution_count": 59,
     "metadata": {},
     "output_type": "execute_result"
    }
   ],
   "source": [
    "# Удаление записи по ключу\n",
    "del dstuff_ext[\"aa\"]\n",
    "dstuff_ext"
   ]
  },
  {
   "cell_type": "code",
   "execution_count": 60,
   "metadata": {},
   "outputs": [
    {
     "data": {
      "text/plain": [
       "{}"
      ]
     },
     "execution_count": 60,
     "metadata": {},
     "output_type": "execute_result"
    }
   ],
   "source": [
    "# Удаление записей словаря\n",
    "dstuff_ext.clear()\n",
    "dstuff_ext"
   ]
  },
  {
   "cell_type": "code",
   "execution_count": 61,
   "metadata": {},
   "outputs": [
    {
     "data": {
      "text/plain": [
       "[(1, 'b'), (2, 'd'), (3, 'a'), (4, 'c')]"
      ]
     },
     "execution_count": 61,
     "metadata": {},
     "output_type": "execute_result"
    }
   ],
   "source": [
    "# Сортировка\n",
    "\n",
    "dletters = {\n",
    "    1: \"b\",\n",
    "    3: \"a\",\n",
    "    2: \"d\",\n",
    "    4: \"c\"\n",
    "}\n",
    "\n",
    "# Отсортированный по ключу список кортежей (ключ, значение)\n",
    "sorted(dletters.items(), reverse=False)"
   ]
  },
  {
   "cell_type": "code",
   "execution_count": 62,
   "metadata": {},
   "outputs": [
    {
     "data": {
      "text/plain": [
       "[(3, 'a'), (1, 'b'), (4, 'c'), (2, 'd')]"
      ]
     },
     "execution_count": 62,
     "metadata": {},
     "output_type": "execute_result"
    }
   ],
   "source": [
    "# Отсортированный по значению список кортежей (ключ, значение)\n",
    "sorted(dletters.items(), key=lambda x: x[1], reverse=False)"
   ]
  },
  {
   "cell_type": "code",
   "execution_count": 63,
   "metadata": {},
   "outputs": [
    {
     "data": {
      "text/plain": [
       "[(2, 'd'), (4, 'c'), (1, 'b'), (3, 'a')]"
      ]
     },
     "execution_count": 63,
     "metadata": {},
     "output_type": "execute_result"
    }
   ],
   "source": [
    "# Отсортированный по убыванию значения список кортежей (ключ, значение)\n",
    "sorted(dletters.items(), key=lambda x: -ord(x[1]), reverse=False)"
   ]
  },
  {
   "cell_type": "markdown",
   "metadata": {},
   "source": [
    "### Множество"
   ]
  },
  {
   "cell_type": "code",
   "execution_count": 64,
   "metadata": {},
   "outputs": [
    {
     "data": {
      "text/plain": [
       "{(1, 2), 3, 8, 'el2'}"
      ]
     },
     "execution_count": 64,
     "metadata": {},
     "output_type": "execute_result"
    }
   ],
   "source": [
    "# Инициализация множества (1)\n",
    "sstuff = {3, \"el2\", (1,2), 8, 3}\n",
    "sstuff"
   ]
  },
  {
   "cell_type": "code",
   "execution_count": 65,
   "metadata": {},
   "outputs": [
    {
     "data": {
      "text/plain": [
       "{1, 2, 3, 4}"
      ]
     },
     "execution_count": 65,
     "metadata": {},
     "output_type": "execute_result"
    }
   ],
   "source": [
    "# Инициализация множества (1)\n",
    "lstuff = [1, 2, 3, 3, 4]\n",
    "sstuff = set(lstuff)\n",
    "sstuff"
   ]
  },
  {
   "cell_type": "code",
   "execution_count": 66,
   "metadata": {},
   "outputs": [
    {
     "data": {
      "text/plain": [
       "{1, 4}"
      ]
     },
     "execution_count": 66,
     "metadata": {},
     "output_type": "execute_result"
    }
   ],
   "source": [
    "# Добавление элементов\n",
    "sstuff = set()\n",
    "\n",
    "sstuff.add(4)\n",
    "sstuff.add(1)\n",
    "\n",
    "sstuff"
   ]
  },
  {
   "cell_type": "code",
   "execution_count": 67,
   "metadata": {},
   "outputs": [
    {
     "data": {
      "text/plain": [
       "{1}"
      ]
     },
     "execution_count": 67,
     "metadata": {},
     "output_type": "execute_result"
    }
   ],
   "source": [
    "# Удаление элементов\n",
    "sstuff.remove(4)\n",
    "sstuff"
   ]
  },
  {
   "cell_type": "code",
   "execution_count": 68,
   "metadata": {},
   "outputs": [
    {
     "name": "stdout",
     "output_type": "stream",
     "text": [
      "{1, 2, 3, 4, 5, 6}\n",
      "{3, 4}\n",
      "{1, 2}\n",
      "{1, 2, 5, 6}\n"
     ]
    }
   ],
   "source": [
    "sa = {1, 2, 3, 4}\n",
    "sb = {3, 4, 5, 6}\n",
    "\n",
    "# Объединение\n",
    "union = sa | sb\n",
    "print(union)\n",
    "\n",
    "# Пересечение\n",
    "inter = sa & sb\n",
    "print(inter)\n",
    "\n",
    "# Разность\n",
    "subst = sa - sb\n",
    "print(subst)\n",
    "\n",
    "# Симметрическая разность\n",
    "ssubs = sa ^ sb\n",
    "print(ssubs)"
   ]
  },
  {
   "cell_type": "code",
   "execution_count": 69,
   "metadata": {},
   "outputs": [
    {
     "data": {
      "text/plain": [
       "[1, 2, -2, 3]"
      ]
     },
     "execution_count": 69,
     "metadata": {},
     "output_type": "execute_result"
    }
   ],
   "source": [
    "# Сортировка\n",
    "sstuff = {1, -2, 2, 3}\n",
    "sorted(sstuff, key=lambda x:abs(x), reverse=False)"
   ]
  },
  {
   "cell_type": "code",
   "execution_count": 70,
   "metadata": {},
   "outputs": [
    {
     "data": {
      "text/plain": [
       "set()"
      ]
     },
     "execution_count": 70,
     "metadata": {},
     "output_type": "execute_result"
    }
   ],
   "source": [
    "# Удаление элементов множества\n",
    "sstuff.clear()\n",
    "sstuff"
   ]
  },
  {
   "cell_type": "code",
   "execution_count": 71,
   "metadata": {},
   "outputs": [
    {
     "data": {
      "text/plain": [
       "frozenset({1, 2, 3})"
      ]
     },
     "execution_count": 71,
     "metadata": {},
     "output_type": "execute_result"
    }
   ],
   "source": [
    "# Неизменяемой множество\n",
    "froze_sstuff = frozenset([1, 2, 3])\n",
    "froze_sstuff"
   ]
  },
  {
   "cell_type": "markdown",
   "metadata": {},
   "source": [
    "### Дополнительные типы"
   ]
  },
  {
   "cell_type": "code",
   "execution_count": 72,
   "metadata": {},
   "outputs": [],
   "source": [
    "from collections import deque"
   ]
  },
  {
   "cell_type": "code",
   "execution_count": 73,
   "metadata": {},
   "outputs": [
    {
     "name": "stdout",
     "output_type": "stream",
     "text": [
      "deque([1, 2, 3, 4, 5])\n",
      "deque([0, 1, 2, 3, 4, 5])\n",
      "5\n",
      "deque([0, 1, 2, 3, 4])\n",
      "0\n",
      "deque([1, 2, 3, 4])\n"
     ]
    }
   ],
   "source": [
    "deqstuff = deque([1, 2, 3, 4])\n",
    "\n",
    "deqstuff.append(5)\n",
    "print(deqstuff)\n",
    "\n",
    "deqstuff.appendleft(0)\n",
    "print(deqstuff)\n",
    "\n",
    "last = deqstuff.pop()\n",
    "print(last)\n",
    "print(deqstuff)\n",
    "\n",
    "first = deqstuff.popleft()\n",
    "print(first)\n",
    "print(deqstuff)"
   ]
  },
  {
   "cell_type": "code",
   "execution_count": 74,
   "metadata": {},
   "outputs": [
    {
     "data": {
      "text/plain": [
       "deque([4, 1, 2, 3])"
      ]
     },
     "execution_count": 74,
     "metadata": {},
     "output_type": "execute_result"
    }
   ],
   "source": [
    "# Сдвиг на один элемент\n",
    "deqstuff.rotate()\n",
    "deqstuff"
   ]
  },
  {
   "cell_type": "markdown",
   "metadata": {},
   "source": [
    "## Строки"
   ]
  },
  {
   "cell_type": "code",
   "execution_count": 75,
   "metadata": {},
   "outputs": [
    {
     "name": "stdout",
     "output_type": "stream",
     "text": [
      "5\n",
      "h\n"
     ]
    }
   ],
   "source": [
    "welcome = \"hello\"\n",
    "\n",
    "# Количество символов\n",
    "print(len(welcome))\n",
    "\n",
    "# Вывод первого символа\n",
    "print(welcome[0])"
   ]
  },
  {
   "cell_type": "code",
   "execution_count": 76,
   "metadata": {},
   "outputs": [
    {
     "data": {
      "text/plain": [
       "mappingproxy({'__new__': <function str.__new__(*args, **kwargs)>,\n",
       "              '__repr__': <slot wrapper '__repr__' of 'str' objects>,\n",
       "              '__hash__': <slot wrapper '__hash__' of 'str' objects>,\n",
       "              '__str__': <slot wrapper '__str__' of 'str' objects>,\n",
       "              '__getattribute__': <slot wrapper '__getattribute__' of 'str' objects>,\n",
       "              '__lt__': <slot wrapper '__lt__' of 'str' objects>,\n",
       "              '__le__': <slot wrapper '__le__' of 'str' objects>,\n",
       "              '__eq__': <slot wrapper '__eq__' of 'str' objects>,\n",
       "              '__ne__': <slot wrapper '__ne__' of 'str' objects>,\n",
       "              '__gt__': <slot wrapper '__gt__' of 'str' objects>,\n",
       "              '__ge__': <slot wrapper '__ge__' of 'str' objects>,\n",
       "              '__iter__': <slot wrapper '__iter__' of 'str' objects>,\n",
       "              '__mod__': <slot wrapper '__mod__' of 'str' objects>,\n",
       "              '__rmod__': <slot wrapper '__rmod__' of 'str' objects>,\n",
       "              '__len__': <slot wrapper '__len__' of 'str' objects>,\n",
       "              '__getitem__': <slot wrapper '__getitem__' of 'str' objects>,\n",
       "              '__add__': <slot wrapper '__add__' of 'str' objects>,\n",
       "              '__mul__': <slot wrapper '__mul__' of 'str' objects>,\n",
       "              '__rmul__': <slot wrapper '__rmul__' of 'str' objects>,\n",
       "              '__contains__': <slot wrapper '__contains__' of 'str' objects>,\n",
       "              'encode': <method 'encode' of 'str' objects>,\n",
       "              'replace': <method 'replace' of 'str' objects>,\n",
       "              'split': <method 'split' of 'str' objects>,\n",
       "              'rsplit': <method 'rsplit' of 'str' objects>,\n",
       "              'join': <method 'join' of 'str' objects>,\n",
       "              'capitalize': <method 'capitalize' of 'str' objects>,\n",
       "              'casefold': <method 'casefold' of 'str' objects>,\n",
       "              'title': <method 'title' of 'str' objects>,\n",
       "              'center': <method 'center' of 'str' objects>,\n",
       "              'count': <method 'count' of 'str' objects>,\n",
       "              'expandtabs': <method 'expandtabs' of 'str' objects>,\n",
       "              'find': <method 'find' of 'str' objects>,\n",
       "              'partition': <method 'partition' of 'str' objects>,\n",
       "              'index': <method 'index' of 'str' objects>,\n",
       "              'ljust': <method 'ljust' of 'str' objects>,\n",
       "              'lower': <method 'lower' of 'str' objects>,\n",
       "              'lstrip': <method 'lstrip' of 'str' objects>,\n",
       "              'rfind': <method 'rfind' of 'str' objects>,\n",
       "              'rindex': <method 'rindex' of 'str' objects>,\n",
       "              'rjust': <method 'rjust' of 'str' objects>,\n",
       "              'rstrip': <method 'rstrip' of 'str' objects>,\n",
       "              'rpartition': <method 'rpartition' of 'str' objects>,\n",
       "              'splitlines': <method 'splitlines' of 'str' objects>,\n",
       "              'strip': <method 'strip' of 'str' objects>,\n",
       "              'swapcase': <method 'swapcase' of 'str' objects>,\n",
       "              'translate': <method 'translate' of 'str' objects>,\n",
       "              'upper': <method 'upper' of 'str' objects>,\n",
       "              'startswith': <method 'startswith' of 'str' objects>,\n",
       "              'endswith': <method 'endswith' of 'str' objects>,\n",
       "              'removeprefix': <method 'removeprefix' of 'str' objects>,\n",
       "              'removesuffix': <method 'removesuffix' of 'str' objects>,\n",
       "              'isascii': <method 'isascii' of 'str' objects>,\n",
       "              'islower': <method 'islower' of 'str' objects>,\n",
       "              'isupper': <method 'isupper' of 'str' objects>,\n",
       "              'istitle': <method 'istitle' of 'str' objects>,\n",
       "              'isspace': <method 'isspace' of 'str' objects>,\n",
       "              'isdecimal': <method 'isdecimal' of 'str' objects>,\n",
       "              'isdigit': <method 'isdigit' of 'str' objects>,\n",
       "              'isnumeric': <method 'isnumeric' of 'str' objects>,\n",
       "              'isalpha': <method 'isalpha' of 'str' objects>,\n",
       "              'isalnum': <method 'isalnum' of 'str' objects>,\n",
       "              'isidentifier': <method 'isidentifier' of 'str' objects>,\n",
       "              'isprintable': <method 'isprintable' of 'str' objects>,\n",
       "              'zfill': <method 'zfill' of 'str' objects>,\n",
       "              'format': <method 'format' of 'str' objects>,\n",
       "              'format_map': <method 'format_map' of 'str' objects>,\n",
       "              '__format__': <method '__format__' of 'str' objects>,\n",
       "              'maketrans': <staticmethod(<built-in method maketrans of type object at 0x864e40>)>,\n",
       "              '__sizeof__': <method '__sizeof__' of 'str' objects>,\n",
       "              '__getnewargs__': <method '__getnewargs__' of 'str' objects>,\n",
       "              '__doc__': \"str(object='') -> str\\nstr(bytes_or_buffer[, encoding[, errors]]) -> str\\n\\nCreate a new string object from the given object. If encoding or\\nerrors is specified, then the object must expose a data buffer\\nthat will be decoded using the given encoding and error handler.\\nOtherwise, returns the result of object.__str__() (if defined)\\nor repr(object).\\nencoding defaults to sys.getdefaultencoding().\\nerrors defaults to 'strict'.\"})"
      ]
     },
     "execution_count": 76,
     "metadata": {},
     "output_type": "execute_result"
    }
   ],
   "source": [
    "# методы строки\n",
    "str.__dict__"
   ]
  },
  {
   "cell_type": "code",
   "execution_count": 77,
   "metadata": {},
   "outputs": [
    {
     "data": {
      "text/plain": [
       "True"
      ]
     },
     "execution_count": 77,
     "metadata": {},
     "output_type": "execute_result"
    }
   ],
   "source": [
    "# Проверка на вхождение\n",
    "\"el\" in welcome"
   ]
  },
  {
   "cell_type": "code",
   "execution_count": 78,
   "metadata": {},
   "outputs": [
    {
     "data": {
      "text/plain": [
       "True"
      ]
     },
     "execution_count": 78,
     "metadata": {},
     "output_type": "execute_result"
    }
   ],
   "source": [
    "# Проверка на отсутствие\n",
    "\"t\" not in welcome"
   ]
  },
  {
   "cell_type": "code",
   "execution_count": 79,
   "metadata": {},
   "outputs": [
    {
     "data": {
      "text/plain": [
       "'he'"
      ]
     },
     "execution_count": 79,
     "metadata": {},
     "output_type": "execute_result"
    }
   ],
   "source": [
    "# Формирование подстроки\n",
    "welcome[:2]"
   ]
  },
  {
   "cell_type": "code",
   "execution_count": 80,
   "metadata": {},
   "outputs": [
    {
     "data": {
      "text/plain": [
       "2"
      ]
     },
     "execution_count": 80,
     "metadata": {},
     "output_type": "execute_result"
    }
   ],
   "source": [
    "# Поиск слева\n",
    "indx = welcome.find(\"l\")\n",
    "indx"
   ]
  },
  {
   "cell_type": "code",
   "execution_count": 81,
   "metadata": {},
   "outputs": [
    {
     "data": {
      "text/plain": [
       "-1"
      ]
     },
     "execution_count": 81,
     "metadata": {},
     "output_type": "execute_result"
    }
   ],
   "source": [
    "indx = welcome.find(\"t\")\n",
    "indx"
   ]
  },
  {
   "cell_type": "code",
   "execution_count": 82,
   "metadata": {},
   "outputs": [
    {
     "data": {
      "text/plain": [
       "3"
      ]
     },
     "execution_count": 82,
     "metadata": {},
     "output_type": "execute_result"
    }
   ],
   "source": [
    "# Поиск справа\n",
    "indx = welcome.rfind(\"l\")\n",
    "indx"
   ]
  },
  {
   "cell_type": "code",
   "execution_count": 83,
   "metadata": {},
   "outputs": [
    {
     "data": {
      "text/plain": [
       "2"
      ]
     },
     "execution_count": 83,
     "metadata": {},
     "output_type": "execute_result"
    }
   ],
   "source": [
    "# Количество вхождений\n",
    "count = welcome.count(\"l\")\n",
    "count"
   ]
  },
  {
   "cell_type": "code",
   "execution_count": 84,
   "metadata": {},
   "outputs": [
    {
     "data": {
      "text/plain": [
       "'heLLLLo'"
      ]
     },
     "execution_count": 84,
     "metadata": {},
     "output_type": "execute_result"
    }
   ],
   "source": [
    "# Замена\n",
    "welcome_new = welcome.replace(\"l\", \"LL\")\n",
    "welcome_new"
   ]
  },
  {
   "cell_type": "code",
   "execution_count": 85,
   "metadata": {},
   "outputs": [
    {
     "data": {
      "text/plain": [
       "['hell', ' w', 'rld']"
      ]
     },
     "execution_count": 85,
     "metadata": {},
     "output_type": "execute_result"
    }
   ],
   "source": [
    "# Разбиение строки на части\n",
    "welcome = \"hello world\"\n",
    "lwords = welcome.split(\"o\")\n",
    "lwords"
   ]
  },
  {
   "cell_type": "code",
   "execution_count": 86,
   "metadata": {},
   "outputs": [
    {
     "data": {
      "text/plain": [
       "'hello world'"
      ]
     },
     "execution_count": 86,
     "metadata": {},
     "output_type": "execute_result"
    }
   ],
   "source": [
    "# Слияние\n",
    "lwords = [\"hello\", \"world\"]\n",
    "\n",
    "phrase = \" \".join(lwords)\n",
    "phrase"
   ]
  },
  {
   "cell_type": "code",
   "execution_count": 87,
   "metadata": {},
   "outputs": [
    {
     "data": {
      "text/plain": [
       "'welcome'"
      ]
     },
     "execution_count": 87,
     "metadata": {},
     "output_type": "execute_result"
    }
   ],
   "source": [
    "# Удаление крайних символов\n",
    "welcome = \"  welcome!@\"\n",
    "\n",
    "welcome.strip(\" !@\")"
   ]
  },
  {
   "cell_type": "code",
   "execution_count": 88,
   "metadata": {},
   "outputs": [
    {
     "data": {
      "text/plain": [
       "('HELLO', 'hello')"
      ]
     },
     "execution_count": 88,
     "metadata": {},
     "output_type": "execute_result"
    }
   ],
   "source": [
    "welcome = \"Hello\"\n",
    "welcome.upper(), welcome.lower()"
   ]
  },
  {
   "cell_type": "code",
   "execution_count": 89,
   "metadata": {},
   "outputs": [
    {
     "data": {
      "text/plain": [
       "['o', 'l', 'l', 'e', 'H']"
      ]
     },
     "execution_count": 89,
     "metadata": {},
     "output_type": "execute_result"
    }
   ],
   "source": [
    "# Обратный порядок\n",
    "list(reversed(welcome))"
   ]
  },
  {
   "cell_type": "code",
   "execution_count": 90,
   "metadata": {},
   "outputs": [
    {
     "data": {
      "text/plain": [
       "(True, False)"
      ]
     },
     "execution_count": 90,
     "metadata": {},
     "output_type": "execute_result"
    }
   ],
   "source": [
    "# Проверка содержания строки\n",
    "welcome.isalpha(), welcome.isdigit(),"
   ]
  },
  {
   "cell_type": "markdown",
   "metadata": {},
   "source": [
    "## Функции"
   ]
  },
  {
   "cell_type": "markdown",
   "metadata": {},
   "source": [
    "### Виды функций"
   ]
  },
  {
   "cell_type": "code",
   "execution_count": 91,
   "metadata": {},
   "outputs": [
    {
     "name": "stdout",
     "output_type": "stream",
     "text": [
      "4\n",
      "4\n"
     ]
    }
   ],
   "source": [
    "# Именованные функции\n",
    "def power(value, degree=2):\n",
    "    return value**degree\n",
    "\n",
    "\n",
    "# Анонимная функция\n",
    "apower = lambda value, degree=2: value**degree\n",
    "\n",
    "print(power(2))\n",
    "print(apower(2))"
   ]
  },
  {
   "cell_type": "code",
   "execution_count": 92,
   "metadata": {},
   "outputs": [
    {
     "name": "stdout",
     "output_type": "stream",
     "text": [
      "8\n",
      "8\n"
     ]
    }
   ],
   "source": [
    "print(power(2, 3))\n",
    "print(apower(2, 3))"
   ]
  },
  {
   "cell_type": "markdown",
   "metadata": {},
   "source": [
    "### Параметры функции"
   ]
  },
  {
   "cell_type": "code",
   "execution_count": 93,
   "metadata": {},
   "outputs": [],
   "source": [
    "# Аргументы функции\n",
    "def format_name(first_name, second_name, uppercase=True):\n",
    "    formatted_name = first_name[0].upper() + \". \" + second_name\n",
    "    return formatted_name.upper() if uppercase else formatted_name"
   ]
  },
  {
   "cell_type": "code",
   "execution_count": 94,
   "metadata": {},
   "outputs": [
    {
     "data": {
      "text/plain": [
       "'A. IVANOV'"
      ]
     },
     "execution_count": 94,
     "metadata": {},
     "output_type": "execute_result"
    }
   ],
   "source": [
    "# Последовательность аргументы (важен порядок)\n",
    "format_name(\"Alex\", \"Ivanov\")"
   ]
  },
  {
   "cell_type": "code",
   "execution_count": 95,
   "metadata": {},
   "outputs": [
    {
     "data": {
      "text/plain": [
       "'A. IVANOV'"
      ]
     },
     "execution_count": 95,
     "metadata": {},
     "output_type": "execute_result"
    }
   ],
   "source": [
    "# Именованные аргументы\n",
    "format_name(second_name=\"Ivanov\", first_name=\"Alex\")"
   ]
  },
  {
   "cell_type": "code",
   "execution_count": 96,
   "metadata": {},
   "outputs": [
    {
     "data": {
      "text/plain": [
       "'A. IVANOV'"
      ]
     },
     "execution_count": 96,
     "metadata": {},
     "output_type": "execute_result"
    }
   ],
   "source": [
    "# Передача параметров в виде списка\n",
    "args = [\"Alex\", \"Ivanov\"]\n",
    "format_name(*args)"
   ]
  },
  {
   "cell_type": "code",
   "execution_count": 97,
   "metadata": {},
   "outputs": [
    {
     "data": {
      "text/plain": [
       "'A. IVANOV'"
      ]
     },
     "execution_count": 97,
     "metadata": {},
     "output_type": "execute_result"
    }
   ],
   "source": [
    "# Передача параметров в виде словаря\n",
    "kwargs = {\n",
    "    \"first_name\": \"Alex\",\n",
    "    \"second_name\": \"Ivanov\"\n",
    "}\n",
    "format_name(**kwargs)"
   ]
  },
  {
   "cell_type": "code",
   "execution_count": 98,
   "metadata": {},
   "outputs": [],
   "source": [
    "def extract_first_name(**kwargs):\n",
    "    \"\"\"Возвращает имя\"\"\"\n",
    "    if \"first_name\" in kwargs:\n",
    "        return kwargs[\"first_name\"]"
   ]
  },
  {
   "cell_type": "code",
   "execution_count": 99,
   "metadata": {},
   "outputs": [
    {
     "data": {
      "text/plain": [
       "'Alex'"
      ]
     },
     "execution_count": 99,
     "metadata": {},
     "output_type": "execute_result"
    }
   ],
   "source": [
    "# Использование словаря\n",
    "extract_first_name(**kwargs)"
   ]
  },
  {
   "cell_type": "code",
   "execution_count": 100,
   "metadata": {},
   "outputs": [
    {
     "data": {
      "text/plain": [
       "'Alex'"
      ]
     },
     "execution_count": 100,
     "metadata": {},
     "output_type": "execute_result"
    }
   ],
   "source": [
    "# Использование именованных аргументов\n",
    "extract_first_name(first_name=\"Alex\", second_name=\"Ivanov\")"
   ]
  },
  {
   "cell_type": "markdown",
   "metadata": {},
   "source": [
    "### Возвращаемые значения"
   ]
  },
  {
   "cell_type": "code",
   "execution_count": 101,
   "metadata": {},
   "outputs": [],
   "source": [
    "def check_odd(value):\n",
    "    \"\"\"Функция возвращает несколько значений\"\"\"\n",
    "    if value % 2 == 1:\n",
    "        return True, value\n",
    "    return False, value"
   ]
  },
  {
   "cell_type": "code",
   "execution_count": 102,
   "metadata": {},
   "outputs": [
    {
     "data": {
      "text/plain": [
       "(True, 3)"
      ]
     },
     "execution_count": 102,
     "metadata": {},
     "output_type": "execute_result"
    }
   ],
   "source": [
    "is_odd, value = check_odd(3)\n",
    "is_odd, value"
   ]
  },
  {
   "cell_type": "markdown",
   "metadata": {},
   "source": [
    "### Внутренние функции"
   ]
  },
  {
   "cell_type": "code",
   "execution_count": 103,
   "metadata": {},
   "outputs": [],
   "source": [
    "def mse(true_values, pred_values):\n",
    "    def _substract(true, pred):\n",
    "        \"\"\"Внутренняя функция\"\"\"\n",
    "        return true - pred\n",
    "    n = len(true_values)\n",
    "    pairs = zip(true_values, pred_values)\n",
    "    return 1/n * sum(_substract(true, pred)**2 for true, pred in pairs)"
   ]
  },
  {
   "cell_type": "code",
   "execution_count": 104,
   "metadata": {},
   "outputs": [
    {
     "data": {
      "text/plain": [
       "0.029999999999999992"
      ]
     },
     "execution_count": 104,
     "metadata": {},
     "output_type": "execute_result"
    }
   ],
   "source": [
    "mse([1,2,3], [1.2,1.8,3.1])"
   ]
  },
  {
   "cell_type": "markdown",
   "metadata": {},
   "source": [
    "### Декоратор"
   ]
  },
  {
   "cell_type": "code",
   "execution_count": 106,
   "metadata": {},
   "outputs": [],
   "source": [
    "def do_something(activity=\"it\"):\n",
    "    print(\"doing {}!\".format(activity))\n",
    "    return True"
   ]
  },
  {
   "cell_type": "code",
   "execution_count": 107,
   "metadata": {},
   "outputs": [],
   "source": [
    "def make_something(activity=\"it\"):\n",
    "    print(\"making {}!\".format(activity))\n",
    "    return True"
   ]
  },
  {
   "cell_type": "code",
   "execution_count": 108,
   "metadata": {},
   "outputs": [
    {
     "name": "stdout",
     "output_type": "stream",
     "text": [
      "doing it!\n"
     ]
    }
   ],
   "source": [
    "result = do_something()"
   ]
  },
  {
   "cell_type": "code",
   "execution_count": 109,
   "metadata": {},
   "outputs": [
    {
     "name": "stdout",
     "output_type": "stream",
     "text": [
      "making it!\n"
     ]
    }
   ],
   "source": [
    "result = make_something()"
   ]
  },
  {
   "cell_type": "code",
   "execution_count": 110,
   "metadata": {},
   "outputs": [
    {
     "name": "stdout",
     "output_type": "stream",
     "text": [
      "making homework!\n"
     ]
    },
    {
     "data": {
      "text/plain": [
       "True"
      ]
     },
     "execution_count": 110,
     "metadata": {},
     "output_type": "execute_result"
    }
   ],
   "source": [
    "make_something('homework')"
   ]
  },
  {
   "cell_type": "code",
   "execution_count": 111,
   "metadata": {},
   "outputs": [],
   "source": [
    "def logger(function):\n",
    "    def _logger(*args, **kwargs):\n",
    "        print(\"started: {}\".format(function.__name__))\n",
    "        result = function(*args, **kwargs)\n",
    "        print(\"finished: {}\".format(function.__name__))\n",
    "        return result\n",
    "    return _logger"
   ]
  },
  {
   "cell_type": "code",
   "execution_count": 112,
   "metadata": {},
   "outputs": [],
   "source": [
    "@logger\n",
    "def do_something(activity=\"it\"):\n",
    "    print(\"doing {}!\".format(activity))\n",
    "    return True\n",
    "\n",
    "@logger\n",
    "def make_something(activity=\"it\"):\n",
    "    print(\"making {}!\".format(activity))\n",
    "    return True"
   ]
  },
  {
   "cell_type": "code",
   "execution_count": 113,
   "metadata": {},
   "outputs": [
    {
     "name": "stdout",
     "output_type": "stream",
     "text": [
      "started: do_something\n",
      "doing running!\n",
      "finished: do_something\n"
     ]
    }
   ],
   "source": [
    "result = do_something(\"running\")"
   ]
  },
  {
   "cell_type": "code",
   "execution_count": 114,
   "metadata": {},
   "outputs": [
    {
     "name": "stdout",
     "output_type": "stream",
     "text": [
      "started: make_something\n",
      "making speech!\n",
      "finished: make_something\n"
     ]
    }
   ],
   "source": [
    "result = make_something(\"speech\")"
   ]
  },
  {
   "cell_type": "markdown",
   "metadata": {},
   "source": [
    "## Генераторы"
   ]
  },
  {
   "cell_type": "code",
   "execution_count": 118,
   "metadata": {},
   "outputs": [],
   "source": [
    "def create_word_list(text):\n",
    "    \"\"\"Create list of words from text string.\"\"\"\n",
    "    def check_word(word):\n",
    "        return word not in [\"bot\", \"\"]\n",
    "    words = list()\n",
    "    start_indx = 0\n",
    "    for i in range(len(text)):\n",
    "        if text[i] == \" \":\n",
    "            word = text[start_indx:i]\n",
    "            if check_word(word):\n",
    "                words.append(word)\n",
    "            start_indx = i+1\n",
    "    # Note: For last word or text with single word\n",
    "    word = text[start_indx:i]\n",
    "    if check_word(word):\n",
    "        words.append(word)\n",
    "    return words"
   ]
  },
  {
   "cell_type": "code",
   "execution_count": 119,
   "metadata": {},
   "outputs": [],
   "source": [
    "TEXT = \" sas bot ee ree \""
   ]
  },
  {
   "cell_type": "code",
   "execution_count": 120,
   "metadata": {},
   "outputs": [
    {
     "data": {
      "text/plain": [
       "['sas', 'ee', 'ree']"
      ]
     },
     "execution_count": 120,
     "metadata": {},
     "output_type": "execute_result"
    }
   ],
   "source": [
    "create_word_list(TEXT)"
   ]
  },
  {
   "cell_type": "code",
   "execution_count": 121,
   "metadata": {},
   "outputs": [],
   "source": [
    "def create_word_generator(text):\n",
    "    \"\"\"Create generator of words from text string.\"\"\"\n",
    "    def check_word(word):\n",
    "        return word not in [\"bot\", \"\"]\n",
    "    start_indx = 0\n",
    "    for i in range(len(text)):\n",
    "        if text[i] == \" \":\n",
    "            word = text[start_indx:i]\n",
    "            if check_word(word):\n",
    "                yield word\n",
    "            start_indx = i+1\n",
    "    # Note: For last word or text with single word\n",
    "    word = text[start_indx:i]\n",
    "    if check_word(word):\n",
    "        yield word"
   ]
  },
  {
   "cell_type": "code",
   "execution_count": 122,
   "metadata": {},
   "outputs": [
    {
     "data": {
      "text/plain": [
       "<generator object create_word_generator at 0x7f4f0418ae40>"
      ]
     },
     "execution_count": 122,
     "metadata": {},
     "output_type": "execute_result"
    }
   ],
   "source": [
    "create_word_generator(TEXT)"
   ]
  },
  {
   "cell_type": "code",
   "execution_count": 123,
   "metadata": {},
   "outputs": [
    {
     "name": "stdout",
     "output_type": "stream",
     "text": [
      "sas\n",
      "ee\n"
     ]
    }
   ],
   "source": [
    "# Извлечение элементов\n",
    "gen = create_word_generator(TEXT)\n",
    "print(next(gen))\n",
    "print(next(gen))"
   ]
  },
  {
   "cell_type": "code",
   "execution_count": 124,
   "metadata": {},
   "outputs": [
    {
     "name": "stdout",
     "output_type": "stream",
     "text": [
      "sas\n",
      "ee\n",
      "ree\n"
     ]
    }
   ],
   "source": [
    "# Использование в цикле\n",
    "for word in create_word_generator(TEXT):\n",
    "    print(word)"
   ]
  },
  {
   "cell_type": "code",
   "execution_count": 125,
   "metadata": {},
   "outputs": [
    {
     "data": {
      "text/plain": [
       "['sas', 'ee', 'ree']"
      ]
     },
     "execution_count": 125,
     "metadata": {},
     "output_type": "execute_result"
    }
   ],
   "source": [
    "# Преобразование в список\n",
    "list(create_word_generator(TEXT))"
   ]
  },
  {
   "cell_type": "markdown",
   "metadata": {},
   "source": [
    "## Классы"
   ]
  },
  {
   "cell_type": "code",
   "execution_count": 126,
   "metadata": {},
   "outputs": [],
   "source": [
    "class Person:\n",
    "    \"\"\"Описание класса.\"\"\"\n",
    "\n",
    "    \"\"\"\n",
    "    Переменные класса\n",
    "    \"\"\"\n",
    "\n",
    "    planet = \"earth\"\n",
    "\n",
    "    def __init__(self, first_name, second_name, department):\n",
    "        \"\"\"Конструктор\"\"\"\n",
    "        self._first_name = first_name\n",
    "        self._second_name = second_name\n",
    "        self._department = department\n",
    "\n",
    "    \"\"\"\n",
    "    Метод экземпляра класса\n",
    "    \"\"\"\n",
    "\n",
    "    def full_name(self):\n",
    "        \"\"\"Описание метода\"\"\"\n",
    "        return self._first_name + \" \" + self._second_name\n",
    "\n",
    "    \"\"\"\n",
    "    Свойства\n",
    "    \"\"\"\n",
    "\n",
    "    @property\n",
    "    def first_name(self):\n",
    "        return self._first_name\n",
    "\n",
    "    @first_name.setter\n",
    "    def first_name(self, value):\n",
    "        self._first_name = value\n",
    "\n",
    "    @first_name.deleter\n",
    "    def first_name(self):\n",
    "        del self._first_name\n",
    "\n",
    "    @property\n",
    "    def second_name(self):\n",
    "        return self._second_name\n",
    "\n",
    "    \"\"\"\n",
    "    Метод класса\n",
    "    \"\"\"\n",
    "\n",
    "    @classmethod\n",
    "    def create_bot(cls):\n",
    "        return cls(\"id123\", \"bot\", \"ai\")\n",
    "\n",
    "\n",
    "    \"\"\"\n",
    "    Статический метод\n",
    "    \"\"\"\n",
    "\n",
    "    @staticmethod\n",
    "    def is_human(second_name):\n",
    "        return second_name != \"bot\"\n",
    "\n",
    "    \"\"\"\n",
    "    Переопределение методов\n",
    "    \"\"\"\n",
    "\n",
    "    def __str__(self):\n",
    "        return self.full_name() + \" from \" + self.planet\n",
    "\n",
    "    \"\"\"\n",
    "    Перегрузка оператора\n",
    "    \"\"\"\n",
    "\n",
    "\n",
    "class Education:\n",
    "    pass\n",
    "\n",
    "\n",
    "class Staff(Person, Education):\n",
    "    def __init__(self, first_name, second_name, department):\n",
    "#         super().__init__(first_name, second_name, department)\n",
    "        Person.__init__(self, first_name, second_name, department)"
   ]
  },
  {
   "cell_type": "code",
   "execution_count": 127,
   "metadata": {},
   "outputs": [
    {
     "name": "stdout",
     "output_type": "stream",
     "text": [
      "alex smirnov from earth\n",
      "id123 bot from earth\n"
     ]
    }
   ],
   "source": [
    "# Создание экземпляра класса Person\n",
    "alex = Person(\"alex\", \"smirnov\", \"it\")\n",
    "print(alex)\n",
    "\n",
    "bot = Person.create_bot()\n",
    "print(bot)"
   ]
  },
  {
   "cell_type": "code",
   "execution_count": 128,
   "metadata": {},
   "outputs": [
    {
     "name": "stdout",
     "output_type": "stream",
     "text": [
      "alex\n",
      "smirnov\n",
      "it\n",
      "earth\n"
     ]
    }
   ],
   "source": [
    "# Доступ к переменным\n",
    "print(alex.first_name)\n",
    "print(alex.second_name)\n",
    "print(alex._department)\n",
    "print(alex.planet)"
   ]
  },
  {
   "cell_type": "code",
   "execution_count": 129,
   "metadata": {},
   "outputs": [
    {
     "data": {
      "text/plain": [
       "'alex smirnov'"
      ]
     },
     "execution_count": 129,
     "metadata": {},
     "output_type": "execute_result"
    }
   ],
   "source": [
    "# Доступ к методу экземпляра класса\n",
    "alex.full_name()"
   ]
  },
  {
   "cell_type": "code",
   "execution_count": 130,
   "metadata": {},
   "outputs": [
    {
     "data": {
      "text/plain": [
       "False"
      ]
     },
     "execution_count": 130,
     "metadata": {},
     "output_type": "execute_result"
    }
   ],
   "source": [
    "# Доступ к статическому методу\n",
    "Person.is_human(bot.second_name)"
   ]
  },
  {
   "cell_type": "code",
   "execution_count": 131,
   "metadata": {},
   "outputs": [
    {
     "name": "stdout",
     "output_type": "stream",
     "text": [
      "alex smirnov from earth\n"
     ]
    }
   ],
   "source": [
    "# Создание экземпляра класса Staff\n",
    "employee = Staff(\"alex\", \"smirnov\", \"it\")\n",
    "print(employee)"
   ]
  },
  {
   "cell_type": "code",
   "execution_count": 132,
   "metadata": {},
   "outputs": [
    {
     "data": {
      "text/plain": [
       "[__main__.Staff, __main__.Person, __main__.Education, object]"
      ]
     },
     "execution_count": 132,
     "metadata": {},
     "output_type": "execute_result"
    }
   ],
   "source": [
    "# Порядок наследования\n",
    "Staff.mro()"
   ]
  },
  {
   "cell_type": "code",
   "execution_count": 133,
   "metadata": {},
   "outputs": [],
   "source": [
    "# Имя атрибута\n",
    "ATTR = \"first_name\""
   ]
  },
  {
   "cell_type": "code",
   "execution_count": 134,
   "metadata": {},
   "outputs": [
    {
     "data": {
      "text/plain": [
       "True"
      ]
     },
     "execution_count": 134,
     "metadata": {},
     "output_type": "execute_result"
    }
   ],
   "source": [
    "# Проверка наличия атрибута\n",
    "hasattr(employee, ATTR)"
   ]
  },
  {
   "cell_type": "code",
   "execution_count": 135,
   "metadata": {},
   "outputs": [
    {
     "data": {
      "text/plain": [
       "'alex'"
      ]
     },
     "execution_count": 135,
     "metadata": {},
     "output_type": "execute_result"
    }
   ],
   "source": [
    "# Получение значения атрибута\n",
    "getattr(employee, ATTR)"
   ]
  },
  {
   "cell_type": "code",
   "execution_count": 136,
   "metadata": {},
   "outputs": [
    {
     "data": {
      "text/plain": [
       "'xela'"
      ]
     },
     "execution_count": 136,
     "metadata": {},
     "output_type": "execute_result"
    }
   ],
   "source": [
    "# Присвоение нового значения атрибуту или создание нового\n",
    "setattr(employee, ATTR, \"xela\")\n",
    "employee.first_name"
   ]
  },
  {
   "cell_type": "code",
   "execution_count": 137,
   "metadata": {},
   "outputs": [
    {
     "data": {
      "text/plain": [
       "'xela'"
      ]
     },
     "execution_count": 137,
     "metadata": {},
     "output_type": "execute_result"
    }
   ],
   "source": [
    "setattr(employee, \"ATTR\", \"xela\")\n",
    "employee.ATTR"
   ]
  },
  {
   "cell_type": "code",
   "execution_count": 138,
   "metadata": {},
   "outputs": [
    {
     "data": {
      "text/plain": [
       "'new attribute'"
      ]
     },
     "execution_count": 138,
     "metadata": {},
     "output_type": "execute_result"
    }
   ],
   "source": [
    "# Создание нового атрибута\n",
    "employee.new_attr = \"new attribute\"\n",
    "employee.new_attr"
   ]
  },
  {
   "cell_type": "code",
   "execution_count": 139,
   "metadata": {},
   "outputs": [
    {
     "data": {
      "text/plain": [
       "False"
      ]
     },
     "execution_count": 139,
     "metadata": {},
     "output_type": "execute_result"
    }
   ],
   "source": [
    "# Удаление атрибута\n",
    "if hasattr(employee, \"ATTR\"):\n",
    "    delattr(employee, \"ATTR\")\n",
    "\n",
    "hasattr(employee, \"ATTR\")"
   ]
  },
  {
   "cell_type": "markdown",
   "metadata": {},
   "source": [
    "## Работа с файлами"
   ]
  },
  {
   "cell_type": "code",
   "execution_count": 140,
   "metadata": {},
   "outputs": [],
   "source": [
    "# Запись файла (1)\n",
    "f = open(\"input.txt\", \"wt\")  # r, w, a, r+, b, t\n",
    "f.write(\"hello world\\nwelcome to python\")\n",
    "f.close()"
   ]
  },
  {
   "cell_type": "code",
   "execution_count": 141,
   "metadata": {},
   "outputs": [],
   "source": [
    "# Запись файла (2)\n",
    "f = open(\"input.txt\", \"wt\")  # r, w, a, r+, b, t\n",
    "f.writelines([\"hello world\\n\", \"welcome to python\"])\n",
    "f.close()"
   ]
  },
  {
   "cell_type": "code",
   "execution_count": 142,
   "metadata": {},
   "outputs": [
    {
     "name": "stdout",
     "output_type": "stream",
     "text": [
      "['hello world\\n', 'welcome to python']\n"
     ]
    }
   ],
   "source": [
    "# Чтение файла (1)\n",
    "f = open(\"input.txt\", \"rt\")  # r, w, a, r+, b, t\n",
    "lines = f.readlines()\n",
    "f.close()\n",
    "\n",
    "print(lines)"
   ]
  },
  {
   "cell_type": "code",
   "execution_count": 143,
   "metadata": {},
   "outputs": [
    {
     "name": "stdout",
     "output_type": "stream",
     "text": [
      "hello world\n",
      "\n"
     ]
    }
   ],
   "source": [
    "# Чтение одной строки\n",
    "f = open(\"input.txt\", \"rt\")  # r, w, a, r+, b, t\n",
    "line = f.readline()\n",
    "f.close()\n",
    "print(line)"
   ]
  },
  {
   "cell_type": "code",
   "execution_count": 144,
   "metadata": {},
   "outputs": [
    {
     "name": "stdout",
     "output_type": "stream",
     "text": [
      "hello world\n",
      "welcome to python\n"
     ]
    }
   ],
   "source": [
    "# Чтение файла (2)\n",
    "f = open(\"input.txt\", \"rt\")  # r, w, a, r+, b, t\n",
    "while True:\n",
    "    line = f.readline()\n",
    "    if not line:\n",
    "        break\n",
    "    print(line.rstrip())  # end=\"\"\n",
    "f.close()"
   ]
  },
  {
   "cell_type": "code",
   "execution_count": 145,
   "metadata": {},
   "outputs": [
    {
     "name": "stdout",
     "output_type": "stream",
     "text": [
      "hello world\n",
      "welcome to python\n"
     ]
    }
   ],
   "source": [
    "# Чтение файла (3)\n",
    "f = open(\"input.txt\", \"rt\")  # r, w, a, r+, b, t\n",
    "for line in f:\n",
    "    print(line.rstrip())\n",
    "f.close()"
   ]
  },
  {
   "cell_type": "code",
   "execution_count": 146,
   "metadata": {},
   "outputs": [
    {
     "name": "stdout",
     "output_type": "stream",
     "text": [
      "hello\n"
     ]
    }
   ],
   "source": [
    "# Чтение нескольких символов\n",
    "f = open(\"input.txt\", \"rt\")  # r, w, a, r+, b, t\n",
    "chars = f.read(5)\n",
    "f.close()\n",
    "\n",
    "print(chars)"
   ]
  },
  {
   "cell_type": "code",
   "execution_count": 147,
   "metadata": {},
   "outputs": [
    {
     "name": "stdout",
     "output_type": "stream",
     "text": [
      "5\n",
      "10\n",
      " worl\n"
     ]
    }
   ],
   "source": [
    "# Перемещение указателя\n",
    "f = open(\"input.txt\", \"rt\")  # r, w, a, r+, b, t\n",
    "f.seek(5)\n",
    "print(f.tell())\n",
    "chars = f.read(5)\n",
    "print(f.tell())\n",
    "f.close()\n",
    "\n",
    "print(chars)"
   ]
  },
  {
   "cell_type": "code",
   "execution_count": 148,
   "metadata": {},
   "outputs": [
    {
     "name": "stdout",
     "output_type": "stream",
     "text": [
      "hello world\n",
      "welcome to python\n"
     ]
    }
   ],
   "source": [
    "# Использование with\n",
    "# Чтение файла (3)\n",
    "with open(\"input.txt\", \"rt\") as f:\n",
    "    text = f.read()\n",
    "\n",
    "print(text)"
   ]
  },
  {
   "cell_type": "markdown",
   "metadata": {},
   "source": [
    "## Исключения"
   ]
  },
  {
   "cell_type": "code",
   "execution_count": 149,
   "metadata": {},
   "outputs": [
    {
     "ename": "KeyError",
     "evalue": "4",
     "output_type": "error",
     "traceback": [
      "\u001b[0;31m---------------------------------------------------------------------------\u001b[0m",
      "\u001b[0;31mKeyError\u001b[0m                                  Traceback (most recent call last)",
      "Cell \u001b[0;32mIn[149], line 2\u001b[0m\n\u001b[1;32m      1\u001b[0m sstuff \u001b[38;5;241m=\u001b[39m \u001b[38;5;28mset\u001b[39m()\n\u001b[0;32m----> 2\u001b[0m sstuff\u001b[38;5;241m.\u001b[39mremove(\u001b[38;5;241m4\u001b[39m)\n",
      "\u001b[0;31mKeyError\u001b[0m: 4"
     ]
    }
   ],
   "source": [
    "sstuff = set()\n",
    "sstuff.remove(4)"
   ]
  },
  {
   "cell_type": "code",
   "execution_count": 150,
   "metadata": {},
   "outputs": [
    {
     "name": "stdout",
     "output_type": "stream",
     "text": [
      "except\n",
      "finally\n"
     ]
    }
   ],
   "source": [
    "# Перехват исключений\n",
    "try:\n",
    "    \"\"\"Код с возможным исключением\"\"\"\n",
    "    sstuff = set()\n",
    "    sstuff.remove(4)\n",
    "except KeyError as e:\n",
    "    \"\"\"Обработка исключения\"\"\"\n",
    "    print(\"except\")\n",
    "finally:\n",
    "    \"\"\"Завершающие действия (не важно было исключение или нет)\"\"\"\n",
    "    print(\"finally\")"
   ]
  },
  {
   "cell_type": "code",
   "execution_count": 151,
   "metadata": {},
   "outputs": [],
   "source": [
    "# Собственное исключение\n",
    "def check_value(value):\n",
    "    if value > 0:\n",
    "        return True\n",
    "    else:\n",
    "        raise Exception(\"Less or equal to 0.\")"
   ]
  },
  {
   "cell_type": "code",
   "execution_count": 152,
   "metadata": {},
   "outputs": [
    {
     "name": "stdout",
     "output_type": "stream",
     "text": [
      "Less or equal to 0.\n"
     ]
    },
    {
     "data": {
      "text/plain": [
       "False"
      ]
     },
     "execution_count": 152,
     "metadata": {},
     "output_type": "execute_result"
    }
   ],
   "source": [
    "is_positive = True\n",
    "\n",
    "try:\n",
    "    is_positive = check_value(0)\n",
    "except Exception as e:\n",
    "    print(e)\n",
    "    is_positive = False\n",
    "\n",
    "is_positive"
   ]
  },
  {
   "cell_type": "markdown",
   "metadata": {},
   "source": [
    "## Модули"
   ]
  },
  {
   "cell_type": "markdown",
   "metadata": {},
   "source": [
    "### Подключение сторонних модулей"
   ]
  },
  {
   "cell_type": "markdown",
   "metadata": {},
   "source": [
    "Математические функции"
   ]
  },
  {
   "cell_type": "code",
   "execution_count": 153,
   "metadata": {},
   "outputs": [],
   "source": [
    "# Импорт модуля\n",
    "import math as m\n",
    "\n",
    "# Импорт функции cos и значения pi из модуля math\n",
    "from math import cos, pi"
   ]
  },
  {
   "cell_type": "code",
   "execution_count": 154,
   "metadata": {},
   "outputs": [
    {
     "data": {
      "text/plain": [
       "8.0"
      ]
     },
     "execution_count": 154,
     "metadata": {},
     "output_type": "execute_result"
    }
   ],
   "source": [
    "# Вызов функции pow модуля math\n",
    "m.pow(2, 3)"
   ]
  },
  {
   "cell_type": "code",
   "execution_count": 155,
   "metadata": {},
   "outputs": [
    {
     "data": {
      "text/plain": [
       "-1.0"
      ]
     },
     "execution_count": 155,
     "metadata": {},
     "output_type": "execute_result"
    }
   ],
   "source": [
    "# Вызов функции cos модуля math\n",
    "cos(pi)"
   ]
  },
  {
   "cell_type": "markdown",
   "metadata": {},
   "source": [
    "Разбор json  "
   ]
  },
  {
   "cell_type": "code",
   "execution_count": 156,
   "metadata": {},
   "outputs": [],
   "source": [
    "import json"
   ]
  },
  {
   "cell_type": "code",
   "execution_count": 157,
   "metadata": {},
   "outputs": [],
   "source": [
    "client_json = '{\"id\": \"1\", \"name\": \"alex\"}'"
   ]
  },
  {
   "cell_type": "code",
   "execution_count": 158,
   "metadata": {},
   "outputs": [
    {
     "data": {
      "text/plain": [
       "{'id': '1', 'name': 'alex'}"
      ]
     },
     "execution_count": 158,
     "metadata": {},
     "output_type": "execute_result"
    }
   ],
   "source": [
    "# Разбор json строки и преобразование в словарь\n",
    "client = json.loads(client_json)\n",
    "client"
   ]
  },
  {
   "cell_type": "markdown",
   "metadata": {},
   "source": [
    "### Подключение собственных модулей"
   ]
  },
  {
   "cell_type": "markdown",
   "metadata": {},
   "source": [
    "Создаем файл, в который помещаем следующий код"
   ]
  },
  {
   "cell_type": "code",
   "execution_count": null,
   "metadata": {},
   "outputs": [],
   "source": [
    "%%writefile custommath.py\n",
    "\n",
    "#!/usr/bin/env python\n",
    "\n",
    "__author__ = \"S. Papulin\"\n",
    "__version__ = \"1.0.0\"\n",
    "__maintainer__ = \"S. Papulin\"\n",
    "\n",
    "__course__ = \"ml\"\n",
    "\n",
    "\n",
    "def power(value, degree):\n",
    "    \"\"\"Power function.\"\"\"\n",
    "    return value ** degree\n",
    "\n",
    "\n",
    "if __name__ == \"__main__\":\n",
    "    print(\"Test: 2^3 =\", power(2, 3))\n"
   ]
  },
  {
   "cell_type": "code",
   "execution_count": null,
   "metadata": {},
   "outputs": [],
   "source": [
    "# Активация повторного импорта модулей\n",
    "%load_ext autoreload\n",
    "%autoreload 2"
   ]
  },
  {
   "cell_type": "code",
   "execution_count": null,
   "metadata": {},
   "outputs": [],
   "source": [
    "# Импорт функции power\n",
    "from custommath import power"
   ]
  },
  {
   "cell_type": "code",
   "execution_count": null,
   "metadata": {},
   "outputs": [],
   "source": [
    "# Справка по функции\n",
    "help(power)"
   ]
  },
  {
   "cell_type": "code",
   "execution_count": null,
   "metadata": {},
   "outputs": [],
   "source": [
    "# Вызов функции\n",
    "power(2, 3)"
   ]
  },
  {
   "cell_type": "markdown",
   "metadata": {},
   "source": [
    "## Виртуальная среда\n",
    "\n",
    "Создание изолированной виртуальной среды:\n",
    "\n",
    "```bash\n",
    "/home/ubuntu/ML/anaconda3/bin/python -m venv .venv/pure-py\n",
    "```\n",
    "Активация среды:\n",
    "```bash\n",
    "source .venv/pure-py/bin/activate\n",
    "```\n",
    "\n",
    "Выход (деактивация) из среды:\n",
    "\n",
    "```\n",
    "deactivate"
   ]
  },
  {
   "cell_type": "code",
   "execution_count": null,
   "metadata": {},
   "outputs": [],
   "source": []
  }
 ],
 "metadata": {
  "kernelspec": {
   "display_name": "Python 3",
   "language": "python",
   "name": "python3"
  },
  "language_info": {
   "codemirror_mode": {
    "name": "ipython",
    "version": 3
   },
   "file_extension": ".py",
   "mimetype": "text/x-python",
   "name": "python",
   "nbconvert_exporter": "python",
   "pygments_lexer": "ipython3",
   "version": "3.11.9"
  }
 },
 "nbformat": 4,
 "nbformat_minor": 2
}
