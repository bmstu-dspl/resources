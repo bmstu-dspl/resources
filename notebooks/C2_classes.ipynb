{
 "cells": [
  {
   "cell_type": "markdown",
   "metadata": {},
   "source": [
    "# Классы и объекты в Python\n",
    "---\n",
    "М.А. Гейне (mike.geine@gmail.com)"
   ]
  },
  {
   "cell_type": "markdown",
   "metadata": {},
   "source": [
    "## Основы работы с классами\n",
    "\n",
    "1. Базовые концепции класса и объекта"
   ]
  },
  {
   "cell_type": "code",
   "execution_count": null,
   "metadata": {},
   "outputs": [],
   "source": [
    "class Dog:\n",
    "    # Class Attribute\n",
    "    species = \"Canis lupus\"\n",
    "\n",
    "    # Instance Attributes\n",
    "    def __init__(self, name, age):\n",
    "        self.name = name\n",
    "        self.age = age\n",
    "\n",
    "    # Instance Method\n",
    "    def bark(self):\n",
    "        return f\"{self.name} says woof!\"\n",
    "\n",
    "# Creating an object (instance)\n",
    "dog1 = Dog(\"Buddy\", 3)\n",
    "print(dog1.bark())  # Output: Buddy says woof!\n"
   ]
  },
  {
   "cell_type": "markdown",
   "metadata": {},
   "source": [
    "2. Инкапсуляция и ограничение доступа"
   ]
  },
  {
   "cell_type": "code",
   "execution_count": null,
   "metadata": {},
   "outputs": [],
   "source": [
    "class BankAccount:\n",
    "    def __init__(self, owner, balance):\n",
    "        self.owner = owner\n",
    "        self.__balance = balance  # Private attribute\n",
    "\n",
    "    def deposit(self, amount):\n",
    "        self.__balance += amount\n",
    "        self.__deposited = True\n",
    "\n",
    "    def withdraw(self, amount):\n",
    "        if amount > self.__balance:\n",
    "            print(\"Insufficient funds!\")\n",
    "        else:\n",
    "            self.__balance -= amount\n",
    "\n",
    "    def get_balance(self):\n",
    "        return self.__balance\n",
    "\n",
    "account = BankAccount(\"Alice\", 1000)\n",
    "account.deposit(500)\n",
    "print(account.get_balance())  # Output: 1500\n"
   ]
  },
  {
   "cell_type": "code",
   "execution_count": null,
   "metadata": {},
   "outputs": [],
   "source": [
    "account._BankAccount__balance"
   ]
  },
  {
   "cell_type": "markdown",
   "metadata": {},
   "source": [
    "3. Наследование"
   ]
  },
  {
   "cell_type": "code",
   "execution_count": null,
   "metadata": {},
   "outputs": [],
   "source": [
    "class Animal:\n",
    "    def __init__(self, name):\n",
    "        self.name = name\n",
    "\n",
    "    def speak(self):\n",
    "        return f\"{self.name} makes a sound.\"\n",
    "\n",
    "class Dog(Animal):\n",
    "    def speak(self):\n",
    "        return f\"{self.name} barks.\"\n",
    "\n",
    "class Cat(Animal):\n",
    "    def speak(self):\n",
    "        return f\"{self.name} meows.\"\n",
    "\n",
    "dog = Dog(\"Buddy\")\n",
    "cat = Cat(\"Whiskers\")\n",
    "\n",
    "print(dog.speak())  # Output: Buddy barks.\n",
    "print(cat.speak())  # Output: Whiskers meows.\n"
   ]
  },
  {
   "cell_type": "markdown",
   "metadata": {},
   "source": [
    "4. Полиморфизм"
   ]
  },
  {
   "cell_type": "code",
   "execution_count": null,
   "metadata": {},
   "outputs": [],
   "source": [
    "class Bird:\n",
    "    def fly(self):\n",
    "        return \"Bird is flying.\"\n",
    "\n",
    "class Penguin(Bird):\n",
    "    def fly(self):\n",
    "        return \"Penguin can't fly, but it can swim.\"\n",
    "\n",
    "def make_it_fly(bird):\n",
    "    print(bird.fly())\n",
    "\n",
    "bird = Bird()\n",
    "penguin = Penguin()\n",
    "\n",
    "make_it_fly(bird)      # Output: Bird is flying.\n",
    "make_it_fly(penguin)   # Output: Penguin can't fly, but it can swim.\n"
   ]
  },
  {
   "cell_type": "markdown",
   "metadata": {},
   "source": [
    "5. Специальные методы"
   ]
  },
  {
   "cell_type": "code",
   "execution_count": null,
   "metadata": {},
   "outputs": [],
   "source": [
    "class Book:\n",
    "    def __init__(self, title, pages):\n",
    "        self.title = title\n",
    "        self.pages = pages\n",
    "\n",
    "    def __str__(self):\n",
    "        return f\"Book: {self.title}\"\n",
    "\n",
    "    def __len__(self):\n",
    "        return self.pages\n",
    "\n",
    "    def __add__(self, other):\n",
    "        return self.pages + other.pages\n",
    "\n",
    "book1 = Book(\"Python 101\", 300)\n",
    "book2 = Book(\"Advanced Python\", 400)\n",
    "\n",
    "print(book1)            # Output: Book: Python 101\n",
    "print(len(book1))       # Output: 300\n",
    "print(book1 + book2)    # Output: 700\n"
   ]
  },
  {
   "cell_type": "markdown",
   "metadata": {},
   "source": [
    "6. Класс-методы и статические методы"
   ]
  },
  {
   "cell_type": "code",
   "execution_count": null,
   "metadata": {},
   "outputs": [],
   "source": [
    "class MathUtils:\n",
    "    PI = 3.14159\n",
    "\n",
    "    @classmethod\n",
    "    def circle_area(cls, radius):\n",
    "        return cls.PI * (radius ** 2)\n",
    "\n",
    "    @staticmethod\n",
    "    def add(a, b):\n",
    "        return a + b\n",
    "\n",
    "print(MathUtils.circle_area(5))  # Output: 78.53975\n",
    "print(MathUtils.add(3, 4))       # Output: 7\n"
   ]
  },
  {
   "cell_type": "markdown",
   "metadata": {},
   "source": [
    "7. `super()`"
   ]
  },
  {
   "cell_type": "code",
   "execution_count": null,
   "metadata": {},
   "outputs": [],
   "source": [
    "class Vehicle:\n",
    "    def __init__(self, brand):\n",
    "        self.brand = brand\n",
    "\n",
    "    def start(self):\n",
    "        return f\"{self.brand} vehicle is starting.\"\n",
    "\n",
    "class Car(Vehicle):\n",
    "    def __init__(self, brand, model):\n",
    "        super().__init__(brand)\n",
    "        self.model = model\n",
    "\n",
    "    def start(self):\n",
    "        return f\"{self.brand} {self.model} car is starting.\"\n",
    "\n",
    "car = Car(\"Toyota\", \"Corolla\")\n",
    "print(car.start())  # Output: Toyota Corolla car is starting.\n"
   ]
  },
  {
   "cell_type": "markdown",
   "metadata": {},
   "source": [
    "8. Множественное наследование"
   ]
  },
  {
   "cell_type": "code",
   "execution_count": null,
   "metadata": {},
   "outputs": [],
   "source": [
    "class A:\n",
    "    def __init__(self):\n",
    "        print(\"A's __init__\")\n",
    "        super().__init__()\n",
    "\n",
    "class B(A):\n",
    "    def __init__(self):\n",
    "        print(\"B's __init__\")\n",
    "        super().__init__()\n",
    "\n",
    "class C(A):\n",
    "    def __init__(self):\n",
    "        print(\"C's __init__\")\n",
    "        super().__init__()\n",
    "\n",
    "class D(B, C):\n",
    "    def __init__(self):\n",
    "        print(\"D's __init__\")\n",
    "        super().__init__()\n",
    "\n",
    "# Creating an instance of D\n",
    "d = D()\n"
   ]
  },
  {
   "cell_type": "code",
   "execution_count": null,
   "metadata": {},
   "outputs": [],
   "source": [
    "print(D.mro())\n"
   ]
  },
  {
   "cell_type": "markdown",
   "metadata": {},
   "source": [
    "### Пример: Создание простой банковской системы\n",
    "\n",
    "Необходимо разработать простую банковскую систему, используя классы Python. Система будет включать в себя три типа счетов:\n",
    "\n",
    "1. **BankAccount**: Базовый класс, представляющий общий банковский счет.\n",
    "2. **SavingsAccount**: Подкласс `BankAccount`, добавляющий расчет процентов.\n",
    "3. **CheckingAccount**: Подкласс `BankAccount`, допускающий овердрафт, но взимающий комиссию, когда баланс становится меньше нуля.\n",
    "\n",
    "### **Требования**:\n",
    "\n",
    "- Класс `BankAccount` должен иметь атрибуты для имени владельца счета, баланса, методов пополнения и снятия средств.\n",
    "- Класс `SavingsAccount` должен наследоваться от `BankAccount` и иметь дополнительный метод `apply_interest()`, который начисляет проценты на баланс.\n",
    "- Класс `CheckingAccount` должен разрешать овердрафт до определенного лимита, но удерживать комиссию, когда счет становится отрицательным."
   ]
  },
  {
   "cell_type": "code",
   "execution_count": 14,
   "metadata": {},
   "outputs": [],
   "source": [
    "class BankAccount:\n",
    "    def __init__(self, owner, balance=0):\n",
    "        self.owner = owner\n",
    "        self._balance = balance  # Encapsulated balance (protected)\n",
    "\n",
    "    def deposit(self, amount):\n",
    "        if amount > 0:\n",
    "            self._balance += amount\n",
    "            print(f\"{self.owner} deposited {amount}. New balance: {self._balance}\")\n",
    "        else:\n",
    "            print(\"Deposit amount must be positive.\")\n",
    "\n",
    "    def withdraw(self, amount):\n",
    "        if amount > 0 and amount <= self._balance:\n",
    "            self._balance -= amount\n",
    "            print(f\"{self.owner} withdrew {amount}. New balance: {self._balance}\")\n",
    "        else:\n",
    "            print(\"Insufficient balance or invalid amount.\")\n",
    "\n",
    "    def get_balance(self):\n",
    "        return self._balance\n",
    "\n",
    "    def __str__(self):\n",
    "        return f\"BankAccount of {self.owner}, Balance: {self._balance}\"\n"
   ]
  },
  {
   "cell_type": "code",
   "execution_count": 15,
   "metadata": {},
   "outputs": [],
   "source": [
    "# SavingsAccount subclass with interest application\n",
    "class SavingsAccount(BankAccount):\n",
    "    def __init__(self, owner, balance=0, interest_rate=0.01):\n",
    "        super().__init__(owner, balance)\n",
    "        self.interest_rate = interest_rate\n",
    "\n",
    "    def apply_interest(self):\n",
    "        interest = self._balance * self.interest_rate\n",
    "        self._balance += interest\n",
    "        print(f\"Interest applied to {self.owner}'s savings account. New balance: {self._balance}\")\n",
    "\n",
    "    def __str__(self):\n",
    "        return f\"SavingsAccount of {self.owner}, Balance: {self._balance}\"\n"
   ]
  },
  {
   "cell_type": "code",
   "execution_count": 16,
   "metadata": {},
   "outputs": [],
   "source": [
    "# CheckingAccount subclass with overdraft capability\n",
    "class CheckingAccount(BankAccount):\n",
    "    def __init__(self, owner, balance=0, overdraft_limit=500, overdraft_fee=35):\n",
    "        super().__init__(owner, balance)\n",
    "        self.overdraft_limit = overdraft_limit\n",
    "        self.overdraft_fee = overdraft_fee\n",
    "\n",
    "    def withdraw(self, amount):\n",
    "        if amount > 0:\n",
    "            if self._balance - amount < -self.overdraft_limit:\n",
    "                print(f\"Withdrawal denied. Overdraft limit exceeded for {self.owner}.\")\n",
    "            else:\n",
    "                self._balance -= amount\n",
    "                print(f\"{self.owner} withdrew {amount}. New balance: {self._balance}\")\n",
    "                if self._balance < 0:\n",
    "                    self._balance -= self.overdraft_fee\n",
    "                    print(f\"Overdraft fee of {self.overdraft_fee} applied. New balance: {self._balance}\")\n",
    "        else:\n",
    "            print(\"Withdrawal amount must be positive.\")\n",
    "\n",
    "    def __str__(self):\n",
    "        return f\"CheckingAccount of {self.owner}, Balance: {self._balance}, Overdraft Limit: {self.overdraft_limit}\"\n"
   ]
  },
  {
   "cell_type": "code",
   "execution_count": null,
   "metadata": {},
   "outputs": [],
   "source": [
    "# Create a basic bank account\n",
    "basic_account = BankAccount(\"Alice\", 500)\n",
    "basic_account.deposit(200)\n",
    "basic_account.withdraw(100)\n",
    "print(basic_account)\n",
    "\n",
    "# Create a savings account\n",
    "savings = SavingsAccount(\"Bob\", 1000, 0.05)\n",
    "savings.apply_interest()\n",
    "savings.withdraw(200)\n",
    "print(savings)\n",
    "\n",
    "# Create a checking account with overdraft\n",
    "checking = CheckingAccount(\"Charlie\", 100, overdraft_limit=200)\n",
    "checking.withdraw(250)  # This will trigger an overdraft\n",
    "checking.deposit(300)\n",
    "print(checking)\n"
   ]
  },
  {
   "cell_type": "code",
   "execution_count": null,
   "metadata": {},
   "outputs": [],
   "source": []
  }
 ],
 "metadata": {
  "kernelspec": {
   "display_name": "mlmethods",
   "language": "python",
   "name": "python3"
  },
  "language_info": {
   "codemirror_mode": {
    "name": "ipython",
    "version": 3
   },
   "file_extension": ".py",
   "mimetype": "text/x-python",
   "name": "python",
   "nbconvert_exporter": "python",
   "pygments_lexer": "ipython3",
   "version": "3.11.9"
  }
 },
 "nbformat": 4,
 "nbformat_minor": 2
}
