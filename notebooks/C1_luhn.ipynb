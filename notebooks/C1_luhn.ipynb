{
 "cells": [
  {
   "cell_type": "markdown",
   "metadata": {},
   "source": [
    "# Работа с числами и строками на примере алгоритма Луна\n",
    "---\n",
    "М.А. Гейне (mike.geine@gmail.com)"
   ]
  },
  {
   "cell_type": "markdown",
   "metadata": {},
   "source": [
    "## Операции со строками"
   ]
  },
  {
   "cell_type": "markdown",
   "metadata": {},
   "source": [
    "### Базовые операции"
   ]
  },
  {
   "cell_type": "markdown",
   "metadata": {},
   "source": [
    "Конкатенация"
   ]
  },
  {
   "cell_type": "code",
   "execution_count": null,
   "metadata": {},
   "outputs": [],
   "source": [
    "# Cell 1: String Concatenation\n",
    "string1 = \"Hello\"\n",
    "string2 = \"World\"\n",
    "string1 + \" \" + string2"
   ]
  },
  {
   "cell_type": "markdown",
   "metadata": {},
   "source": [
    "Повторение"
   ]
  },
  {
   "cell_type": "code",
   "execution_count": null,
   "metadata": {},
   "outputs": [],
   "source": [
    "\"Hi\" * 3"
   ]
  },
  {
   "cell_type": "markdown",
   "metadata": {},
   "source": [
    "Длина строки"
   ]
  },
  {
   "cell_type": "code",
   "execution_count": null,
   "metadata": {},
   "outputs": [],
   "source": [
    "len(\"Python\")"
   ]
  },
  {
   "cell_type": "markdown",
   "metadata": {},
   "source": [
    "Обращение по индексу"
   ]
  },
  {
   "cell_type": "code",
   "execution_count": null,
   "metadata": {},
   "outputs": [],
   "source": [
    "\"Python\"[0]"
   ]
  },
  {
   "cell_type": "markdown",
   "metadata": {},
   "source": [
    "Интервалы"
   ]
  },
  {
   "cell_type": "code",
   "execution_count": null,
   "metadata": {},
   "outputs": [],
   "source": [
    "\"Python\"[1:4]"
   ]
  },
  {
   "cell_type": "markdown",
   "metadata": {},
   "source": [
    "Форматирование"
   ]
  },
  {
   "cell_type": "code",
   "execution_count": null,
   "metadata": {},
   "outputs": [],
   "source": [
    "name = \"Alice\"\n",
    "f\"Hello, {name}!\""
   ]
  },
  {
   "cell_type": "markdown",
   "metadata": {},
   "source": [
    "Удаление лишних пробелов\n",
    "- `strip()`: Удаляет ведущие и заключительные пробелы.\n",
    "- `lstrip()`: Удаляет ведущие пробелы.\n",
    "- `rstrip()`: Удаляет заключительные пробелы."
   ]
  },
  {
   "cell_type": "code",
   "execution_count": null,
   "metadata": {},
   "outputs": [],
   "source": [
    "\"  hel  lo  \".strip()"
   ]
  },
  {
   "cell_type": "markdown",
   "metadata": {},
   "source": [
    "Поиск подстроки\n",
    "\n",
    "- `find()`: Индекс первого вхождения подстроки или -1, если её нет.\n",
    "- `count()`: Подсчитывает вхождение подстроки."
   ]
  },
  {
   "cell_type": "code",
   "execution_count": null,
   "metadata": {},
   "outputs": [],
   "source": [
    "\"hello\".find(\"e\")\n"
   ]
  },
  {
   "cell_type": "code",
   "execution_count": null,
   "metadata": {},
   "outputs": [],
   "source": [
    "\"hello\".count(\"l\")"
   ]
  },
  {
   "cell_type": "markdown",
   "metadata": {},
   "source": [
    "Соединение и разбиение строк\n",
    "\n",
    "- `split()`: Разбивает строку на список\n",
    "- `join()`: Соединяет список строк через разделитель"
   ]
  },
  {
   "cell_type": "code",
   "execution_count": null,
   "metadata": {},
   "outputs": [],
   "source": [
    "\"hello world\".split()"
   ]
  },
  {
   "cell_type": "code",
   "execution_count": null,
   "metadata": {},
   "outputs": [],
   "source": [
    "\"-\".join(['hello', 'world'])"
   ]
  },
  {
   "cell_type": "markdown",
   "metadata": {},
   "source": [
    "### Продвинутые операции"
   ]
  },
  {
   "cell_type": "markdown",
   "metadata": {},
   "source": [
    "Замена подстроки"
   ]
  },
  {
   "cell_type": "code",
   "execution_count": null,
   "metadata": {},
   "outputs": [],
   "source": [
    "\"Hello world\".replace(\"world\", \"Python\")"
   ]
  },
  {
   "cell_type": "markdown",
   "metadata": {},
   "source": [
    "Интерполяция строк"
   ]
  },
  {
   "cell_type": "code",
   "execution_count": null,
   "metadata": {},
   "outputs": [],
   "source": [
    "\"Hello, %s!\" % \"Alice\""
   ]
  },
  {
   "cell_type": "markdown",
   "metadata": {},
   "source": [
    "Регулярные выражения"
   ]
  },
  {
   "cell_type": "code",
   "execution_count": null,
   "metadata": {},
   "outputs": [],
   "source": [
    "import re\n",
    "re.findall(r\"\\d+\", \"The year is 2023\")"
   ]
  },
  {
   "cell_type": "markdown",
   "metadata": {},
   "source": [
    "Превращения строк (String Translation)"
   ]
  },
  {
   "cell_type": "code",
   "execution_count": null,
   "metadata": {},
   "outputs": [],
   "source": [
    "translation_table = str.maketrans(\"aeiou\", \"12345\")\n",
    "\"hello\".translate(translation_table)"
   ]
  },
  {
   "cell_type": "code",
   "execution_count": null,
   "metadata": {},
   "outputs": [],
   "source": [
    "translation_table2 = str.maketrans({'e': '2', 'o': '0'})\n",
    "\"hello\".translate(translation_table)"
   ]
  },
  {
   "cell_type": "markdown",
   "metadata": {},
   "source": [
    "Кодирование и декодирование"
   ]
  },
  {
   "cell_type": "code",
   "execution_count": null,
   "metadata": {},
   "outputs": [],
   "source": [
    "\"hello\".encode('utf-8').hex(' ')"
   ]
  },
  {
   "cell_type": "code",
   "execution_count": null,
   "metadata": {},
   "outputs": [],
   "source": [
    "b'hello'.decode('utf-8')"
   ]
  },
  {
   "cell_type": "markdown",
   "metadata": {},
   "source": [
    "Проверка свойств строки\n",
    "\n",
    "- `isalpha()`: Все символы - буквы.\n",
    "- `isdigit()`: Все символы - цифры.\n",
    "- `isalnum()`: Все символы - буквы или цифры."
   ]
  },
  {
   "cell_type": "code",
   "execution_count": null,
   "metadata": {},
   "outputs": [],
   "source": [
    "\"hello\".isalpha()"
   ]
  },
  {
   "cell_type": "code",
   "execution_count": null,
   "metadata": {},
   "outputs": [],
   "source": [
    "\"123\".isdigit()"
   ]
  },
  {
   "cell_type": "code",
   "execution_count": null,
   "metadata": {},
   "outputs": [],
   "source": [
    "\"hello123\".isalnum()"
   ]
  },
  {
   "cell_type": "code",
   "execution_count": null,
   "metadata": {},
   "outputs": [],
   "source": [
    "\"hello!123\".isalnum()"
   ]
  },
  {
   "cell_type": "markdown",
   "metadata": {},
   "source": [
    "Проверка начала/конца строки"
   ]
  },
  {
   "cell_type": "code",
   "execution_count": null,
   "metadata": {},
   "outputs": [],
   "source": [
    "\"python\".startswith(\"py\")"
   ]
  },
  {
   "cell_type": "code",
   "execution_count": null,
   "metadata": {},
   "outputs": [],
   "source": [
    "\"python\".endswith(\"on\")"
   ]
  },
  {
   "cell_type": "markdown",
   "metadata": {},
   "source": [
    "Разворот строки"
   ]
  },
  {
   "cell_type": "code",
   "execution_count": null,
   "metadata": {},
   "outputs": [],
   "source": [
    "\"hello\"[::-1]"
   ]
  },
  {
   "cell_type": "markdown",
   "metadata": {},
   "source": [
    "### Регулярные выражения"
   ]
  },
  {
   "cell_type": "code",
   "execution_count": 30,
   "metadata": {},
   "outputs": [],
   "source": [
    "import re\n",
    "log_line = '2023-10-27 10:30:00 - ERROR - User [johndoe] attempted login from IP 192.168.1.100'"
   ]
  },
  {
   "cell_type": "code",
   "execution_count": 31,
   "metadata": {},
   "outputs": [],
   "source": [
    "pattern = r'(\\d{4}-\\d{2}-\\d{2})\\s+(\\d{2}:\\d{2}:\\d{2})\\s+-\\s+(\\w+)\\s+-\\s+User\\s+\\[(\\w+)\\]\\s+attempted\\s+login\\s+from\\s+IP\\s+(\\d{1,3}\\.\\d{1,3}\\.\\d{1,3}\\.\\d{1,3})'"
   ]
  },
  {
   "cell_type": "markdown",
   "metadata": {},
   "source": [
    "Расшифровка:\n",
    "\n",
    "- `U` - поиск символа U (или любого другого символа, указанного буквально)\n",
    "- `a-z` - любой символ в интервале\n",
    "- `[abc]` - любой из символов a, b или c\n",
    "- `[^abc]` - любой из символов, кроме abc\n",
    "- `.` - любой символ\n",
    "- `\\d` - любая цифра (0-9)\n",
    "- `\\D` - любой символ, кроме цифры\n",
    "- `\\w` - любой символ слова ([a-zA-Z0-9_])\n",
    "- `\\s` - любой символ пробела\n",
    "- `{4}` - количество повторений предыдущего токена (4 раза)\n",
    "- `+` - предыдущий токен должен повториться 1 или более раз\n",
    "- `*` - предыдущий токен должен повториться 0 или более раз\n",
    "- `()` - группа захвата\n",
    "\n",
    "См. также: [https://regex101.com/](https://regex101.com/)\n"
   ]
  },
  {
   "cell_type": "code",
   "execution_count": null,
   "metadata": {},
   "outputs": [],
   "source": [
    "match = re.search(pattern, log_line)\n",
    "if match:\n",
    "    date, time, level, username, ip = match.groups()\n",
    "    print(f\"Date: {date}, Time: {time}, Level: {level}, Username: {username}, IP: {ip}\")"
   ]
  },
  {
   "cell_type": "code",
   "execution_count": null,
   "metadata": {},
   "outputs": [],
   "source": [
    "email = \"test.user+alias@example.com\"\n",
    "pattern = r\"^[a-zA-Z0-9._%+-]+@[a-zA-Z0-9.-]+\\.[a-zA-Z]{2,}$\"\n",
    "if re.match(pattern, email):\n",
    "    print(\"Valid email address\")\n",
    "else:\n",
    "    print(\"Invalid email address\")"
   ]
  },
  {
   "cell_type": "code",
   "execution_count": null,
   "metadata": {},
   "outputs": [],
   "source": [
    "text = \"This is a sentence with some phone numbers: 123-456-7890 and (555) 123-4567.\"\n",
    "pattern = r\"\\(*(\\d{3})\\D*(\\d{3})\\D*(\\d{4})\"\n",
    "replacement = r\"(\\1) \\2-\\3\"\n",
    "\n",
    "re.sub(pattern, replacement, text)"
   ]
  },
  {
   "cell_type": "code",
   "execution_count": null,
   "metadata": {},
   "outputs": [],
   "source": [
    "text = \"I have 10 apples and 20 oranges.\"\n",
    "pattern = r\"\\d+(?= apples)\"\n",
    "\n",
    "re.findall(pattern, text)"
   ]
  },
  {
   "cell_type": "markdown",
   "metadata": {},
   "source": [
    "## Алгоритм Луна\n",
    "\n",
    "Алгоритм Луна (Luhn algorithm) — это алгоритм контрольной суммы, используемый для проверки различных идентификационных номеров, таких как номера кредитных карт, номера социального страхования (SIN) в Канаде и некоторых других стран.\n",
    "\n",
    "Как он работает:\n",
    "\n",
    "1. Удвоение цифр: Начиная с конца номера (справа налево), удвоить каждую вторую цифру.\n",
    "2. Суммирование цифр: Если удвоение цифры приводит к двузначному числу, сложить цифры этого числа (например, 12 -> 1 + 2 = 3).\n",
    "3. Суммирование всех цифр: Сложить все цифры, полученные на предыдущих шагах, включая неудвоенные.\n",
    "4. Проверка результата: Если полученная сумма делится на 10 без остатка, то номер считается действительным по алгоритму Луна."
   ]
  },
  {
   "cell_type": "code",
   "execution_count": 41,
   "metadata": {},
   "outputs": [],
   "source": [
    "card_number = '4111-1111-4555-1142'"
   ]
  },
  {
   "cell_type": "markdown",
   "metadata": {},
   "source": [
    "0. Подготовка номера карты"
   ]
  },
  {
   "cell_type": "code",
   "execution_count": null,
   "metadata": {},
   "outputs": [],
   "source": [
    "card_translation = str.maketrans({'-': '', ' ': ''})\n",
    "translated_card_number = card_number.translate(card_translation)\n",
    "translated_card_number"
   ]
  },
  {
   "cell_type": "markdown",
   "metadata": {},
   "source": [
    "1. Сумма нечётных чисел"
   ]
  },
  {
   "cell_type": "code",
   "execution_count": 43,
   "metadata": {},
   "outputs": [],
   "source": [
    "sum_of_odd_digits = 0"
   ]
  },
  {
   "cell_type": "code",
   "execution_count": null,
   "metadata": {},
   "outputs": [],
   "source": [
    "card_number_reversed = translated_card_number[::-1]\n",
    "card_number_reversed"
   ]
  },
  {
   "cell_type": "code",
   "execution_count": null,
   "metadata": {},
   "outputs": [],
   "source": [
    "odd_digits = card_number_reversed[::2]\n",
    "odd_digits"
   ]
  },
  {
   "cell_type": "code",
   "execution_count": null,
   "metadata": {},
   "outputs": [],
   "source": [
    "for digit in odd_digits:\n",
    "  sum_of_odd_digits += int(digit)\n",
    "sum_of_odd_digits"
   ]
  },
  {
   "cell_type": "markdown",
   "metadata": {},
   "source": [
    "2. Сумма чётных чисел"
   ]
  },
  {
   "cell_type": "code",
   "execution_count": 47,
   "metadata": {},
   "outputs": [],
   "source": [
    "sum_of_even_digits = 0"
   ]
  },
  {
   "cell_type": "code",
   "execution_count": null,
   "metadata": {},
   "outputs": [],
   "source": [
    "even_digits = card_number_reversed[1::2]\n",
    "even_digits"
   ]
  },
  {
   "cell_type": "code",
   "execution_count": null,
   "metadata": {},
   "outputs": [],
   "source": [
    "for digit in even_digits:\n",
    "  number = int(digit) * 2\n",
    "  if number >= 10:\n",
    "    number = (number // 10) + (number % 10)\n",
    "  sum_of_even_digits += number\n",
    "sum_of_even_digits"
   ]
  },
  {
   "cell_type": "markdown",
   "metadata": {},
   "source": [
    "3. Подсчёт суммы"
   ]
  },
  {
   "cell_type": "code",
   "execution_count": null,
   "metadata": {},
   "outputs": [],
   "source": [
    "total = sum_of_even_digits + sum_of_odd_digits\n",
    "total"
   ]
  },
  {
   "cell_type": "code",
   "execution_count": null,
   "metadata": {},
   "outputs": [],
   "source": [
    "total % 10 == 0"
   ]
  },
  {
   "cell_type": "markdown",
   "metadata": {},
   "source": [
    "Оформим в функции"
   ]
  },
  {
   "cell_type": "code",
   "execution_count": 52,
   "metadata": {},
   "outputs": [],
   "source": [
    "def clear_card_number(card_number):\n",
    "  card_translation = str.maketrans({'-': '', ' ': ''})\n",
    "  return card_number.translate(card_translation)\n",
    "\n",
    "def verify_luhn(str_of_digits):\n",
    "  sum_of_odd_digits = 0\n",
    "  card_number_reversed = str_of_digits[::-1]\n",
    "  odd_digits = card_number_reversed[::2]\n",
    "\n",
    "  for digit in odd_digits:\n",
    "      sum_of_odd_digits += int(digit)\n",
    "\n",
    "  sum_of_even_digits = 0\n",
    "  even_digits = card_number_reversed[1::2]\n",
    "  for digit in even_digits:\n",
    "      number = int(digit) * 2\n",
    "      if number >= 10:\n",
    "          number = (number // 10) + (number % 10)\n",
    "      sum_of_even_digits += number\n",
    "  total = sum_of_odd_digits + sum_of_even_digits\n",
    "  return total % 10 == 0"
   ]
  },
  {
   "cell_type": "code",
   "execution_count": null,
   "metadata": {},
   "outputs": [],
   "source": [
    "card_number = '4111-1111-4555-1142'\n",
    "clean = clear_card_number(card_number)\n",
    "verify_luhn(clean)\n"
   ]
  },
  {
   "cell_type": "code",
   "execution_count": null,
   "metadata": {},
   "outputs": [],
   "source": [
    "card_number = '4111-1111-4555-1143'\n",
    "clean = clear_card_number(card_number)\n",
    "verify_luhn(clean)"
   ]
  },
  {
   "cell_type": "markdown",
   "metadata": {},
   "source": [
    "### Можно ли написать лучше?\n",
    "\n",
    "Вариант решения в функциональном стиле:"
   ]
  },
  {
   "cell_type": "code",
   "execution_count": 111,
   "metadata": {},
   "outputs": [],
   "source": [
    "from functools import reduce\n",
    "\n",
    "def compress(digit):\n",
    "  return (digit // 10) + (digit % 10) if digit > 9 else digit\n",
    "\n",
    "def verify_luhn2(str_of_digits):\n",
    "  ints = list(map(lambda c: int(c), clean[::-1]))\n",
    "  sum = reduce(lambda acc, pair: acc + (compress(pair[1]*2) if pair[0] % 2 == 0 else pair[1]), enumerate(ints, 1), 0)\n",
    "  return sum % 10 == 0"
   ]
  },
  {
   "cell_type": "code",
   "execution_count": null,
   "metadata": {},
   "outputs": [],
   "source": [
    "card_number = '4111-1111-4555-1142'\n",
    "clean = clear_card_number(card_number)\n",
    "verify_luhn2(clean)"
   ]
  },
  {
   "cell_type": "code",
   "execution_count": null,
   "metadata": {},
   "outputs": [],
   "source": [
    "card_number = '4111-1111-4555-1143'\n",
    "clean = clear_card_number(card_number)\n",
    "verify_luhn2(clean)"
   ]
  }
 ],
 "metadata": {
  "kernelspec": {
   "display_name": "mlmethods",
   "language": "python",
   "name": "python3"
  },
  "language_info": {
   "codemirror_mode": {
    "name": "ipython",
    "version": 3
   },
   "file_extension": ".py",
   "mimetype": "text/x-python",
   "name": "python",
   "nbconvert_exporter": "python",
   "pygments_lexer": "ipython3",
   "version": "3.11.9"
  }
 },
 "nbformat": 4,
 "nbformat_minor": 2
}
